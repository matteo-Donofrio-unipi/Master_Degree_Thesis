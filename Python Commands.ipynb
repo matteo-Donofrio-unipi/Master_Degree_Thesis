{
 "cells": [
  {
   "cell_type": "code",
   "execution_count": 1,
   "metadata": {},
   "outputs": [
    {
     "name": "stderr",
     "output_type": "stream",
     "text": [
      "C:\\Users\\allen\\anaconda3\\lib\\site-packages\\pandas\\core\\computation\\expressions.py:20: UserWarning: Pandas requires version '2.7.3' or newer of 'numexpr' (version '2.7.1' currently installed).\n",
      "  from pandas.core.computation.check import NUMEXPR_INSTALLED\n"
     ]
    }
   ],
   "source": [
    "import numpy as np\n",
    "from datetime import datetime, date, time\n",
    "import pandas as pd"
   ]
  },
  {
   "cell_type": "code",
   "execution_count": 3,
   "metadata": {},
   "outputs": [
    {
     "data": {
      "text/plain": [
       "True"
      ]
     },
     "execution_count": 3,
     "metadata": {},
     "output_type": "execute_result"
    }
   ],
   "source": [
    "#SINGLE VALUE IN PYTHON LIST\n",
    "l = [10,1]\n",
    "1 in l"
   ]
  },
  {
   "cell_type": "code",
   "execution_count": null,
   "metadata": {},
   "outputs": [],
   "source": [
    "#WHOLE PANDAS COLUMN IN PYTHON LIST\n",
    "s['ColumnName'].isin(listname).all()"
   ]
  },
  {
   "cell_type": "code",
   "execution_count": null,
   "metadata": {},
   "outputs": [],
   "source": [
    "#PANDAS ROWS BY CONDITION IN OTHER PANDAS ROWS\n",
    "\n",
    "caricati[caricati['NodeId']==VALORE] #standard approach\n",
    "\n",
    "#condition tested in another df\n",
    "caricati[caricati['NodeId'].isin(sub_df['ToNodeId'].values)]['msgIdTangle'].values[0] "
   ]
  },
  {
   "cell_type": "code",
   "execution_count": 4,
   "metadata": {},
   "outputs": [
    {
     "ename": "NameError",
     "evalue": "name 'df' is not defined",
     "output_type": "error",
     "traceback": [
      "\u001b[1;31m---------------------------------------------------------------------------\u001b[0m",
      "\u001b[1;31mNameError\u001b[0m                                 Traceback (most recent call last)",
      "\u001b[1;32m<ipython-input-4-b05a63a9b471>\u001b[0m in \u001b[0;36m<module>\u001b[1;34m\u001b[0m\n\u001b[0;32m      1\u001b[0m \u001b[1;31m#PRINT LAST X VALUES\u001b[0m\u001b[1;33m\u001b[0m\u001b[1;33m\u001b[0m\u001b[1;33m\u001b[0m\u001b[0m\n\u001b[1;32m----> 2\u001b[1;33m \u001b[0mdf\u001b[0m\u001b[1;33m.\u001b[0m\u001b[0mtail\u001b[0m\u001b[1;33m(\u001b[0m\u001b[0mX\u001b[0m\u001b[1;33m)\u001b[0m\u001b[1;33m\u001b[0m\u001b[1;33m\u001b[0m\u001b[0m\n\u001b[0m",
      "\u001b[1;31mNameError\u001b[0m: name 'df' is not defined"
     ]
    }
   ],
   "source": [
    "#PRINT LAST X VALUES\n",
    "df.tail(X)"
   ]
  },
  {
   "cell_type": "code",
   "execution_count": null,
   "metadata": {},
   "outputs": [],
   "source": [
    "#RESET INDEX TO DF\n",
    "s.reset_index(drop = True, inplace = True)"
   ]
  },
  {
   "cell_type": "code",
   "execution_count": 8,
   "metadata": {},
   "outputs": [
    {
     "data": {
      "text/html": [
       "<div>\n",
       "<style scoped>\n",
       "    .dataframe tbody tr th:only-of-type {\n",
       "        vertical-align: middle;\n",
       "    }\n",
       "\n",
       "    .dataframe tbody tr th {\n",
       "        vertical-align: top;\n",
       "    }\n",
       "\n",
       "    .dataframe thead th {\n",
       "        text-align: right;\n",
       "    }\n",
       "</style>\n",
       "<table border=\"1\" class=\"dataframe\">\n",
       "  <thead>\n",
       "    <tr style=\"text-align: right;\">\n",
       "      <th></th>\n",
       "      <th>NodeId</th>\n",
       "      <th>msgIdTangle</th>\n",
       "    </tr>\n",
       "  </thead>\n",
       "  <tbody>\n",
       "    <tr>\n",
       "      <th>0</th>\n",
       "      <td>a</td>\n",
       "      <td>valore</td>\n",
       "    </tr>\n",
       "    <tr>\n",
       "      <th>1</th>\n",
       "      <td>a</td>\n",
       "      <td>valore</td>\n",
       "    </tr>\n",
       "    <tr>\n",
       "      <th>2</th>\n",
       "      <td>b</td>\n",
       "      <td>valore2</td>\n",
       "    </tr>\n",
       "  </tbody>\n",
       "</table>\n",
       "</div>"
      ],
      "text/plain": [
       "  NodeId msgIdTangle\n",
       "0      a      valore\n",
       "1      a      valore\n",
       "2      b     valore2"
      ]
     },
     "execution_count": 8,
     "metadata": {},
     "output_type": "execute_result"
    }
   ],
   "source": [
    "#ADD DINAMICALLY ROWS TO DF AND ACCESS TO THEM\n",
    "caricati = pd.DataFrame(columns=['NodeId','msgIdTangle']) #definisco df\n",
    "\n",
    "last = len(caricati)\n",
    "\n",
    "caricati.loc[last,'NodeId'] = 'a' #aggiungo valori\n",
    "caricati.loc[last,'msgIdTangle'] = 'valore'\n",
    "\n",
    "last = len(caricati)\n",
    "\n",
    "caricati.loc[last,'NodeId'] = 'a' #aggiungo valori\n",
    "caricati.loc[last,'msgIdTangle'] = 'valore'\n",
    "\n",
    "last = len(caricati)\n",
    "\n",
    "caricati.loc[last,'NodeId'] = 'b' #aggiungo valori\n",
    "caricati.loc[last,'msgIdTangle'] = 'valore2'\n",
    "\n",
    "\n",
    "caricati"
   ]
  },
  {
   "cell_type": "code",
   "execution_count": 14,
   "metadata": {},
   "outputs": [
    {
     "data": {
      "text/plain": [
       "'a'"
      ]
     },
     "execution_count": 14,
     "metadata": {},
     "output_type": "execute_result"
    }
   ],
   "source": [
    "#GET UNIQUE VALUES FROM DATAFRAME COLUMN\n",
    "q = caricati[caricati['NodeId']=='a']['NodeId']\n",
    "np.unique(q.values)[0]"
   ]
  },
  {
   "cell_type": "code",
   "execution_count": 5,
   "metadata": {},
   "outputs": [
    {
     "name": "stdout",
     "output_type": "stream",
     "text": [
      "a\n",
      "b\n"
     ]
    }
   ],
   "source": [
    "#SCAN VALUES IN LIST\n",
    "ll = ['a','b']\n",
    "for i in ll:\n",
    "    print(i)"
   ]
  },
  {
   "cell_type": "code",
   "execution_count": 18,
   "metadata": {},
   "outputs": [
    {
     "data": {
      "text/plain": [
       "['b']"
      ]
     },
     "execution_count": 18,
     "metadata": {},
     "output_type": "execute_result"
    }
   ],
   "source": [
    "#REMOVE ELEMENT FROM LIST\n",
    "ll.remove('a')\n",
    "ll"
   ]
  },
  {
   "cell_type": "code",
   "execution_count": 21,
   "metadata": {},
   "outputs": [
    {
     "name": "stdout",
     "output_type": "stream",
     "text": [
      "[1 2 3 4]\n",
      "[2 3 4]\n"
     ]
    }
   ],
   "source": [
    "#NUMPY UNIQUE AND DELETE\n",
    "res = np.unique([1,2,4,3,2,1,4,2,4])\n",
    "print(res)\n",
    "res = np.delete(res, np.argwhere(res == 1))\n",
    "print(res)"
   ]
  },
  {
   "cell_type": "code",
   "execution_count": 46,
   "metadata": {},
   "outputs": [
    {
     "data": {
      "text/html": [
       "<div>\n",
       "<style scoped>\n",
       "    .dataframe tbody tr th:only-of-type {\n",
       "        vertical-align: middle;\n",
       "    }\n",
       "\n",
       "    .dataframe tbody tr th {\n",
       "        vertical-align: top;\n",
       "    }\n",
       "\n",
       "    .dataframe thead th {\n",
       "        text-align: right;\n",
       "    }\n",
       "</style>\n",
       "<table border=\"1\" class=\"dataframe\">\n",
       "  <thead>\n",
       "    <tr style=\"text-align: right;\">\n",
       "      <th></th>\n",
       "      <th>Autore1</th>\n",
       "      <th>Autore2</th>\n",
       "    </tr>\n",
       "  </thead>\n",
       "  <tbody>\n",
       "    <tr>\n",
       "      <th>Autore1</th>\n",
       "      <td>si</td>\n",
       "      <td>no</td>\n",
       "    </tr>\n",
       "    <tr>\n",
       "      <th>Autore2</th>\n",
       "      <td>si</td>\n",
       "      <td>no</td>\n",
       "    </tr>\n",
       "    <tr>\n",
       "      <th>Autore3</th>\n",
       "      <td>no</td>\n",
       "      <td>no</td>\n",
       "    </tr>\n",
       "    <tr>\n",
       "      <th>Autore4</th>\n",
       "      <td>nn</td>\n",
       "      <td>nn</td>\n",
       "    </tr>\n",
       "  </tbody>\n",
       "</table>\n",
       "</div>"
      ],
      "text/plain": [
       "        Autore1 Autore2\n",
       "Autore1      si      no\n",
       "Autore2      si      no\n",
       "Autore3      no      no\n",
       "Autore4      nn      nn"
      ]
     },
     "execution_count": 46,
     "metadata": {},
     "output_type": "execute_result"
    }
   ],
   "source": [
    "#USO CLASSICO DI DB SU PANDAS\n",
    "\n",
    "database = pd.DataFrame(columns=['Autore1','Autore2']) #definisco df\n",
    "\n",
    "\n",
    "\n",
    "database.loc['Autore1','Autore1'] = 'si' #aggiungo valori\n",
    "database.loc['Autore1','Autore2'] = 'no'\n",
    "\n",
    "database.loc['Autore2','Autore1'] = 'si' #aggiungo valori\n",
    "database.loc['Autore2','Autore2'] = 'no'\n",
    "\n",
    "database.loc['Autore3','Autore1'] = 'no' #aggiungo valori\n",
    "database.loc['Autore3','Autore2'] = 'no'\n",
    "\n",
    "database.loc['Autore4','Autore1'] = 'nn' #aggiungo valori\n",
    "database.loc['Autore4','Autore2'] = 'nn'\n",
    "\n",
    "database"
   ]
  },
  {
   "cell_type": "code",
   "execution_count": 47,
   "metadata": {},
   "outputs": [
    {
     "data": {
      "text/plain": [
       "(array(['nn', 'no', 'si'], dtype=object), array([1, 1, 2], dtype=int64))"
      ]
     },
     "execution_count": 47,
     "metadata": {},
     "output_type": "execute_result"
    }
   ],
   "source": [
    "#NUMPY UNIQUE VALUE COUNT\n",
    "res = np.unique(database.Autore1.values,return_counts=True)\n",
    "res"
   ]
  },
  {
   "cell_type": "code",
   "execution_count": 49,
   "metadata": {},
   "outputs": [
    {
     "name": "stdout",
     "output_type": "stream",
     "text": [
      "nn\n",
      "1\n",
      "\n",
      "no\n",
      "1\n",
      "\n",
      "si\n",
      "2\n",
      "\n"
     ]
    }
   ],
   "source": [
    "#NUMPY ACCESS TO UNIQUE VALUES COUNT\n",
    "for i in range(len(res[0])):\n",
    "    print(res[0][i])\n",
    "    print(res[1][i])\n",
    "    print('')"
   ]
  },
  {
   "cell_type": "code",
   "execution_count": 51,
   "metadata": {},
   "outputs": [],
   "source": [
    "#df to txt\n",
    "\n",
    "database = pd.DataFrame(columns=['Autore1','Autore2']) #definisco df\n",
    "\n",
    "\n",
    "\n",
    "database.loc['Autore1','Autore1'] = 'si' #aggiungo valori\n",
    "database.loc['Autore1','Autore2'] = 'no'\n",
    "\n",
    "np.savetxt(r'./valori.txt', database.values, fmt='%s')"
   ]
  },
  {
   "cell_type": "code",
   "execution_count": null,
   "metadata": {},
   "outputs": [],
   "source": [
    "#LAST X ROWS OF DF\n",
    "df.tail(X)"
   ]
  },
  {
   "cell_type": "code",
   "execution_count": null,
   "metadata": {},
   "outputs": [],
   "source": []
  }
 ],
 "metadata": {
  "kernelspec": {
   "display_name": "Python 3",
   "language": "python",
   "name": "python3"
  },
  "language_info": {
   "codemirror_mode": {
    "name": "ipython",
    "version": 3
   },
   "file_extension": ".py",
   "mimetype": "text/x-python",
   "name": "python",
   "nbconvert_exporter": "python",
   "pygments_lexer": "ipython3",
   "version": "3.8.5"
  }
 },
 "nbformat": 4,
 "nbformat_minor": 4
}
