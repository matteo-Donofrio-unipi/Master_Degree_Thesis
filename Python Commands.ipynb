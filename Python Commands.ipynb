{
 "cells": [
  {
   "cell_type": "code",
   "execution_count": 4,
   "metadata": {},
   "outputs": [],
   "source": [
    "import numpy as np\n",
    "from datetime import datetime, date, time\n",
    "import pandas as pd"
   ]
  },
  {
   "cell_type": "code",
   "execution_count": 3,
   "metadata": {},
   "outputs": [
    {
     "data": {
      "text/plain": [
       "True"
      ]
     },
     "execution_count": 3,
     "metadata": {},
     "output_type": "execute_result"
    }
   ],
   "source": [
    "#SINGLE VALUE IN PYTHON LIST\n",
    "l = [10,1]\n",
    "1 in l"
   ]
  },
  {
   "cell_type": "code",
   "execution_count": null,
   "metadata": {},
   "outputs": [],
   "source": [
    "#WHOLE PANDAS COLUMN IN PYTHON LIST\n",
    "s['ColumnName'].isin(listname).all()"
   ]
  },
  {
   "cell_type": "code",
   "execution_count": null,
   "metadata": {},
   "outputs": [],
   "source": [
    "#PANDAS ROWS BY CONDITION IN OTHER PANDAS ROWS\n",
    "\n",
    "caricati[caricati['NodeId']==VALORE] #standard approach\n",
    "\n",
    "#condition tested in another df\n",
    "caricati[caricati['NodeId'].isin(sub_df['ToNodeId'].values)]['msgIdTangle'].values[0] "
   ]
  },
  {
   "cell_type": "code",
   "execution_count": 4,
   "metadata": {},
   "outputs": [
    {
     "ename": "NameError",
     "evalue": "name 'df' is not defined",
     "output_type": "error",
     "traceback": [
      "\u001b[1;31m---------------------------------------------------------------------------\u001b[0m",
      "\u001b[1;31mNameError\u001b[0m                                 Traceback (most recent call last)",
      "\u001b[1;32m<ipython-input-4-b05a63a9b471>\u001b[0m in \u001b[0;36m<module>\u001b[1;34m\u001b[0m\n\u001b[0;32m      1\u001b[0m \u001b[1;31m#PRINT LAST X VALUES\u001b[0m\u001b[1;33m\u001b[0m\u001b[1;33m\u001b[0m\u001b[1;33m\u001b[0m\u001b[0m\n\u001b[1;32m----> 2\u001b[1;33m \u001b[0mdf\u001b[0m\u001b[1;33m.\u001b[0m\u001b[0mtail\u001b[0m\u001b[1;33m(\u001b[0m\u001b[0mX\u001b[0m\u001b[1;33m)\u001b[0m\u001b[1;33m\u001b[0m\u001b[1;33m\u001b[0m\u001b[0m\n\u001b[0m",
      "\u001b[1;31mNameError\u001b[0m: name 'df' is not defined"
     ]
    }
   ],
   "source": [
    "#PRINT LAST X VALUES\n",
    "df.tail(X)"
   ]
  },
  {
   "cell_type": "code",
   "execution_count": null,
   "metadata": {},
   "outputs": [],
   "source": [
    "#RESET INDEX TO DF\n",
    "s.reset_index(drop = True, inplace = True)"
   ]
  },
  {
   "cell_type": "code",
   "execution_count": 8,
   "metadata": {},
   "outputs": [
    {
     "data": {
      "text/html": [
       "<div>\n",
       "<style scoped>\n",
       "    .dataframe tbody tr th:only-of-type {\n",
       "        vertical-align: middle;\n",
       "    }\n",
       "\n",
       "    .dataframe tbody tr th {\n",
       "        vertical-align: top;\n",
       "    }\n",
       "\n",
       "    .dataframe thead th {\n",
       "        text-align: right;\n",
       "    }\n",
       "</style>\n",
       "<table border=\"1\" class=\"dataframe\">\n",
       "  <thead>\n",
       "    <tr style=\"text-align: right;\">\n",
       "      <th></th>\n",
       "      <th>NodeId</th>\n",
       "      <th>msgIdTangle</th>\n",
       "    </tr>\n",
       "  </thead>\n",
       "  <tbody>\n",
       "    <tr>\n",
       "      <th>0</th>\n",
       "      <td>a</td>\n",
       "      <td>valore</td>\n",
       "    </tr>\n",
       "    <tr>\n",
       "      <th>1</th>\n",
       "      <td>a</td>\n",
       "      <td>valore</td>\n",
       "    </tr>\n",
       "    <tr>\n",
       "      <th>2</th>\n",
       "      <td>b</td>\n",
       "      <td>valore2</td>\n",
       "    </tr>\n",
       "  </tbody>\n",
       "</table>\n",
       "</div>"
      ],
      "text/plain": [
       "  NodeId msgIdTangle\n",
       "0      a      valore\n",
       "1      a      valore\n",
       "2      b     valore2"
      ]
     },
     "execution_count": 8,
     "metadata": {},
     "output_type": "execute_result"
    }
   ],
   "source": [
    "#ADD DINAMICALLY ROWS TO DF AND ACCESS TO THEM\n",
    "caricati = pd.DataFrame(columns=['NodeId','msgIdTangle']) #definisco df\n",
    "\n",
    "last = len(caricati)\n",
    "\n",
    "caricati.loc[last,'NodeId'] = 'a' #aggiungo valori\n",
    "caricati.loc[last,'msgIdTangle'] = 'valore'\n",
    "\n",
    "last = len(caricati)\n",
    "\n",
    "caricati.loc[last,'NodeId'] = 'a' #aggiungo valori\n",
    "caricati.loc[last,'msgIdTangle'] = 'valore'\n",
    "\n",
    "last = len(caricati)\n",
    "\n",
    "caricati.loc[last,'NodeId'] = 'b' #aggiungo valori\n",
    "caricati.loc[last,'msgIdTangle'] = 'valore2'\n",
    "\n",
    "\n",
    "caricati"
   ]
  },
  {
   "cell_type": "code",
   "execution_count": 14,
   "metadata": {},
   "outputs": [
    {
     "data": {
      "text/plain": [
       "'a'"
      ]
     },
     "execution_count": 14,
     "metadata": {},
     "output_type": "execute_result"
    }
   ],
   "source": [
    "#GET UNIQUE VALUES FROM DATAFRAME COLUMN\n",
    "q = caricati[caricati['NodeId']=='a']['NodeId']\n",
    "np.unique(q.values)[0]"
   ]
  },
  {
   "cell_type": "code",
   "execution_count": 5,
   "metadata": {},
   "outputs": [
    {
     "name": "stdout",
     "output_type": "stream",
     "text": [
      "a\n",
      "b\n"
     ]
    }
   ],
   "source": [
    "#SCAN VALUES IN LIST\n",
    "ll = ['a','b']\n",
    "for i in ll:\n",
    "    print(i)"
   ]
  },
  {
   "cell_type": "code",
   "execution_count": 18,
   "metadata": {},
   "outputs": [
    {
     "data": {
      "text/plain": [
       "['b']"
      ]
     },
     "execution_count": 18,
     "metadata": {},
     "output_type": "execute_result"
    }
   ],
   "source": [
    "#REMOVE ELEMENT FROM LIST\n",
    "ll.remove('a')\n",
    "ll"
   ]
  },
  {
   "cell_type": "code",
   "execution_count": 21,
   "metadata": {},
   "outputs": [
    {
     "name": "stdout",
     "output_type": "stream",
     "text": [
      "[1 2 3 4]\n",
      "[2 3 4]\n"
     ]
    }
   ],
   "source": [
    "#NUMPY UNIQUE AND DELETE\n",
    "res = np.unique([1,2,4,3,2,1,4,2,4])\n",
    "print(res)\n",
    "res = np.delete(res, np.argwhere(res == 1))\n",
    "print(res)"
   ]
  },
  {
   "cell_type": "code",
   "execution_count": 46,
   "metadata": {},
   "outputs": [
    {
     "data": {
      "text/html": [
       "<div>\n",
       "<style scoped>\n",
       "    .dataframe tbody tr th:only-of-type {\n",
       "        vertical-align: middle;\n",
       "    }\n",
       "\n",
       "    .dataframe tbody tr th {\n",
       "        vertical-align: top;\n",
       "    }\n",
       "\n",
       "    .dataframe thead th {\n",
       "        text-align: right;\n",
       "    }\n",
       "</style>\n",
       "<table border=\"1\" class=\"dataframe\">\n",
       "  <thead>\n",
       "    <tr style=\"text-align: right;\">\n",
       "      <th></th>\n",
       "      <th>Autore1</th>\n",
       "      <th>Autore2</th>\n",
       "    </tr>\n",
       "  </thead>\n",
       "  <tbody>\n",
       "    <tr>\n",
       "      <th>Autore1</th>\n",
       "      <td>si</td>\n",
       "      <td>no</td>\n",
       "    </tr>\n",
       "    <tr>\n",
       "      <th>Autore2</th>\n",
       "      <td>si</td>\n",
       "      <td>no</td>\n",
       "    </tr>\n",
       "    <tr>\n",
       "      <th>Autore3</th>\n",
       "      <td>no</td>\n",
       "      <td>no</td>\n",
       "    </tr>\n",
       "    <tr>\n",
       "      <th>Autore4</th>\n",
       "      <td>nn</td>\n",
       "      <td>nn</td>\n",
       "    </tr>\n",
       "  </tbody>\n",
       "</table>\n",
       "</div>"
      ],
      "text/plain": [
       "        Autore1 Autore2\n",
       "Autore1      si      no\n",
       "Autore2      si      no\n",
       "Autore3      no      no\n",
       "Autore4      nn      nn"
      ]
     },
     "execution_count": 46,
     "metadata": {},
     "output_type": "execute_result"
    }
   ],
   "source": [
    "#USO CLASSICO DI DB SU PANDAS\n",
    "\n",
    "database = pd.DataFrame(columns=['Autore1','Autore2']) #definisco df\n",
    "\n",
    "\n",
    "\n",
    "database.loc['Autore1','Autore1'] = 'si' #aggiungo valori\n",
    "database.loc['Autore1','Autore2'] = 'no'\n",
    "\n",
    "database.loc['Autore2','Autore1'] = 'si' #aggiungo valori\n",
    "database.loc['Autore2','Autore2'] = 'no'\n",
    "\n",
    "database.loc['Autore3','Autore1'] = 'no' #aggiungo valori\n",
    "database.loc['Autore3','Autore2'] = 'no'\n",
    "\n",
    "database.loc['Autore4','Autore1'] = 'nn' #aggiungo valori\n",
    "database.loc['Autore4','Autore2'] = 'nn'\n",
    "\n",
    "database"
   ]
  },
  {
   "cell_type": "code",
   "execution_count": 47,
   "metadata": {},
   "outputs": [
    {
     "data": {
      "text/plain": [
       "(array(['nn', 'no', 'si'], dtype=object), array([1, 1, 2], dtype=int64))"
      ]
     },
     "execution_count": 47,
     "metadata": {},
     "output_type": "execute_result"
    }
   ],
   "source": [
    "#NUMPY UNIQUE VALUE COUNT\n",
    "res = np.unique(database.Autore1.values,return_counts=True)\n",
    "res"
   ]
  },
  {
   "cell_type": "code",
   "execution_count": 49,
   "metadata": {},
   "outputs": [
    {
     "name": "stdout",
     "output_type": "stream",
     "text": [
      "nn\n",
      "1\n",
      "\n",
      "no\n",
      "1\n",
      "\n",
      "si\n",
      "2\n",
      "\n"
     ]
    }
   ],
   "source": [
    "#NUMPY ACCESS TO UNIQUE VALUES COUNT\n",
    "for i in range(len(res[0])):\n",
    "    print(res[0][i])\n",
    "    print(res[1][i])\n",
    "    print('')"
   ]
  },
  {
   "cell_type": "code",
   "execution_count": 51,
   "metadata": {},
   "outputs": [],
   "source": [
    "#df to txt\n",
    "\n",
    "database = pd.DataFrame(columns=['Autore1','Autore2']) #definisco df\n",
    "\n",
    "\n",
    "\n",
    "database.loc['Autore1','Autore1'] = 'si' #aggiungo valori\n",
    "database.loc['Autore1','Autore2'] = 'no'\n",
    "\n",
    "np.savetxt(r'./valori.txt', database.values, fmt='%s')"
   ]
  },
  {
   "cell_type": "code",
   "execution_count": null,
   "metadata": {},
   "outputs": [],
   "source": [
    "#LAST X ROWS OF DF\n",
    "df.tail(X)"
   ]
  },
  {
   "cell_type": "code",
   "execution_count": 65,
   "metadata": {},
   "outputs": [
    {
     "name": "stdout",
     "output_type": "stream",
     "text": [
      "  NodeId msgIdTangle\n",
      "0      a      valore\n",
      "1      b     valore2\n",
      "False\n",
      "True\n"
     ]
    }
   ],
   "source": [
    "#NOT IN\n",
    "caricati1 = pd.DataFrame(columns=['NodeId','msgIdTangle']) #definisco df\n",
    "\n",
    "last = len(caricati1)\n",
    "\n",
    "caricati1.loc[last,'NodeId'] = 'a' #aggiungo valori\n",
    "caricati1.loc[last,'msgIdTangle'] = 'valore'\n",
    "\n",
    "last = len(caricati1)\n",
    "\n",
    "caricati1.loc[last,'NodeId'] = 'b' #aggiungo valori\n",
    "caricati1.loc[last,'msgIdTangle'] = 'valore2'\n",
    "\n",
    "print(caricati1)\n",
    "\n",
    "print('a' not in caricati1['NodeId'].values)\n",
    "print('c' not in caricati1['NodeId'].values)\n",
    "\n"
   ]
  },
  {
   "cell_type": "code",
   "execution_count": 70,
   "metadata": {},
   "outputs": [
    {
     "name": "stdout",
     "output_type": "stream",
     "text": [
      "1\n",
      "0\n"
     ]
    }
   ],
   "source": [
    "#REVERSE FOR \n",
    "for i in range(len(caricati1)-1,-1,-1):\n",
    "    print(i)"
   ]
  },
  {
   "cell_type": "code",
   "execution_count": null,
   "metadata": {},
   "outputs": [],
   "source": [
    "#READ NUMPY TXT FILE\n",
    "AM_matrix = np.loadtxt('./AM_Matrix.txt')"
   ]
  },
  {
   "cell_type": "code",
   "execution_count": null,
   "metadata": {},
   "outputs": [],
   "source": [
    "#RENAME A COLUMN\n",
    "DF.rename(columns={'old':'new'}, inplace = True)"
   ]
  },
  {
   "cell_type": "code",
   "execution_count": 71,
   "metadata": {},
   "outputs": [
    {
     "data": {
      "text/plain": [
       "matrix([[0, 1, 2],\n",
       "        [2, 0, 3],\n",
       "        [1, 1, 0]])"
      ]
     },
     "execution_count": 71,
     "metadata": {},
     "output_type": "execute_result"
    }
   ],
   "source": [
    "#EASY WAY TO DEF NP MATRIX\n",
    "Mat = np.matrix('0 1 2; 2 0 3 ; 1 1 0')\n",
    "Mat"
   ]
  },
  {
   "cell_type": "code",
   "execution_count": null,
   "metadata": {},
   "outputs": [],
   "source": [
    "#DF QUERY ON VALUES\n",
    "df.query('attribute == attribute.max()')"
   ]
  },
  {
   "cell_type": "code",
   "execution_count": 80,
   "metadata": {},
   "outputs": [
    {
     "data": {
      "text/plain": [
       "True"
      ]
     },
     "execution_count": 80,
     "metadata": {},
     "output_type": "execute_result"
    }
   ],
   "source": [
    "#ASSIGN AND CHECK NaN VALUE\n",
    "import math\n",
    "a = float(\"NaN\")\n",
    "math.isnan(a)"
   ]
  },
  {
   "cell_type": "code",
   "execution_count": 1,
   "metadata": {},
   "outputs": [
    {
     "name": "stdout",
     "output_type": "stream",
     "text": [
      "4.859999990003416e-05\n"
     ]
    }
   ],
   "source": [
    "#TIME ESTIMATION\n",
    "from timeit import default_timer as timer\n",
    "start = timer()\n",
    "end = timer()\n",
    "print(end - start)"
   ]
  },
  {
   "cell_type": "code",
   "execution_count": null,
   "metadata": {},
   "outputs": [],
   "source": [
    "#STRING SPLIT BY CHAR\n",
    "splitted = da_splittare.split(\"\\n \")\n",
    "splitted"
   ]
  },
  {
   "cell_type": "code",
   "execution_count": 2,
   "metadata": {},
   "outputs": [
    {
     "ename": "NameError",
     "evalue": "name 'stringa' is not defined",
     "output_type": "error",
     "traceback": [
      "\u001b[1;31m---------------------------------------------------------------------------\u001b[0m",
      "\u001b[1;31mNameError\u001b[0m                                 Traceback (most recent call last)",
      "\u001b[1;32m<ipython-input-2-ad1a43c8b2b0>\u001b[0m in \u001b[0;36m<module>\u001b[1;34m\u001b[0m\n\u001b[0;32m      1\u001b[0m \u001b[1;31m#STRING CONTAINS\u001b[0m\u001b[1;33m\u001b[0m\u001b[1;33m\u001b[0m\u001b[1;33m\u001b[0m\u001b[0m\n\u001b[1;32m----> 2\u001b[1;33m \u001b[1;34m'-'\u001b[0m \u001b[1;32min\u001b[0m \u001b[0mstringa\u001b[0m\u001b[1;33m\u001b[0m\u001b[1;33m\u001b[0m\u001b[0m\n\u001b[0m",
      "\u001b[1;31mNameError\u001b[0m: name 'stringa' is not defined"
     ]
    }
   ],
   "source": [
    "#STRING CONTAINS\n",
    "'-' in stringa"
   ]
  },
  {
   "cell_type": "code",
   "execution_count": null,
   "metadata": {},
   "outputs": [],
   "source": [
    "#ADD NEW COLUMN TO DF\n",
    "E_matrix['NUOVA_COLONNA'] = new_values"
   ]
  },
  {
   "cell_type": "code",
   "execution_count": null,
   "metadata": {},
   "outputs": [],
   "source": [
    "#DROP ROW FROM DF IF USING LOC ON ENTRY\n",
    "E_matrix.drop(index = 'LOC ENTRY', inplace=True)"
   ]
  },
  {
   "cell_type": "code",
   "execution_count": null,
   "metadata": {},
   "outputs": [],
   "source": [
    "#DROP COLUMN FROM DF \n",
    "E_matrix = E_matrix.drop(['COLNAME1', 'COLNAME2'], axis=1)"
   ]
  },
  {
   "cell_type": "code",
   "execution_count": null,
   "metadata": {},
   "outputs": [],
   "source": [
    "#PLOT ZOOM \n",
    "plt.axis([x_min, x_max, y_min, y_max])"
   ]
  },
  {
   "cell_type": "code",
   "execution_count": null,
   "metadata": {},
   "outputs": [],
   "source": [
    "#BOX PLOT\n",
    "plt.boxplot(DB_AA.groupby(by='To_Author_Seed')['ToNodeId'].count().values)"
   ]
  },
  {
   "cell_type": "code",
   "execution_count": null,
   "metadata": {},
   "outputs": [],
   "source": [
    "#TILDE\n",
    "~"
   ]
  },
  {
   "cell_type": "code",
   "execution_count": null,
   "metadata": {},
   "outputs": [],
   "source": [
    "#PLOT MULTIPLE LINES\n",
    "plt.plot(x, y, label = \"line 1\")\n",
    "plt.plot(y, x, label = \"line 2\")\n",
    "plt.legend()\n",
    "plt.show()"
   ]
  },
  {
   "cell_type": "code",
   "execution_count": null,
   "metadata": {},
   "outputs": [],
   "source": [
    "#SET LABELS ON AXIS\n",
    "plt.xlabel('COMMUNITY')\n",
    "plt.ylabel('CITAZIONI')"
   ]
  },
  {
   "cell_type": "code",
   "execution_count": 2,
   "metadata": {},
   "outputs": [
    {
     "name": "stdout",
     "output_type": "stream",
     "text": [
      "0.33541019662496846\n"
     ]
    }
   ],
   "source": [
    "#COSINE SIMILARITY ONLY COMPUTING THE DISTANCE BETWEEN SYNTAX (POSITION AND OCCOURENCES OF WORDS)\n",
    "from strsimpy.cosine import Cosine\n",
    "\n",
    "cosine = Cosine(2)\n",
    "s0 = 'My sequence'\n",
    "s1 = 'My string'\n",
    "p0 = cosine.get_profile(s0)\n",
    "p1 = cosine.get_profile(s1)\n",
    "print(cosine.similarity_profiles(p0, p1))"
   ]
  },
  {
   "cell_type": "code",
   "execution_count": 3,
   "metadata": {},
   "outputs": [
    {
     "name": "stdout",
     "output_type": "stream",
     "text": [
      "  sentence_a   sentence_b  similarity\n",
      "0  My string  My sequence    0.947855\n"
     ]
    }
   ],
   "source": [
    "#COSINE SIMILARITY COMPUTING THE DISTANCE BETWEEN SEMANTIC (POSITION AND OCCOURENCES OF WORDS EXPLOTING A CORPUS AND AI)\n",
    "\n",
    "import pandas as pd\n",
    "import numpy as np\n",
    "import string\n",
    "import itertools\n",
    "import spacy\n",
    "\n",
    "# function to remove punctuation from text (input is a string)\n",
    "def clean_text(sentence):\n",
    "    \n",
    "    clean_sentence = \"\".join(l for l in sentence if l not in string.punctuation)\n",
    "    \n",
    "    return clean_sentence\n",
    "\n",
    "# function to calculate the cosine\n",
    "def cosine_similarity_calc(vec_1,vec_2):\n",
    "    \n",
    "    sim = np.dot(vec_1,vec_2)/(np.linalg.norm(vec_1)*np.linalg.norm(vec_2))\n",
    "    \n",
    "    return sim\n",
    "\n",
    "# function to calculate cosine similarity using word vectors (input is a series)\n",
    "def embeddings_similarity(sentences):\n",
    "    \n",
    "    # first we need to get data into | sentence_a | sentence_b | format\n",
    "    sentence_pairs = list(itertools.combinations(sentences, 2))\n",
    "    \n",
    "    sentence_a = [pair[0] for pair in sentence_pairs]\n",
    "    sentence_b = [pair[1] for pair in sentence_pairs]\n",
    "    \n",
    "    sentence_pairs_df = pd.DataFrame({'sentence_a':sentence_a, 'sentence_b':sentence_b})\n",
    "    \n",
    "    # get unique combinations of sentance_a and sentance_b\n",
    "    sentence_pairs_df = sentence_pairs_df.loc[\n",
    "        pd.DataFrame(\n",
    "            np.sort(sentence_pairs_df[['sentence_a', 'sentence_b']],1),\n",
    "            index=sentence_pairs_df.index\n",
    "        ).drop_duplicates(keep='first').index\n",
    "    ]\n",
    "\n",
    "    # remove instances where sentence a == sentence b\n",
    "    sentence_pairs_df = sentence_pairs_df[sentence_pairs_df['sentence_a'] != sentence_pairs_df['sentence_b']]\n",
    "    \n",
    "    # load word embeddings (will use these to convert sentence to vectors)\n",
    "    # Note you will need to run the following command (from cmd) to download embeddings: \n",
    "    # 'python -m spacy download en_core_web_lg'\n",
    "    embeddings = spacy.load('en_core_web_lg')\n",
    "    \n",
    "    # now we are ready to calculate the similarity\n",
    "    \n",
    "    sentence_pairs_df['similarity'] = sentence_pairs_df.apply(\n",
    "        lambda row: cosine_similarity_calc(\n",
    "            embeddings(clean_text(row['sentence_a'])).vector, \n",
    "            embeddings(clean_text(row['sentence_b'])).vector), \n",
    "        axis=1\n",
    "    )\n",
    "    \n",
    "    return sentence_pairs_df\n",
    "\n",
    "\n",
    "#NB: \n",
    "#−1 value will indicate strongly opposite vectors\n",
    "\n",
    "#0 independent (orthogonal) vectors\n",
    "\n",
    "#1 similar (positive co-linear) vectors. Intermediate values are used to assess the degree of similarity.\n",
    "\n",
    "\n",
    "# calculate similarity for sample sentences\n",
    "sentences = ['My string', 'My sequence']\n",
    "print(embeddings_similarity(sentences))"
   ]
  },
  {
   "cell_type": "code",
   "execution_count": null,
   "metadata": {},
   "outputs": [],
   "source": [
    "#STRING TO BYTE & REVERSE\n",
    "my_str = \"hello world\"\n",
    "my_str_as_bytes = str.encode(my_str)\n",
    "print(my_str_as_bytes)\n",
    "print(type(my_str_as_bytes)) # ensure it is byte representation\n",
    "my_decoded_str = my_str_as_bytes.decode()\n",
    "print(my_decoded_str)\n",
    "print(type(my_decoded_str))"
   ]
  },
  {
   "cell_type": "code",
   "execution_count": 15,
   "metadata": {},
   "outputs": [
    {
     "name": "stdout",
     "output_type": "stream",
     "text": [
      "    A      B\n",
      "1  si    boh\n",
      "2  no  forse\n"
     ]
    },
    {
     "data": {
      "text/html": [
       "<div>\n",
       "<style scoped>\n",
       "    .dataframe tbody tr th:only-of-type {\n",
       "        vertical-align: middle;\n",
       "    }\n",
       "\n",
       "    .dataframe tbody tr th {\n",
       "        vertical-align: top;\n",
       "    }\n",
       "\n",
       "    .dataframe thead th {\n",
       "        text-align: right;\n",
       "    }\n",
       "</style>\n",
       "<table border=\"1\" class=\"dataframe\">\n",
       "  <thead>\n",
       "    <tr style=\"text-align: right;\">\n",
       "      <th></th>\n",
       "      <th>A</th>\n",
       "      <th>B</th>\n",
       "    </tr>\n",
       "  </thead>\n",
       "  <tbody>\n",
       "    <tr>\n",
       "      <th>1</th>\n",
       "      <td>bohK</td>\n",
       "      <td>boh</td>\n",
       "    </tr>\n",
       "    <tr>\n",
       "      <th>2</th>\n",
       "      <td>forseK</td>\n",
       "      <td>forse</td>\n",
       "    </tr>\n",
       "  </tbody>\n",
       "</table>\n",
       "</div>"
      ],
      "text/plain": [
       "        A      B\n",
       "1    bohK    boh\n",
       "2  forseK  forse"
      ]
     },
     "execution_count": 15,
     "metadata": {},
     "output_type": "execute_result"
    }
   ],
   "source": [
    "#LAMBDA FUN\n",
    "\n",
    "#index => axis=0\n",
    "#columns => axis = 1\n",
    "database = pd.DataFrame(columns=['A','B']) #definisco df\n",
    "\n",
    "\n",
    "\n",
    "database.loc['1','A'] = 'si' #aggiungo valori\n",
    "database.loc['2','A'] = 'no'\n",
    "\n",
    "database.loc['1','B'] = 'boh' #aggiungo valori\n",
    "database.loc['2','B'] = 'forse'\n",
    "\n",
    "print(database)\n",
    "\n",
    "database['A'] = database['B'].apply(lambda row : row+'K')\n",
    "\n",
    "database"
   ]
  },
  {
   "cell_type": "code",
   "execution_count": null,
   "metadata": {},
   "outputs": [],
   "source": []
  }
 ],
 "metadata": {
  "kernelspec": {
   "display_name": "Python 3",
   "language": "python",
   "name": "python3"
  },
  "language_info": {
   "codemirror_mode": {
    "name": "ipython",
    "version": 3
   },
   "file_extension": ".py",
   "mimetype": "text/x-python",
   "name": "python",
   "nbconvert_exporter": "python",
   "pygments_lexer": "ipython3",
   "version": "3.8.5"
  }
 },
 "nbformat": 4,
 "nbformat_minor": 4
}
