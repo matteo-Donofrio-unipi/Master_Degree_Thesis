{
 "cells": [
  {
   "cell_type": "markdown",
   "metadata": {},
   "source": [
    "# call:\n",
    "* test su community detection: una community è identificata da utenti che si citano più tra loro che rispetto agli altri utenti al di fuori della community\n",
    "* test su PR spam attack:\n",
    "    * risultati positivi\n",
    "* implementazione della firma digitale per ogni articolo caricato:\n",
    "    * client che carica articolo, fa firma digiale sul contenuto con la private_key e pubblica la sua pub_key\n",
    "    * Analyzer fa verifica della firma verify(sign,pub_key) e se ok => processa messaggio, altrimenti lo skippa.\n",
    "    * Il codice del nodo non posso modificarlo e di conseguenza lui accetta tutto. Io comunque segnalo i messaggi verificati e  non\n",
    "    \n",
    "* proposta calcolo Veridicità-articolo(i):\n",
    "    *  a*[PR(auth_i)/PR_Max] + b*[#cit_entranti_i/#cit_entranti_Max] + c*[AVG(PR_auth_citano_i)] + d*[Communities value]\n",
    "    \n",
    "* Cos'è \"Communities value\". Proposta uso di communities: \n",
    "    * identifico le communities sul grafo composto da autori (dove calcolo PageRank)\n",
    "    * quando stimo veridicità di un articolo => calcolo distanza media tra "
   ]
  },
  {
   "cell_type": "markdown",
   "metadata": {},
   "source": [
    "# To_do:\n",
    "\n",
    "* attualmente #citazioni giornaliere limitate. Se limitassi #citazioni giornaliere verso ogni autore ?\n",
    "* CLI / web iterface per piattaforma ?\n",
    "* fare test su più macchine in parallelo geograficamente. Ora funziona con nodi in esecuzione più container paralleli isolati tra loro su cui si replica la tangle ed effettuano consenso"
   ]
  },
  {
   "cell_type": "code",
   "execution_count": null,
   "metadata": {},
   "outputs": [],
   "source": []
  }
 ],
 "metadata": {
  "kernelspec": {
   "display_name": "Python 3",
   "language": "python",
   "name": "python3"
  },
  "language_info": {
   "codemirror_mode": {
    "name": "ipython",
    "version": 3
   },
   "file_extension": ".py",
   "mimetype": "text/x-python",
   "name": "python",
   "nbconvert_exporter": "python",
   "pygments_lexer": "ipython3",
   "version": "3.8.5"
  }
 },
 "nbformat": 4,
 "nbformat_minor": 4
}
