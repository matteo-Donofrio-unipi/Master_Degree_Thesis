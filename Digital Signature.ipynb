{
 "cells": [
  {
   "cell_type": "markdown",
   "metadata": {},
   "source": [
    "The `RSA.generate()` method in Python's `pycryptodome` library generates random RSA key pairs (a public key and a corresponding private key). To understand how it avoids generating two identical keys, let's delve into the underlying process.\n",
    "\n",
    "1. **Random Number Generation**: Generating RSA keys involves generating large prime numbers. These prime numbers are chosen randomly, making it extremely unlikely that the same prime numbers will be chosen twice.\n",
    "\n",
    "2. **Probabilistic Primality Testing**: The `RSA.generate()` method uses a probabilistic primality test, specifically the Miller-Rabin primality test, to check if a number is prime. This test is not 100% guaranteed to detect primes, but it is very effective and significantly reduces the likelihood of composite numbers being mistaken for primes.\n",
    "\n",
    "3. **Key Length**: The security of RSA depends on the key length. Longer key lengths provide greater security but also increase the computational overhead. `RSA.generate()` requires specifying the desired key length, such as 2048 bits or 4096 bits. Longer key lengths increase the number of possible key combinations, making it even more improbable to generate identical keys.\n",
    "\n",
    "4. **Seed Initialization**: The random number generator used by `pycryptodome` is typically seeded with various sources of randomness from the operating system, such as system time, process ID, and other environmental factors. This helps ensure a good initial entropy pool and reduces the likelihood of generating the same key pairs on different runs of the program.\n",
    "\n",
    "Despite these precautions, it is essential to recognize that generating identical RSA keys is still theoretically possible, albeit extremely improbable. If the random number generator were to be compromised or suffer from inadequate entropy, it could potentially lead to the generation of identical keys.\n",
    "\n",
    "To mitigate these risks, it is crucial to use a secure and well-established cryptographic library like `pycryptodome`, keep the library and dependencies up-to-date, and ensure a good source of randomness during key generation. Additionally, key pairs should be kept confidential, and key management practices should be followed to minimize any security risks."
   ]
  },
  {
   "cell_type": "code",
   "execution_count": 1,
   "metadata": {},
   "outputs": [],
   "source": [
    "from cryptography.hazmat.primitives import serialization\n",
    "from cryptography.hazmat.primitives.asymmetric import rsa\n",
    "from cryptography.hazmat.primitives import hashes\n",
    "from cryptography.hazmat.primitives.asymmetric import padding\n",
    "from cryptography.hazmat.primitives import serialization\n",
    "\n",
    "private_key = rsa.generate_private_key(\n",
    "    public_exponent=65537,\n",
    "    key_size=2048,\n",
    ")\n",
    "\n",
    "#SERIALIZATION CAN ONLY BE USED TO WRITE/READ PRIVATE KEYS TO/FROM FILE, NOT TO SIGN DATA\n",
    "\n",
    "#SERIALIZE THE ENCRYPTED PRIVATE KEY\n",
    "private_encrypted_pem = private_key.private_bytes(\n",
    "   encoding=serialization.Encoding.PEM,\n",
    "   format=serialization.PrivateFormat.PKCS8,\n",
    "   encryption_algorithm=serialization.BestAvailableEncryption(b'mypassword')\n",
    ")\n",
    "\n",
    "\n",
    "#SERIALIZE THE PRIVATE KEY (WITH NO ENCRYPTION)\n",
    "private_pem = private_key.private_bytes(\n",
    "   encoding=serialization.Encoding.PEM,\n",
    "   format=serialization.PrivateFormat.TraditionalOpenSSL,\n",
    "   encryption_algorithm=serialization.NoEncryption()\n",
    ")\n",
    "\n",
    "\n",
    "#print(private_encrypted_pem.splitlines() == private_pem.splitlines()) == #FALSE\n",
    "\n",
    "\n",
    "with open(\"./privateKeyEncrypted.pem\", 'wb') as pem_out:\n",
    "        pem_out.write(private_encrypted_pem)\n",
    "\n",
    "with open(\"./privateKeyEncrypted.pem\", \"rb\") as key_file:\n",
    "    pr_key_encrypted = serialization.load_pem_private_key(\n",
    "        key_file.read(),\n",
    "        password=b'mypassword',\n",
    "    )\n",
    "\n",
    "\n",
    "with open(\"./privateKey.pem\", 'wb') as pem_out:\n",
    "        pem_out.write(private_pem)\n",
    "\n",
    "with open(\"./privatekey.pem\", \"rb\") as key_file:\n",
    "    pr_key = serialization.load_pem_private_key(\n",
    "        key_file.read(),\n",
    "        password=None,\n",
    "    )\n",
    "    \n",
    "    \n",
    "#MY KEYS ARE: pr_key_encrypted & pr_key\n"
   ]
  },
  {
   "cell_type": "code",
   "execution_count": 2,
   "metadata": {},
   "outputs": [
    {
     "name": "stdout",
     "output_type": "stream",
     "text": [
      "MIIBIjANBgkqhkiG9w0BAQEFAAOCAQ8AMIIBCgKCAQEAnSX7OMIrFE4Xgg0g9yl+Wc/82nncMP/MrGSKvslaHIERQMofih5Xjx/AFURLEJNzHjqlPJhNcSdviwtUuA8WYU3/OP28iVjQAURYoQDpd2/GgBr893qd2+ZsGJlYJH1plRKu01rUvACbmojyFxfpC6yq5yeYstatduVV+O+psj4ZXiV2ZV0tk8K8NiVH6b3I3wA/MhH4HZXNIGpoi6MrZNTWBbcox802GOV8HJAK5dZ5/b6gREwog2Z3WQTRXNhRDiC0o+YDlbAXKnwSGmM5HnxWXs+naZmAtyhM+9ko9wDLu8XCf0Nt+D2sSfsd/mvdXu9D1/H+ZA0KPZnfoERp3wIDAQAB\n",
      "392\n"
     ]
    }
   ],
   "source": [
    "pub_key = pr_key.public_key()\n",
    "\n",
    "\n",
    "#SERIALIZE THE PUBLIC KEY\n",
    "pem = pub_key.public_bytes(\n",
    "   encoding=serialization.Encoding.PEM,\n",
    "   format=serialization.PublicFormat.SubjectPublicKeyInfo\n",
    ")\n",
    "\n",
    "#print(pem.splitlines())\n",
    "\n",
    "#print(pem.decode().splitlines())\n",
    "\n",
    "author_pub_key = ''\n",
    "\n",
    "for i in pem.decode().splitlines():\n",
    "    if (i!='-----BEGIN PUBLIC KEY-----' and i!='-----END PUBLIC KEY-----' ):\n",
    "        author_pub_key += i\n",
    "    \n",
    "print(author_pub_key)\n",
    "print(len('MIIBIjANBgkqhkiG9w0BAQEFAAOCAQ8AMIIBCgKCAQEAxJek0uITyn0mzqCsCulOE2HFdkX95C5D6yy47COr7ab77b8gIDjh+SNZvREnynWp3I1nATZEX1o7iIBP18hMkNpPW5/AtH4WcX5PieVWh7ORlL/JR4dtRU2NQRcmOE0R6IMWjEIJ4V9WskdV//6gq1uo1kOajko5+WZxfvxuH5K++x6Jd5fcZxAgWtovByqEZuCrL+iDWdSJwyfwaiikV27ZGTsXf361DVEEU1R1Oebd5jBcibFSYrEk9VCZwAAuFRdy4MBM16ACLpecyoDkWFnyIZXmrb9XqVzWZ0GLFvHqmUXkfT2nHS0OXPr2tuyqzTBrl42qVcKHmHSMdKru3QIDAQAB'))"
   ]
  },
  {
   "cell_type": "code",
   "execution_count": 12,
   "metadata": {},
   "outputs": [],
   "source": [
    "file = open(\"DATA_MESSAGE.txt\", \"r\")\n",
    "data = file.read()\n",
    "file.close()\n",
    "#print(data)\n",
    "message = str.encode(data)\n",
    "signature = pr_key.sign(\n",
    "    message,\n",
    "    padding.PSS(\n",
    "        mgf=padding.MGF1(hashes.SHA256()),\n",
    "        salt_length=padding.PSS.MAX_LENGTH\n",
    "    ),\n",
    "    hashes.SHA256()\n",
    ")"
   ]
  },
  {
   "cell_type": "code",
   "execution_count": 17,
   "metadata": {},
   "outputs": [
    {
     "data": {
      "text/plain": [
       "b'A_\\x80\\xd2N\\x02\\xbb\\xe30@\\xdb\\xae%\\xe4\\xce\\xee\\xc1\\x11\\xd6S@\\x88\\x05\\x8c\\x1c\\xff\\x9eHe\\xdaSWU\\x93P\\x9b\\xaf\\xc2D\\xcc3\\xac\\xbd\\x92b\\xddX)\\x96\\x17l\\xa0\\xbc\\xd8x\\x9f\\xcd\\x81\\xe4\\xcd\\xa6\\xcbW\\x1c\\xf0\\n\\x13\\x0c\\xa6J\\xfa\\x8bE\"\\xe7\\x92\\x9c\\x1f\\x8e\\xca\\x18\\xd2~\\x12l\\xa6\\x1a\\x14V.\\x003\\xe0\\x10\\x83\\xa1)\\xce\\xc0\\xa4H\\xaa\\xb7\\x91\\x15\\xbf\\xf5\\x843\\xc66\\xd9\\x8f\\xf2\\x97n\\xb7$\\x8e\\xe6-*u\\xd3s` \\x84\\x15<\\x8e1\\xd7z\\xf0\\x04q\\xd5\\x17\\xecR]\\xc1\\xf7`H\\x9c+\\xe2\\xfeB\\xb1{\\xdc\\xf39\\xb7\\xe9\\xb5\\xaaR\\xce\\x99\\x08>[\\x06\\xcc1K\\x9b\\xe4K%\\x82^\\xbbv\\x8a\\xa5YJM\\xd3\\x94\\xa6o\\xecyN\\xb4\\x95\\x17\\xc2v\\xbbk\\xb6Q\\x1d>\\x847g*E\\xa7\\xd02<C\\xce1\\xe8\\xf6\\xe0W]\\x84\\x142\\x86\\xf4\\xd3\\xb0\\x94\\xae\\xda\\xf1,`\\x9b\\'\\xcf=\\xb9\\xd3\\xa7\\xe6s\\xf32\\xa7\\xd4\\x16\\xb4\\x04\\xf0_\\x95G%\\xaf\\xaa\\xf9i'"
      ]
     },
     "execution_count": 17,
     "metadata": {},
     "output_type": "execute_result"
    }
   ],
   "source": [
    "signature"
   ]
  },
  {
   "cell_type": "code",
   "execution_count": 23,
   "metadata": {},
   "outputs": [
    {
     "name": "stdout",
     "output_type": "stream",
     "text": [
      "Signature Verification Failed\n"
     ]
    }
   ],
   "source": [
    "from cryptography.exceptions import InvalidSignature\n",
    "try:\n",
    "    outcome = pub_key.verify(\n",
    "        signature,\n",
    "        message,\n",
    "        padding.PSS(\n",
    "            mgf=padding.MGF1(hashes.SHA256()),\n",
    "            salt_length=padding.PSS.MAX_LENGTH\n",
    "        ),\n",
    "        hashes.SHA256()\n",
    "    )\n",
    "except InvalidSignature:\n",
    "    print('Signature Verification Failed')"
   ]
  },
  {
   "cell_type": "code",
   "execution_count": 12,
   "metadata": {},
   "outputs": [
    {
     "name": "stdout",
     "output_type": "stream",
     "text": [
      "b'stringaMatta'\n",
      "b'stringaMatta'\n"
     ]
    }
   ],
   "source": [
    "a = 'stringaMatta'\n",
    "arr = bytes(a, 'utf-8')\n",
    "print(arr)\n",
    "arr2 = bytes(a, 'ascii')\n",
    "print(arr2)"
   ]
  },
  {
   "cell_type": "code",
   "execution_count": 14,
   "metadata": {},
   "outputs": [
    {
     "name": "stdout",
     "output_type": "stream",
     "text": [
      "b'hello world'\n",
      "<class 'bytes'>\n",
      "hello world\n",
      "<class 'str'>\n"
     ]
    }
   ],
   "source": [
    "my_str = \"hello world\"\n",
    "my_str_as_bytes = str.encode(my_str)\n",
    "print(my_str_as_bytes)\n",
    "print(type(my_str_as_bytes)) # ensure it is byte representation\n",
    "my_decoded_str = my_str_as_bytes.decode()\n",
    "print(my_decoded_str)\n",
    "print(type(my_decoded_str))"
   ]
  },
  {
   "cell_type": "code",
   "execution_count": null,
   "metadata": {},
   "outputs": [],
   "source": []
  }
 ],
 "metadata": {
  "kernelspec": {
   "display_name": "Python 3",
   "language": "python",
   "name": "python3"
  },
  "language_info": {
   "codemirror_mode": {
    "name": "ipython",
    "version": 3
   },
   "file_extension": ".py",
   "mimetype": "text/x-python",
   "name": "python",
   "nbconvert_exporter": "python",
   "pygments_lexer": "ipython3",
   "version": "3.8.5"
  }
 },
 "nbformat": 4,
 "nbformat_minor": 4
}
