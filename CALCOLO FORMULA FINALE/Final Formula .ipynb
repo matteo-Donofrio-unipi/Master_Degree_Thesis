{
 "cells": [
  {
   "cell_type": "code",
   "execution_count": 83,
   "metadata": {},
   "outputs": [],
   "source": [
    "import networkx as nx\n",
    "import pylab as plt\n",
    "import pandas as pd\n",
    "import numpy as np\n",
    "import math\n",
    "from timeit import default_timer as timer\n",
    "from matplotlib.pyplot import figure\n",
    "import statistics\n"
   ]
  },
  {
   "cell_type": "code",
   "execution_count": 2,
   "metadata": {},
   "outputs": [
    {
     "data": {
      "text/html": [
       "<div>\n",
       "<style scoped>\n",
       "    .dataframe tbody tr th:only-of-type {\n",
       "        vertical-align: middle;\n",
       "    }\n",
       "\n",
       "    .dataframe tbody tr th {\n",
       "        vertical-align: top;\n",
       "    }\n",
       "\n",
       "    .dataframe thead th {\n",
       "        text-align: right;\n",
       "    }\n",
       "</style>\n",
       "<table border=\"1\" class=\"dataframe\">\n",
       "  <thead>\n",
       "    <tr style=\"text-align: right;\">\n",
       "      <th></th>\n",
       "      <th>Author</th>\n",
       "      <th>PR_values</th>\n",
       "    </tr>\n",
       "  </thead>\n",
       "  <tbody>\n",
       "    <tr>\n",
       "      <th>0</th>\n",
       "      <td>-----BEGIN PUBLIC KEY-----\\nMIIBIjANBgkqhkiG9w...</td>\n",
       "      <td>0.042414</td>\n",
       "    </tr>\n",
       "    <tr>\n",
       "      <th>1</th>\n",
       "      <td>-----BEGIN PUBLIC KEY-----\\nMIIBIjANBgkqhkiG9w...</td>\n",
       "      <td>0.015953</td>\n",
       "    </tr>\n",
       "    <tr>\n",
       "      <th>2</th>\n",
       "      <td>-----BEGIN PUBLIC KEY-----\\nMIIBIjANBgkqhkiG9w...</td>\n",
       "      <td>0.014931</td>\n",
       "    </tr>\n",
       "    <tr>\n",
       "      <th>3</th>\n",
       "      <td>-----BEGIN PUBLIC KEY-----\\nMIIBIjANBgkqhkiG9w...</td>\n",
       "      <td>0.014887</td>\n",
       "    </tr>\n",
       "    <tr>\n",
       "      <th>4</th>\n",
       "      <td>-----BEGIN PUBLIC KEY-----\\nMIIBIjANBgkqhkiG9w...</td>\n",
       "      <td>0.014411</td>\n",
       "    </tr>\n",
       "    <tr>\n",
       "      <th>...</th>\n",
       "      <td>...</td>\n",
       "      <td>...</td>\n",
       "    </tr>\n",
       "    <tr>\n",
       "      <th>873</th>\n",
       "      <td>-----BEGIN PUBLIC KEY-----\\nMIIBIjANBgkqhkiG9w...</td>\n",
       "      <td>0.000483</td>\n",
       "    </tr>\n",
       "    <tr>\n",
       "      <th>874</th>\n",
       "      <td>-----BEGIN PUBLIC KEY-----\\nMIIBIjANBgkqhkiG9w...</td>\n",
       "      <td>0.000483</td>\n",
       "    </tr>\n",
       "    <tr>\n",
       "      <th>875</th>\n",
       "      <td>-----BEGIN PUBLIC KEY-----\\nMIIBIjANBgkqhkiG9w...</td>\n",
       "      <td>0.000483</td>\n",
       "    </tr>\n",
       "    <tr>\n",
       "      <th>876</th>\n",
       "      <td>-----BEGIN PUBLIC KEY-----\\nMIIBIjANBgkqhkiG9w...</td>\n",
       "      <td>0.000483</td>\n",
       "    </tr>\n",
       "    <tr>\n",
       "      <th>877</th>\n",
       "      <td>-----BEGIN PUBLIC KEY-----\\nMIIBIjANBgkqhkiG9w...</td>\n",
       "      <td>0.000483</td>\n",
       "    </tr>\n",
       "  </tbody>\n",
       "</table>\n",
       "<p>878 rows × 2 columns</p>\n",
       "</div>"
      ],
      "text/plain": [
       "                                                Author  PR_values\n",
       "0    -----BEGIN PUBLIC KEY-----\\nMIIBIjANBgkqhkiG9w...   0.042414\n",
       "1    -----BEGIN PUBLIC KEY-----\\nMIIBIjANBgkqhkiG9w...   0.015953\n",
       "2    -----BEGIN PUBLIC KEY-----\\nMIIBIjANBgkqhkiG9w...   0.014931\n",
       "3    -----BEGIN PUBLIC KEY-----\\nMIIBIjANBgkqhkiG9w...   0.014887\n",
       "4    -----BEGIN PUBLIC KEY-----\\nMIIBIjANBgkqhkiG9w...   0.014411\n",
       "..                                                 ...        ...\n",
       "873  -----BEGIN PUBLIC KEY-----\\nMIIBIjANBgkqhkiG9w...   0.000483\n",
       "874  -----BEGIN PUBLIC KEY-----\\nMIIBIjANBgkqhkiG9w...   0.000483\n",
       "875  -----BEGIN PUBLIC KEY-----\\nMIIBIjANBgkqhkiG9w...   0.000483\n",
       "876  -----BEGIN PUBLIC KEY-----\\nMIIBIjANBgkqhkiG9w...   0.000483\n",
       "877  -----BEGIN PUBLIC KEY-----\\nMIIBIjANBgkqhkiG9w...   0.000483\n",
       "\n",
       "[878 rows x 2 columns]"
      ]
     },
     "execution_count": 2,
     "metadata": {},
     "output_type": "execute_result"
    }
   ],
   "source": [
    "PR_df = pd.read_csv('./PR_df.csv')\n",
    "PR_df.sort_values(by='0',inplace = True, ascending=False)\n",
    "PR_df.reset_index(drop = True, inplace = True)\n",
    "PR_df.rename(columns={'Unnamed: 0':'Author', '0':'PR_values'}, inplace = True)\n",
    "PR_df"
   ]
  },
  {
   "cell_type": "code",
   "execution_count": null,
   "metadata": {},
   "outputs": [],
   "source": []
  },
  {
   "cell_type": "code",
   "execution_count": 3,
   "metadata": {},
   "outputs": [
    {
     "data": {
      "text/html": [
       "<div>\n",
       "<style scoped>\n",
       "    .dataframe tbody tr th:only-of-type {\n",
       "        vertical-align: middle;\n",
       "    }\n",
       "\n",
       "    .dataframe tbody tr th {\n",
       "        vertical-align: top;\n",
       "    }\n",
       "\n",
       "    .dataframe thead th {\n",
       "        text-align: right;\n",
       "    }\n",
       "</style>\n",
       "<table border=\"1\" class=\"dataframe\">\n",
       "  <thead>\n",
       "    <tr style=\"text-align: right;\">\n",
       "      <th></th>\n",
       "      <th>FromNodeId</th>\n",
       "      <th>From_Author_Pub_Key</th>\n",
       "      <th>ToNodeId</th>\n",
       "      <th>To_Author_Pub_key</th>\n",
       "    </tr>\n",
       "  </thead>\n",
       "  <tbody>\n",
       "    <tr>\n",
       "      <th>0</th>\n",
       "      <td>bea8b41266f68383aab0ab6f11e1423db72df15ff8357a...</td>\n",
       "      <td>-----BEGIN PUBLIC KEY-----\\nMIIBIjANBgkqhkiG9w...</td>\n",
       "      <td>7abd48c9ff5cd7ed0f42d4879fde173481d087ea25372f...</td>\n",
       "      <td>Not_available</td>\n",
       "    </tr>\n",
       "    <tr>\n",
       "      <th>1</th>\n",
       "      <td>48f59e57815078456b89fe34932606fcf1e5fa7874cf00...</td>\n",
       "      <td>-----BEGIN PUBLIC KEY-----\\nMIIBIjANBgkqhkiG9w...</td>\n",
       "      <td>7abd48c9ff5cd7ed0f42d4879fde173481d087ea25372f...</td>\n",
       "      <td>Not_available</td>\n",
       "    </tr>\n",
       "    <tr>\n",
       "      <th>2</th>\n",
       "      <td>e2e9da947c52e0f6107d5aa5d6e03e0e9fcafe7bccde08...</td>\n",
       "      <td>-----BEGIN PUBLIC KEY-----\\nMIIBIjANBgkqhkiG9w...</td>\n",
       "      <td>7abd48c9ff5cd7ed0f42d4879fde173481d087ea25372f...</td>\n",
       "      <td>Not_available</td>\n",
       "    </tr>\n",
       "    <tr>\n",
       "      <th>3</th>\n",
       "      <td>f2b1c07718734fb4f48789faef537bc69604b53befe340...</td>\n",
       "      <td>-----BEGIN PUBLIC KEY-----\\nMIIBIjANBgkqhkiG9w...</td>\n",
       "      <td>48f59e57815078456b89fe34932606fcf1e5fa7874cf00...</td>\n",
       "      <td>-----BEGIN PUBLIC KEY-----\\nMIIBIjANBgkqhkiG9w...</td>\n",
       "    </tr>\n",
       "    <tr>\n",
       "      <th>4</th>\n",
       "      <td>c356dd48fe8a94bc92ef446443ee88f49eb28dee5e95bd...</td>\n",
       "      <td>-----BEGIN PUBLIC KEY-----\\nMIIBIjANBgkqhkiG9w...</td>\n",
       "      <td>7abd48c9ff5cd7ed0f42d4879fde173481d087ea25372f...</td>\n",
       "      <td>Not_available</td>\n",
       "    </tr>\n",
       "    <tr>\n",
       "      <th>...</th>\n",
       "      <td>...</td>\n",
       "      <td>...</td>\n",
       "      <td>...</td>\n",
       "      <td>...</td>\n",
       "    </tr>\n",
       "    <tr>\n",
       "      <th>2190</th>\n",
       "      <td>11be570f418641c06fe7a7bb832b237a51d3a6f1615f3a...</td>\n",
       "      <td>-----BEGIN PUBLIC KEY-----\\nMIIBIjANBgkqhkiG9w...</td>\n",
       "      <td>1a730dd1844edc082bd852f6a8617db09885158f30e105...</td>\n",
       "      <td>-----BEGIN PUBLIC KEY-----\\nMIIBIjANBgkqhkiG9w...</td>\n",
       "    </tr>\n",
       "    <tr>\n",
       "      <th>2191</th>\n",
       "      <td>11be570f418641c06fe7a7bb832b237a51d3a6f1615f3a...</td>\n",
       "      <td>-----BEGIN PUBLIC KEY-----\\nMIIBIjANBgkqhkiG9w...</td>\n",
       "      <td>3cbf33b87b930b9f7861e16e41b2596d98ddb08c128afb...</td>\n",
       "      <td>-----BEGIN PUBLIC KEY-----\\nMIIBIjANBgkqhkiG9w...</td>\n",
       "    </tr>\n",
       "    <tr>\n",
       "      <th>2192</th>\n",
       "      <td>11be570f418641c06fe7a7bb832b237a51d3a6f1615f3a...</td>\n",
       "      <td>-----BEGIN PUBLIC KEY-----\\nMIIBIjANBgkqhkiG9w...</td>\n",
       "      <td>860b9434133c78fede874d0380cf50697b49af8c7c0b8d...</td>\n",
       "      <td>-----BEGIN PUBLIC KEY-----\\nMIIBIjANBgkqhkiG9w...</td>\n",
       "    </tr>\n",
       "    <tr>\n",
       "      <th>2193</th>\n",
       "      <td>11be570f418641c06fe7a7bb832b237a51d3a6f1615f3a...</td>\n",
       "      <td>-----BEGIN PUBLIC KEY-----\\nMIIBIjANBgkqhkiG9w...</td>\n",
       "      <td>c4a161d608769cd6fe604685c9204f81351eb9f07032a7...</td>\n",
       "      <td>-----BEGIN PUBLIC KEY-----\\nMIIBIjANBgkqhkiG9w...</td>\n",
       "    </tr>\n",
       "    <tr>\n",
       "      <th>2194</th>\n",
       "      <td>5e30e254f2e709088f5e3a899d7bbb3a4670b5e47c2b24...</td>\n",
       "      <td>-----BEGIN PUBLIC KEY-----\\nMIIBIjANBgkqhkiG9w...</td>\n",
       "      <td>008caf2c6c7e616a7db2a0350a8198a5290bedac6c1be3...</td>\n",
       "      <td>-----BEGIN PUBLIC KEY-----\\nMIIBIjANBgkqhkiG9w...</td>\n",
       "    </tr>\n",
       "  </tbody>\n",
       "</table>\n",
       "<p>2195 rows × 4 columns</p>\n",
       "</div>"
      ],
      "text/plain": [
       "                                             FromNodeId   \n",
       "0     bea8b41266f68383aab0ab6f11e1423db72df15ff8357a...  \\\n",
       "1     48f59e57815078456b89fe34932606fcf1e5fa7874cf00...   \n",
       "2     e2e9da947c52e0f6107d5aa5d6e03e0e9fcafe7bccde08...   \n",
       "3     f2b1c07718734fb4f48789faef537bc69604b53befe340...   \n",
       "4     c356dd48fe8a94bc92ef446443ee88f49eb28dee5e95bd...   \n",
       "...                                                 ...   \n",
       "2190  11be570f418641c06fe7a7bb832b237a51d3a6f1615f3a...   \n",
       "2191  11be570f418641c06fe7a7bb832b237a51d3a6f1615f3a...   \n",
       "2192  11be570f418641c06fe7a7bb832b237a51d3a6f1615f3a...   \n",
       "2193  11be570f418641c06fe7a7bb832b237a51d3a6f1615f3a...   \n",
       "2194  5e30e254f2e709088f5e3a899d7bbb3a4670b5e47c2b24...   \n",
       "\n",
       "                                    From_Author_Pub_Key   \n",
       "0     -----BEGIN PUBLIC KEY-----\\nMIIBIjANBgkqhkiG9w...  \\\n",
       "1     -----BEGIN PUBLIC KEY-----\\nMIIBIjANBgkqhkiG9w...   \n",
       "2     -----BEGIN PUBLIC KEY-----\\nMIIBIjANBgkqhkiG9w...   \n",
       "3     -----BEGIN PUBLIC KEY-----\\nMIIBIjANBgkqhkiG9w...   \n",
       "4     -----BEGIN PUBLIC KEY-----\\nMIIBIjANBgkqhkiG9w...   \n",
       "...                                                 ...   \n",
       "2190  -----BEGIN PUBLIC KEY-----\\nMIIBIjANBgkqhkiG9w...   \n",
       "2191  -----BEGIN PUBLIC KEY-----\\nMIIBIjANBgkqhkiG9w...   \n",
       "2192  -----BEGIN PUBLIC KEY-----\\nMIIBIjANBgkqhkiG9w...   \n",
       "2193  -----BEGIN PUBLIC KEY-----\\nMIIBIjANBgkqhkiG9w...   \n",
       "2194  -----BEGIN PUBLIC KEY-----\\nMIIBIjANBgkqhkiG9w...   \n",
       "\n",
       "                                               ToNodeId   \n",
       "0     7abd48c9ff5cd7ed0f42d4879fde173481d087ea25372f...  \\\n",
       "1     7abd48c9ff5cd7ed0f42d4879fde173481d087ea25372f...   \n",
       "2     7abd48c9ff5cd7ed0f42d4879fde173481d087ea25372f...   \n",
       "3     48f59e57815078456b89fe34932606fcf1e5fa7874cf00...   \n",
       "4     7abd48c9ff5cd7ed0f42d4879fde173481d087ea25372f...   \n",
       "...                                                 ...   \n",
       "2190  1a730dd1844edc082bd852f6a8617db09885158f30e105...   \n",
       "2191  3cbf33b87b930b9f7861e16e41b2596d98ddb08c128afb...   \n",
       "2192  860b9434133c78fede874d0380cf50697b49af8c7c0b8d...   \n",
       "2193  c4a161d608769cd6fe604685c9204f81351eb9f07032a7...   \n",
       "2194  008caf2c6c7e616a7db2a0350a8198a5290bedac6c1be3...   \n",
       "\n",
       "                                      To_Author_Pub_key  \n",
       "0                                         Not_available  \n",
       "1                                         Not_available  \n",
       "2                                         Not_available  \n",
       "3     -----BEGIN PUBLIC KEY-----\\nMIIBIjANBgkqhkiG9w...  \n",
       "4                                         Not_available  \n",
       "...                                                 ...  \n",
       "2190  -----BEGIN PUBLIC KEY-----\\nMIIBIjANBgkqhkiG9w...  \n",
       "2191  -----BEGIN PUBLIC KEY-----\\nMIIBIjANBgkqhkiG9w...  \n",
       "2192  -----BEGIN PUBLIC KEY-----\\nMIIBIjANBgkqhkiG9w...  \n",
       "2193  -----BEGIN PUBLIC KEY-----\\nMIIBIjANBgkqhkiG9w...  \n",
       "2194  -----BEGIN PUBLIC KEY-----\\nMIIBIjANBgkqhkiG9w...  \n",
       "\n",
       "[2195 rows x 4 columns]"
      ]
     },
     "execution_count": 3,
     "metadata": {},
     "output_type": "execute_result"
    }
   ],
   "source": [
    "DB_AA_originale = pd.read_csv('./DB_articles_authors_built.csv')\n",
    "\n",
    "\n",
    "#genesis_tx_node_id = DB_AA_originale[DB_AA_originale['To_Author_Pub_key']=='Not_available']['ToNodeId'].values[0]\n",
    "#RIMUOVO LE CITAZIONI INIZIALI FATTE VERSO LA GENESIS TX DAGLI ARTICOLI DI FRONTIERA\n",
    "#DB_AA_originale = DB_AA_originale[DB_AA_originale['ToNodeId']!= genesis_tx_node_id]\n",
    "DB_AA_originale"
   ]
  },
  {
   "cell_type": "code",
   "execution_count": 4,
   "metadata": {},
   "outputs": [
    {
     "data": {
      "text/plain": [
       "1066"
      ]
     },
     "execution_count": 4,
     "metadata": {},
     "output_type": "execute_result"
    }
   ],
   "source": [
    "DB_AA_originale.FromNodeId.nunique()"
   ]
  },
  {
   "cell_type": "code",
   "execution_count": 5,
   "metadata": {},
   "outputs": [
    {
     "data": {
      "text/plain": [
       "663"
      ]
     },
     "execution_count": 5,
     "metadata": {},
     "output_type": "execute_result"
    }
   ],
   "source": [
    "DB_AA_originale.ToNodeId.nunique()"
   ]
  },
  {
   "cell_type": "code",
   "execution_count": null,
   "metadata": {},
   "outputs": [],
   "source": []
  },
  {
   "cell_type": "code",
   "execution_count": null,
   "metadata": {},
   "outputs": [],
   "source": []
  },
  {
   "cell_type": "code",
   "execution_count": 6,
   "metadata": {},
   "outputs": [
    {
     "data": {
      "text/plain": [
       "58"
      ]
     },
     "execution_count": 6,
     "metadata": {},
     "output_type": "execute_result"
    }
   ],
   "source": [
    "genesis_tx_node_id = DB_AA_originale[DB_AA_originale['To_Author_Pub_key']=='Not_available']['ToNodeId'].values[0]\n",
    "#RIMUOVO LE CITAZIONI INIZIALI FATTE VERSO LA GENESIS TX DAGLI ARTICOLI DI FRONTIERA\n",
    "DB_AA_originale_senza_genesis = DB_AA_originale[DB_AA_originale['ToNodeId']!= genesis_tx_node_id]\n",
    "\n",
    "res = DB_AA_originale_senza_genesis.groupby('To_Author_Pub_key')['From_Author_Pub_Key'].count()\n",
    "cit_entranti_max = res.max()\n",
    "cit_entranti_max\n"
   ]
  },
  {
   "cell_type": "code",
   "execution_count": 7,
   "metadata": {},
   "outputs": [],
   "source": []
  },
  {
   "cell_type": "code",
   "execution_count": null,
   "metadata": {},
   "outputs": [],
   "source": []
  },
  {
   "cell_type": "code",
   "execution_count": null,
   "metadata": {},
   "outputs": [],
   "source": []
  },
  {
   "cell_type": "code",
   "execution_count": 7,
   "metadata": {},
   "outputs": [
    {
     "name": "stdout",
     "output_type": "stream",
     "text": [
      "Checking for local message_id stored...\n",
      "\n",
      "Found #1066 messages from the file lista_msgDB.txt \n",
      "\n"
     ]
    }
   ],
   "source": [
    "def readMsgDB():\n",
    "    print('Checking for local message_id stored...\\n')\n",
    "    try: \n",
    "        file = open(\"lista_msgDB.txt\", \"r\")\n",
    "        msg_DB = file.readlines()\n",
    "\n",
    "        for i in range(len(msg_DB)):\n",
    "            msg_DB[i] = msg_DB[i].replace(\"\\n\", \"\")\n",
    "\n",
    "        print(f'Found #{len(msg_DB)} messages from the file lista_msgDB.txt \\n')\n",
    "\n",
    "        file.close() \n",
    "    except:\n",
    "        \n",
    "        msg_DB = []\n",
    "\n",
    "    \n",
    "    return msg_DB\n",
    "\n",
    "msg_DB = readMsgDB()"
   ]
  },
  {
   "cell_type": "code",
   "execution_count": 8,
   "metadata": {},
   "outputs": [
    {
     "data": {
      "text/html": [
       "<div>\n",
       "<style scoped>\n",
       "    .dataframe tbody tr th:only-of-type {\n",
       "        vertical-align: middle;\n",
       "    }\n",
       "\n",
       "    .dataframe tbody tr th {\n",
       "        vertical-align: top;\n",
       "    }\n",
       "\n",
       "    .dataframe thead th {\n",
       "        text-align: right;\n",
       "    }\n",
       "</style>\n",
       "<table border=\"1\" class=\"dataframe\">\n",
       "  <thead>\n",
       "    <tr style=\"text-align: right;\">\n",
       "      <th></th>\n",
       "      <th>FromNodeId</th>\n",
       "      <th>From_Author_Pub_Key</th>\n",
       "      <th>ToNodeId</th>\n",
       "      <th>To_Author_Pub_key</th>\n",
       "    </tr>\n",
       "  </thead>\n",
       "  <tbody>\n",
       "    <tr>\n",
       "      <th>0</th>\n",
       "      <td>bea8b41266f68383aab0ab6f11e1423db72df15ff8357a...</td>\n",
       "      <td>-----BEGIN PUBLIC KEY-----\\nMIIBIjANBgkqhkiG9w...</td>\n",
       "      <td>7abd48c9ff5cd7ed0f42d4879fde173481d087ea25372f...</td>\n",
       "      <td>Not_available</td>\n",
       "    </tr>\n",
       "    <tr>\n",
       "      <th>1</th>\n",
       "      <td>48f59e57815078456b89fe34932606fcf1e5fa7874cf00...</td>\n",
       "      <td>-----BEGIN PUBLIC KEY-----\\nMIIBIjANBgkqhkiG9w...</td>\n",
       "      <td>7abd48c9ff5cd7ed0f42d4879fde173481d087ea25372f...</td>\n",
       "      <td>Not_available</td>\n",
       "    </tr>\n",
       "    <tr>\n",
       "      <th>2</th>\n",
       "      <td>e2e9da947c52e0f6107d5aa5d6e03e0e9fcafe7bccde08...</td>\n",
       "      <td>-----BEGIN PUBLIC KEY-----\\nMIIBIjANBgkqhkiG9w...</td>\n",
       "      <td>7abd48c9ff5cd7ed0f42d4879fde173481d087ea25372f...</td>\n",
       "      <td>Not_available</td>\n",
       "    </tr>\n",
       "    <tr>\n",
       "      <th>3</th>\n",
       "      <td>f2b1c07718734fb4f48789faef537bc69604b53befe340...</td>\n",
       "      <td>-----BEGIN PUBLIC KEY-----\\nMIIBIjANBgkqhkiG9w...</td>\n",
       "      <td>48f59e57815078456b89fe34932606fcf1e5fa7874cf00...</td>\n",
       "      <td>-----BEGIN PUBLIC KEY-----\\nMIIBIjANBgkqhkiG9w...</td>\n",
       "    </tr>\n",
       "    <tr>\n",
       "      <th>4</th>\n",
       "      <td>c356dd48fe8a94bc92ef446443ee88f49eb28dee5e95bd...</td>\n",
       "      <td>-----BEGIN PUBLIC KEY-----\\nMIIBIjANBgkqhkiG9w...</td>\n",
       "      <td>7abd48c9ff5cd7ed0f42d4879fde173481d087ea25372f...</td>\n",
       "      <td>Not_available</td>\n",
       "    </tr>\n",
       "    <tr>\n",
       "      <th>...</th>\n",
       "      <td>...</td>\n",
       "      <td>...</td>\n",
       "      <td>...</td>\n",
       "      <td>...</td>\n",
       "    </tr>\n",
       "    <tr>\n",
       "      <th>2190</th>\n",
       "      <td>11be570f418641c06fe7a7bb832b237a51d3a6f1615f3a...</td>\n",
       "      <td>-----BEGIN PUBLIC KEY-----\\nMIIBIjANBgkqhkiG9w...</td>\n",
       "      <td>1a730dd1844edc082bd852f6a8617db09885158f30e105...</td>\n",
       "      <td>-----BEGIN PUBLIC KEY-----\\nMIIBIjANBgkqhkiG9w...</td>\n",
       "    </tr>\n",
       "    <tr>\n",
       "      <th>2191</th>\n",
       "      <td>11be570f418641c06fe7a7bb832b237a51d3a6f1615f3a...</td>\n",
       "      <td>-----BEGIN PUBLIC KEY-----\\nMIIBIjANBgkqhkiG9w...</td>\n",
       "      <td>3cbf33b87b930b9f7861e16e41b2596d98ddb08c128afb...</td>\n",
       "      <td>-----BEGIN PUBLIC KEY-----\\nMIIBIjANBgkqhkiG9w...</td>\n",
       "    </tr>\n",
       "    <tr>\n",
       "      <th>2192</th>\n",
       "      <td>11be570f418641c06fe7a7bb832b237a51d3a6f1615f3a...</td>\n",
       "      <td>-----BEGIN PUBLIC KEY-----\\nMIIBIjANBgkqhkiG9w...</td>\n",
       "      <td>860b9434133c78fede874d0380cf50697b49af8c7c0b8d...</td>\n",
       "      <td>-----BEGIN PUBLIC KEY-----\\nMIIBIjANBgkqhkiG9w...</td>\n",
       "    </tr>\n",
       "    <tr>\n",
       "      <th>2193</th>\n",
       "      <td>11be570f418641c06fe7a7bb832b237a51d3a6f1615f3a...</td>\n",
       "      <td>-----BEGIN PUBLIC KEY-----\\nMIIBIjANBgkqhkiG9w...</td>\n",
       "      <td>c4a161d608769cd6fe604685c9204f81351eb9f07032a7...</td>\n",
       "      <td>-----BEGIN PUBLIC KEY-----\\nMIIBIjANBgkqhkiG9w...</td>\n",
       "    </tr>\n",
       "    <tr>\n",
       "      <th>2194</th>\n",
       "      <td>5e30e254f2e709088f5e3a899d7bbb3a4670b5e47c2b24...</td>\n",
       "      <td>-----BEGIN PUBLIC KEY-----\\nMIIBIjANBgkqhkiG9w...</td>\n",
       "      <td>008caf2c6c7e616a7db2a0350a8198a5290bedac6c1be3...</td>\n",
       "      <td>-----BEGIN PUBLIC KEY-----\\nMIIBIjANBgkqhkiG9w...</td>\n",
       "    </tr>\n",
       "  </tbody>\n",
       "</table>\n",
       "<p>2195 rows × 4 columns</p>\n",
       "</div>"
      ],
      "text/plain": [
       "                                             FromNodeId   \n",
       "0     bea8b41266f68383aab0ab6f11e1423db72df15ff8357a...  \\\n",
       "1     48f59e57815078456b89fe34932606fcf1e5fa7874cf00...   \n",
       "2     e2e9da947c52e0f6107d5aa5d6e03e0e9fcafe7bccde08...   \n",
       "3     f2b1c07718734fb4f48789faef537bc69604b53befe340...   \n",
       "4     c356dd48fe8a94bc92ef446443ee88f49eb28dee5e95bd...   \n",
       "...                                                 ...   \n",
       "2190  11be570f418641c06fe7a7bb832b237a51d3a6f1615f3a...   \n",
       "2191  11be570f418641c06fe7a7bb832b237a51d3a6f1615f3a...   \n",
       "2192  11be570f418641c06fe7a7bb832b237a51d3a6f1615f3a...   \n",
       "2193  11be570f418641c06fe7a7bb832b237a51d3a6f1615f3a...   \n",
       "2194  5e30e254f2e709088f5e3a899d7bbb3a4670b5e47c2b24...   \n",
       "\n",
       "                                    From_Author_Pub_Key   \n",
       "0     -----BEGIN PUBLIC KEY-----\\nMIIBIjANBgkqhkiG9w...  \\\n",
       "1     -----BEGIN PUBLIC KEY-----\\nMIIBIjANBgkqhkiG9w...   \n",
       "2     -----BEGIN PUBLIC KEY-----\\nMIIBIjANBgkqhkiG9w...   \n",
       "3     -----BEGIN PUBLIC KEY-----\\nMIIBIjANBgkqhkiG9w...   \n",
       "4     -----BEGIN PUBLIC KEY-----\\nMIIBIjANBgkqhkiG9w...   \n",
       "...                                                 ...   \n",
       "2190  -----BEGIN PUBLIC KEY-----\\nMIIBIjANBgkqhkiG9w...   \n",
       "2191  -----BEGIN PUBLIC KEY-----\\nMIIBIjANBgkqhkiG9w...   \n",
       "2192  -----BEGIN PUBLIC KEY-----\\nMIIBIjANBgkqhkiG9w...   \n",
       "2193  -----BEGIN PUBLIC KEY-----\\nMIIBIjANBgkqhkiG9w...   \n",
       "2194  -----BEGIN PUBLIC KEY-----\\nMIIBIjANBgkqhkiG9w...   \n",
       "\n",
       "                                               ToNodeId   \n",
       "0     7abd48c9ff5cd7ed0f42d4879fde173481d087ea25372f...  \\\n",
       "1     7abd48c9ff5cd7ed0f42d4879fde173481d087ea25372f...   \n",
       "2     7abd48c9ff5cd7ed0f42d4879fde173481d087ea25372f...   \n",
       "3     48f59e57815078456b89fe34932606fcf1e5fa7874cf00...   \n",
       "4     7abd48c9ff5cd7ed0f42d4879fde173481d087ea25372f...   \n",
       "...                                                 ...   \n",
       "2190  1a730dd1844edc082bd852f6a8617db09885158f30e105...   \n",
       "2191  3cbf33b87b930b9f7861e16e41b2596d98ddb08c128afb...   \n",
       "2192  860b9434133c78fede874d0380cf50697b49af8c7c0b8d...   \n",
       "2193  c4a161d608769cd6fe604685c9204f81351eb9f07032a7...   \n",
       "2194  008caf2c6c7e616a7db2a0350a8198a5290bedac6c1be3...   \n",
       "\n",
       "                                      To_Author_Pub_key  \n",
       "0                                         Not_available  \n",
       "1                                         Not_available  \n",
       "2                                         Not_available  \n",
       "3     -----BEGIN PUBLIC KEY-----\\nMIIBIjANBgkqhkiG9w...  \n",
       "4                                         Not_available  \n",
       "...                                                 ...  \n",
       "2190  -----BEGIN PUBLIC KEY-----\\nMIIBIjANBgkqhkiG9w...  \n",
       "2191  -----BEGIN PUBLIC KEY-----\\nMIIBIjANBgkqhkiG9w...  \n",
       "2192  -----BEGIN PUBLIC KEY-----\\nMIIBIjANBgkqhkiG9w...  \n",
       "2193  -----BEGIN PUBLIC KEY-----\\nMIIBIjANBgkqhkiG9w...  \n",
       "2194  -----BEGIN PUBLIC KEY-----\\nMIIBIjANBgkqhkiG9w...  \n",
       "\n",
       "[2195 rows x 4 columns]"
      ]
     },
     "execution_count": 8,
     "metadata": {},
     "output_type": "execute_result"
    }
   ],
   "source": [
    "DB_AA_originale[DB_AA_originale['FromNodeId'].isin(msg_DB)]"
   ]
  },
  {
   "cell_type": "code",
   "execution_count": null,
   "metadata": {},
   "outputs": [],
   "source": []
  },
  {
   "cell_type": "code",
   "execution_count": null,
   "metadata": {},
   "outputs": [],
   "source": []
  },
  {
   "cell_type": "code",
   "execution_count": 9,
   "metadata": {},
   "outputs": [
    {
     "data": {
      "text/html": [
       "<div>\n",
       "<style scoped>\n",
       "    .dataframe tbody tr th:only-of-type {\n",
       "        vertical-align: middle;\n",
       "    }\n",
       "\n",
       "    .dataframe tbody tr th {\n",
       "        vertical-align: top;\n",
       "    }\n",
       "\n",
       "    .dataframe thead th {\n",
       "        text-align: right;\n",
       "    }\n",
       "</style>\n",
       "<table border=\"1\" class=\"dataframe\">\n",
       "  <thead>\n",
       "    <tr style=\"text-align: right;\">\n",
       "      <th></th>\n",
       "      <th>cluster_authors</th>\n",
       "      <th>cluster_size</th>\n",
       "    </tr>\n",
       "  </thead>\n",
       "  <tbody>\n",
       "    <tr>\n",
       "      <th>0</th>\n",
       "      <td>-----BEGIN PUBLIC KEY-----\\nMIIBIjANBgkqhkiG9w...</td>\n",
       "      <td>2</td>\n",
       "    </tr>\n",
       "    <tr>\n",
       "      <th>1</th>\n",
       "      <td>-----BEGIN PUBLIC KEY-----\\nMIIBIjANBgkqhkiG9w...</td>\n",
       "      <td>2</td>\n",
       "    </tr>\n",
       "    <tr>\n",
       "      <th>2</th>\n",
       "      <td>-----BEGIN PUBLIC KEY-----\\nMIIBIjANBgkqhkiG9w...</td>\n",
       "      <td>2</td>\n",
       "    </tr>\n",
       "    <tr>\n",
       "      <th>3</th>\n",
       "      <td>-----BEGIN PUBLIC KEY-----\\nMIIBIjANBgkqhkiG9w...</td>\n",
       "      <td>2</td>\n",
       "    </tr>\n",
       "    <tr>\n",
       "      <th>4</th>\n",
       "      <td>-----BEGIN PUBLIC KEY-----\\nMIIBIjANBgkqhkiG9w...</td>\n",
       "      <td>2</td>\n",
       "    </tr>\n",
       "    <tr>\n",
       "      <th>...</th>\n",
       "      <td>...</td>\n",
       "      <td>...</td>\n",
       "    </tr>\n",
       "    <tr>\n",
       "      <th>66</th>\n",
       "      <td>-----BEGIN PUBLIC KEY-----\\nMIIBIjANBgkqhkiG9w...</td>\n",
       "      <td>35</td>\n",
       "    </tr>\n",
       "    <tr>\n",
       "      <th>67</th>\n",
       "      <td>-----BEGIN PUBLIC KEY-----\\nMIIBIjANBgkqhkiG9w...</td>\n",
       "      <td>45</td>\n",
       "    </tr>\n",
       "    <tr>\n",
       "      <th>68</th>\n",
       "      <td>-----BEGIN PUBLIC KEY-----\\nMIIBIjANBgkqhkiG9w...</td>\n",
       "      <td>50</td>\n",
       "    </tr>\n",
       "    <tr>\n",
       "      <th>69</th>\n",
       "      <td>-----BEGIN PUBLIC KEY-----\\nMIIBIjANBgkqhkiG9w...</td>\n",
       "      <td>82</td>\n",
       "    </tr>\n",
       "    <tr>\n",
       "      <th>70</th>\n",
       "      <td>-----BEGIN PUBLIC KEY-----\\nMIIBIjANBgkqhkiG9w...</td>\n",
       "      <td>259</td>\n",
       "    </tr>\n",
       "  </tbody>\n",
       "</table>\n",
       "<p>71 rows × 2 columns</p>\n",
       "</div>"
      ],
      "text/plain": [
       "                                      cluster_authors  cluster_size\n",
       "0   -----BEGIN PUBLIC KEY-----\\nMIIBIjANBgkqhkiG9w...             2\n",
       "1   -----BEGIN PUBLIC KEY-----\\nMIIBIjANBgkqhkiG9w...             2\n",
       "2   -----BEGIN PUBLIC KEY-----\\nMIIBIjANBgkqhkiG9w...             2\n",
       "3   -----BEGIN PUBLIC KEY-----\\nMIIBIjANBgkqhkiG9w...             2\n",
       "4   -----BEGIN PUBLIC KEY-----\\nMIIBIjANBgkqhkiG9w...             2\n",
       "..                                                ...           ...\n",
       "66  -----BEGIN PUBLIC KEY-----\\nMIIBIjANBgkqhkiG9w...            35\n",
       "67  -----BEGIN PUBLIC KEY-----\\nMIIBIjANBgkqhkiG9w...            45\n",
       "68  -----BEGIN PUBLIC KEY-----\\nMIIBIjANBgkqhkiG9w...            50\n",
       "69  -----BEGIN PUBLIC KEY-----\\nMIIBIjANBgkqhkiG9w...            82\n",
       "70  -----BEGIN PUBLIC KEY-----\\nMIIBIjANBgkqhkiG9w...           259\n",
       "\n",
       "[71 rows x 2 columns]"
      ]
     },
     "execution_count": 9,
     "metadata": {},
     "output_type": "execute_result"
    }
   ],
   "source": [
    "Communities = pd.read_csv('./Best_Clusters_DF.csv')\n",
    "Communities.sort_values(by='cluster_size',inplace = True)\n",
    "\n",
    "Communities.reset_index(drop = True, inplace = True)\n",
    "\n",
    "def replaceSlash(row):\n",
    "    return row.replace('\\\\n','\\n')\n",
    "\n",
    "repS = np.vectorize(replaceSlash)\n",
    "\n",
    "Communities.cluster_authors = repS(Communities.cluster_authors)\n",
    "\n",
    "Communities"
   ]
  },
  {
   "cell_type": "code",
   "execution_count": 10,
   "metadata": {},
   "outputs": [
    {
     "data": {
      "text/plain": [
       "871"
      ]
     },
     "execution_count": 10,
     "metadata": {},
     "output_type": "execute_result"
    }
   ],
   "source": [
    "Communities.cluster_size.sum()"
   ]
  },
  {
   "cell_type": "code",
   "execution_count": 11,
   "metadata": {},
   "outputs": [
    {
     "data": {
      "text/plain": [
       "array([ 0,  1,  2,  3,  4,  5,  6,  7,  8,  9, 10, 11, 12, 13, 14, 15, 16,\n",
       "       17, 18, 19, 20, 21, 22, 23, 24, 25, 26, 27, 28, 29, 30, 31, 32, 33,\n",
       "       34, 35, 36, 37, 38, 39, 40, 41, 42, 43, 44, 45, 46, 47, 48, 49, 50,\n",
       "       51, 52, 53, 54, 55, 56, 57, 58, 59, 60, 61, 62, 63, 64, 65, 66, 67,\n",
       "       68, 69, 70], dtype=int64)"
      ]
     },
     "execution_count": 11,
     "metadata": {},
     "output_type": "execute_result"
    }
   ],
   "source": [
    "Communities.index.values"
   ]
  },
  {
   "cell_type": "code",
   "execution_count": 22,
   "metadata": {},
   "outputs": [
    {
     "data": {
      "text/html": [
       "<div>\n",
       "<style scoped>\n",
       "    .dataframe tbody tr th:only-of-type {\n",
       "        vertical-align: middle;\n",
       "    }\n",
       "\n",
       "    .dataframe tbody tr th {\n",
       "        vertical-align: top;\n",
       "    }\n",
       "\n",
       "    .dataframe thead th {\n",
       "        text-align: right;\n",
       "    }\n",
       "</style>\n",
       "<table border=\"1\" class=\"dataframe\">\n",
       "  <thead>\n",
       "    <tr style=\"text-align: right;\">\n",
       "      <th></th>\n",
       "      <th>FromNodeId</th>\n",
       "      <th>From_Author_Pub_Key</th>\n",
       "      <th>ToNodeId</th>\n",
       "      <th>To_Author_Pub_key</th>\n",
       "    </tr>\n",
       "  </thead>\n",
       "  <tbody>\n",
       "  </tbody>\n",
       "</table>\n",
       "</div>"
      ],
      "text/plain": [
       "Empty DataFrame\n",
       "Columns: [FromNodeId, From_Author_Pub_Key, ToNodeId, To_Author_Pub_key]\n",
       "Index: []"
      ]
     },
     "execution_count": 22,
     "metadata": {},
     "output_type": "execute_result"
    }
   ],
   "source": [
    "#t = DB_AA_originale[DB_AA_originale['From_Author_Pub_Key'].isin(Communities.iloc[2]['cluster_authors'].split(\"*\"))]\n",
    "#t[t['To_Author_Pub_key'].isin(Communities.iloc[0]['cluster_authors'].split(\"*\"))]"
   ]
  },
  {
   "cell_type": "code",
   "execution_count": 19,
   "metadata": {},
   "outputs": [],
   "source": [
    "#TEST FATTO IGNORANDO I WEIGHT TRA LE COMMUNITIES, CONSIDERO SOLO I #HOP\n",
    "\n",
    "num_nodi = len(Communities)\n",
    "\n",
    "\n",
    "#GRAPH CREATION\n",
    "\n",
    "\n",
    "#STAMPA GRAFO\n",
    "D=nx.DiGraph()\n",
    "\n",
    "for i in Communities.index.values:\n",
    "    D.add_node(str(i),nodeId = str(i))\n",
    "    \n",
    "for i in Communities.index.values: \n",
    "    \n",
    "    inner_authors = Communities.iloc[i]['cluster_authors'].split(\"*\")\n",
    "    \n",
    "    for j in Communities.index.values:\n",
    "        \n",
    "        if(i!=j):\n",
    "        \n",
    "            outer_authors = Communities.iloc[j]['cluster_authors'].split(\"*\")\n",
    "\n",
    "            temp_df = DB_AA_originale[DB_AA_originale['From_Author_Pub_Key'].isin(inner_authors)]\n",
    "\n",
    "            temp_df = temp_df[temp_df['To_Author_Pub_key'].isin(outer_authors)]\n",
    "\n",
    "            #print(temp_df)\n",
    "\n",
    "            if(len(temp_df) > 0):           \n",
    "\n",
    "                D.add_weighted_edges_from([(str(i),str(j),len(temp_df))])\n"
   ]
  },
  {
   "cell_type": "code",
   "execution_count": 18,
   "metadata": {},
   "outputs": [
    {
     "data": {
      "image/png": "[encoded data removed]",
      "text/plain": [
       "<Figure size 1600x1600 with 1 Axes>"
      ]
     },
     "metadata": {},
     "output_type": "display_data"
    }
   ],
   "source": [
    "figure(figsize=(20, 20), dpi=80)\n",
    "\n",
    "nx.draw(D, with_labels=True)\n",
    "plt.show()"
   ]
  },
  {
   "cell_type": "markdown",
   "metadata": {},
   "source": [
    "D ha tanti nodi quante communities ed esiste un arco tra due communities A-B <=> almeno un autore di community A cita almeno un autore della community B"
   ]
  },
  {
   "cell_type": "code",
   "execution_count": 75,
   "metadata": {},
   "outputs": [],
   "source": []
  },
  {
   "cell_type": "code",
   "execution_count": null,
   "metadata": {},
   "outputs": [],
   "source": []
  },
  {
   "cell_type": "code",
   "execution_count": 23,
   "metadata": {},
   "outputs": [
    {
     "name": "stdout",
     "output_type": "stream",
     "text": [
      "871\n"
     ]
    },
    {
     "data": {
      "text/html": [
       "<div>\n",
       "<style scoped>\n",
       "    .dataframe tbody tr th:only-of-type {\n",
       "        vertical-align: middle;\n",
       "    }\n",
       "\n",
       "    .dataframe tbody tr th {\n",
       "        vertical-align: top;\n",
       "    }\n",
       "\n",
       "    .dataframe thead th {\n",
       "        text-align: right;\n",
       "    }\n",
       "</style>\n",
       "<table border=\"1\" class=\"dataframe\">\n",
       "  <thead>\n",
       "    <tr style=\"text-align: right;\">\n",
       "      <th></th>\n",
       "      <th>authors</th>\n",
       "    </tr>\n",
       "    <tr>\n",
       "      <th>community</th>\n",
       "      <th></th>\n",
       "    </tr>\n",
       "  </thead>\n",
       "  <tbody>\n",
       "    <tr>\n",
       "      <th>0</th>\n",
       "      <td>[-----BEGIN PUBLIC KEY-----\\nMIIBIjANBgkqhkiG9...</td>\n",
       "    </tr>\n",
       "    <tr>\n",
       "      <th>1</th>\n",
       "      <td>[-----BEGIN PUBLIC KEY-----\\nMIIBIjANBgkqhkiG9...</td>\n",
       "    </tr>\n",
       "    <tr>\n",
       "      <th>2</th>\n",
       "      <td>[-----BEGIN PUBLIC KEY-----\\nMIIBIjANBgkqhkiG9...</td>\n",
       "    </tr>\n",
       "    <tr>\n",
       "      <th>3</th>\n",
       "      <td>[-----BEGIN PUBLIC KEY-----\\nMIIBIjANBgkqhkiG9...</td>\n",
       "    </tr>\n",
       "    <tr>\n",
       "      <th>4</th>\n",
       "      <td>[-----BEGIN PUBLIC KEY-----\\nMIIBIjANBgkqhkiG9...</td>\n",
       "    </tr>\n",
       "  </tbody>\n",
       "</table>\n",
       "</div>"
      ],
      "text/plain": [
       "                                                     authors\n",
       "community                                                   \n",
       "0          [-----BEGIN PUBLIC KEY-----\\nMIIBIjANBgkqhkiG9...\n",
       "1          [-----BEGIN PUBLIC KEY-----\\nMIIBIjANBgkqhkiG9...\n",
       "2          [-----BEGIN PUBLIC KEY-----\\nMIIBIjANBgkqhkiG9...\n",
       "3          [-----BEGIN PUBLIC KEY-----\\nMIIBIjANBgkqhkiG9...\n",
       "4          [-----BEGIN PUBLIC KEY-----\\nMIIBIjANBgkqhkiG9..."
      ]
     },
     "execution_count": 23,
     "metadata": {},
     "output_type": "execute_result"
    }
   ],
   "source": [
    "Communities_splitted = pd.DataFrame(columns=['community','authors'])\n",
    "Communities_splitted.community = range(0,len(Communities))\n",
    "Communities_splitted.set_index('community',inplace = True)\n",
    "\n",
    "lun = 0\n",
    "\n",
    "for i in range(len(Communities)):\n",
    "    autori = Communities.loc[i]['cluster_authors'].split(\"*\")\n",
    "    Communities_splitted.loc[i]['authors'] = autori\n",
    "    lun += len(autori)\n",
    "    \n",
    "print(lun)\n",
    "    \n",
    "Communities_splitted.head()"
   ]
  },
  {
   "cell_type": "code",
   "execution_count": 24,
   "metadata": {},
   "outputs": [
    {
     "data": {
      "text/plain": [
       "['-----BEGIN PUBLIC KEY-----\\nMIIBIjANBgkqhkiG9w0BAQEFAAOCAQ8AMIIBCgKCAQEA0dnd/2q1miceFJ4M/Hjo\\nUGblGQjv0Slq9wPjlJpjD0qMzHFyct46l+gqfRYxVtoFEsQRqTLfj8CMcjJvn439\\nxMlXByjnCXpI/y+SYHQNK+4STV/MnO5pr01B1ZDerHrBFcQu/IdKMhXwVBCb5gwP\\nlzCeiP9Shw4I40rbU1zs593SBEPvQry681j210mbwge0TfkjDc4qCFJT5zACiQrB\\nJzG86oankBgh/2X+Grlm8T4LlmVjvOajFAZsTwZta7HK3JX/a2z+OIdaaRwYwbkW\\nQ17irPSo79E+Mczw7MzxRIIsegWGH/HzKRmgBLbVEN9fciAXcMoUzZuSRmjCKMwM\\nHQIDAQAB\\n-----END PUBLIC KEY-----\\n',\n",
       " '-----BEGIN PUBLIC KEY-----\\nMIIBIjANBgkqhkiG9w0BAQEFAAOCAQ8AMIIBCgKCAQEAtdv2ONOW6Csv8p1BK2Cg\\nrQDP8koxz7h1ka2T/zw7opKQyyQljw63XCXwSVVKS5EtSKrBuQPWkM38uN98pvsW\\nPevxUHBW+aueCjkLJBg46v7Ttu4NV0tOVMQT+ehyCQSzgma5guR3HO5QzrolwBK1\\n9bSL4+8Tu5v993vQzuAKFuL7cP0WaD1iigmwCeP8JU6tBtX1HJ2Pi7IilGNC0q4T\\nT1rAbSgmwqTGwWIVI52rMEbaddvhMyhdnQmg0XVrkRXX1dLe4skBCgCFz0U+YV63\\nBlycRVrl7iFPJgOW/I4HRL+716Yg2Cldjo9Gifod/mGeyV8qlPBVkRStJsHFKWuc\\nXQIDAQAB\\n-----END PUBLIC KEY-----\\n']"
      ]
     },
     "execution_count": 24,
     "metadata": {},
     "output_type": "execute_result"
    }
   ],
   "source": [
    "Communities_splitted.iloc[0]['authors']"
   ]
  },
  {
   "cell_type": "code",
   "execution_count": null,
   "metadata": {},
   "outputs": [],
   "source": []
  },
  {
   "cell_type": "code",
   "execution_count": 25,
   "metadata": {},
   "outputs": [
    {
     "data": {
      "text/html": [
       "<div>\n",
       "<style scoped>\n",
       "    .dataframe tbody tr th:only-of-type {\n",
       "        vertical-align: middle;\n",
       "    }\n",
       "\n",
       "    .dataframe tbody tr th {\n",
       "        vertical-align: top;\n",
       "    }\n",
       "\n",
       "    .dataframe thead th {\n",
       "        text-align: right;\n",
       "    }\n",
       "</style>\n",
       "<table border=\"1\" class=\"dataframe\">\n",
       "  <thead>\n",
       "    <tr style=\"text-align: right;\">\n",
       "      <th></th>\n",
       "      <th>estimate</th>\n",
       "    </tr>\n",
       "    <tr>\n",
       "      <th>article_id</th>\n",
       "      <th></th>\n",
       "    </tr>\n",
       "  </thead>\n",
       "  <tbody>\n",
       "    <tr>\n",
       "      <th>bea8b41266f68383aab0ab6f11e1423db72df15ff8357a1a769b5f4005b39533</th>\n",
       "      <td>NaN</td>\n",
       "    </tr>\n",
       "    <tr>\n",
       "      <th>48f59e57815078456b89fe34932606fcf1e5fa7874cf00498999ed99247a73b1</th>\n",
       "      <td>NaN</td>\n",
       "    </tr>\n",
       "    <tr>\n",
       "      <th>e2e9da947c52e0f6107d5aa5d6e03e0e9fcafe7bccde08b259ca41eb31c8a358</th>\n",
       "      <td>NaN</td>\n",
       "    </tr>\n",
       "    <tr>\n",
       "      <th>f2b1c07718734fb4f48789faef537bc69604b53befe3402c7fe4cfd0f71ededb</th>\n",
       "      <td>NaN</td>\n",
       "    </tr>\n",
       "    <tr>\n",
       "      <th>c356dd48fe8a94bc92ef446443ee88f49eb28dee5e95bd334c2dfd039e019a4d</th>\n",
       "      <td>NaN</td>\n",
       "    </tr>\n",
       "    <tr>\n",
       "      <th>...</th>\n",
       "      <td>...</td>\n",
       "    </tr>\n",
       "    <tr>\n",
       "      <th>642acd3957e86003df21148bec1f62cd6ecce16c7bab00fc9fcc5e766a0a2886</th>\n",
       "      <td>NaN</td>\n",
       "    </tr>\n",
       "    <tr>\n",
       "      <th>a90d93063f81d04b7b2b2a7ad70aa0a4ae1900c05d5328ecc5f1da486cbce44e</th>\n",
       "      <td>NaN</td>\n",
       "    </tr>\n",
       "    <tr>\n",
       "      <th>f1cb6682fae35ace95e977735bbe2976c10c1a77ed3b877b56aefc8a65ee9519</th>\n",
       "      <td>NaN</td>\n",
       "    </tr>\n",
       "    <tr>\n",
       "      <th>11be570f418641c06fe7a7bb832b237a51d3a6f1615f3ac5670de6e1a8971ba4</th>\n",
       "      <td>NaN</td>\n",
       "    </tr>\n",
       "    <tr>\n",
       "      <th>5e30e254f2e709088f5e3a899d7bbb3a4670b5e47c2b248ff3e90e62c777da4b</th>\n",
       "      <td>NaN</td>\n",
       "    </tr>\n",
       "  </tbody>\n",
       "</table>\n",
       "<p>1066 rows × 1 columns</p>\n",
       "</div>"
      ],
      "text/plain": [
       "                                                   estimate\n",
       "article_id                                                 \n",
       "bea8b41266f68383aab0ab6f11e1423db72df15ff8357a1...      NaN\n",
       "48f59e57815078456b89fe34932606fcf1e5fa7874cf004...      NaN\n",
       "e2e9da947c52e0f6107d5aa5d6e03e0e9fcafe7bccde08b...      NaN\n",
       "f2b1c07718734fb4f48789faef537bc69604b53befe3402...      NaN\n",
       "c356dd48fe8a94bc92ef446443ee88f49eb28dee5e95bd3...      NaN\n",
       "...                                                     ...\n",
       "642acd3957e86003df21148bec1f62cd6ecce16c7bab00f...      NaN\n",
       "a90d93063f81d04b7b2b2a7ad70aa0a4ae1900c05d5328e...      NaN\n",
       "f1cb6682fae35ace95e977735bbe2976c10c1a77ed3b877...      NaN\n",
       "11be570f418641c06fe7a7bb832b237a51d3a6f1615f3ac...      NaN\n",
       "5e30e254f2e709088f5e3a899d7bbb3a4670b5e47c2b248...      NaN\n",
       "\n",
       "[1066 rows x 1 columns]"
      ]
     },
     "execution_count": 25,
     "metadata": {},
     "output_type": "execute_result"
    }
   ],
   "source": [
    "stima_veridicita_articoli = pd.DataFrame(columns=['article_id','estimate'])\n",
    "stima_veridicita_articoli['article_id'] = msg_DB\n",
    "stima_veridicita_articoli.set_index('article_id',inplace = True)\n",
    "stima_veridicita_articoli"
   ]
  },
  {
   "cell_type": "code",
   "execution_count": null,
   "metadata": {},
   "outputs": [],
   "source": []
  },
  {
   "cell_type": "markdown",
   "metadata": {},
   "source": [
    "a[PR(auth_i)/PR_Max] + b[#cit_entranti_i/#cit_entranti_Max] + c[AVG(PR_auth_citano_i)/PR_Max] + d[Communities value]"
   ]
  },
  {
   "cell_type": "code",
   "execution_count": 87,
   "metadata": {},
   "outputs": [],
   "source": [
    "#PR normalization\n",
    "PR_Max = PR_df.query('PR_values == PR_values.max()')['PR_values'][0]\n",
    "PR_mean = PR_df.PR_values.mean()\n",
    "PR_stdev = PR_df.PR_values.std()\n",
    "#print(PR_Max)\n",
    "\n",
    "#max_cit_entranti\n",
    "res = DB_AA_originale_senza_genesis.groupby('To_Author_Pub_key')['From_Author_Pub_Key'].count()\n",
    "cit_entranti_max = res.max()\n",
    "cit_entranti_mean = DB_AA_originale_senza_genesis.groupby('To_Author_Pub_key')['From_Author_Pub_Key'].count().mean()\n",
    "cit_entranti_stdev =DB_AA_originale_senza_genesis.groupby('To_Author_Pub_key')['From_Author_Pub_Key'].count().std()\n",
    "#print(cit_entranti_max)\n",
    "\n",
    "#max_len_#_hop\n",
    "path = dict(nx.all_pairs_dijkstra_path(D))\n",
    "list_of_len = []\n",
    "max_len = 0\n",
    "for node in D.nodes:\n",
    "    for paths in path[node]:\n",
    "        local_len = len(path[node][paths])-1\n",
    "        list_of_len.append(local_len)\n",
    "        if(local_len > max_len):\n",
    "            max_len = local_len\n",
    "\n",
    "\n",
    "max_len\n",
    "mean_len = statistics.mean(list_of_len)\n",
    "stdev_len = statistics.stdev(list_of_len)\n",
    "\n",
    "\n",
    "a = 0.2\n",
    "b = 0.2\n",
    "c = 0.2\n",
    "d = 0.4"
   ]
  },
  {
   "cell_type": "code",
   "execution_count": null,
   "metadata": {},
   "outputs": [],
   "source": []
  },
  {
   "cell_type": "code",
   "execution_count": null,
   "metadata": {},
   "outputs": [],
   "source": []
  },
  {
   "cell_type": "code",
   "execution_count": null,
   "metadata": {},
   "outputs": [],
   "source": []
  },
  {
   "cell_type": "code",
   "execution_count": null,
   "metadata": {},
   "outputs": [],
   "source": []
  },
  {
   "cell_type": "code",
   "execution_count": null,
   "metadata": {},
   "outputs": [],
   "source": []
  },
  {
   "cell_type": "code",
   "execution_count": null,
   "metadata": {},
   "outputs": [],
   "source": []
  },
  {
   "cell_type": "code",
   "execution_count": 64,
   "metadata": {},
   "outputs": [
    {
     "data": {
      "text/plain": [
       "71"
      ]
     },
     "execution_count": 64,
     "metadata": {},
     "output_type": "execute_result"
    }
   ],
   "source": [
    "len(path.keys()) "
   ]
  },
  {
   "cell_type": "code",
   "execution_count": 88,
   "metadata": {},
   "outputs": [],
   "source": [
    "def computeMinOfHopAvgDist(communities_citanti):\n",
    "\n",
    "    print(f'COMM CIT: {communities_citanti}')\n",
    "    \n",
    "    min_avg_dist = max_len\n",
    "    for i in communities_citanti:\n",
    "\n",
    "        local_avg_dist = 0\n",
    "\n",
    "        for j in communities_citanti:\n",
    "            if(i!=j):\n",
    "                if(str(j) in path[str(i)]):\n",
    "                    local_avg_dist += len(path[str(i)][str(j)])-1\n",
    "                else:\n",
    "                    local_avg_dist += max_len\n",
    "\n",
    "        if(local_avg_dist < min_avg_dist):\n",
    "            min_avg_dist = local_avg_dist\n",
    "\n",
    "    return min_avg_dist"
   ]
  },
  {
   "cell_type": "code",
   "execution_count": 133,
   "metadata": {},
   "outputs": [],
   "source": [
    "#NORMALIZZAZIONE FATTA DIVIDENDO PER MAX_VALUE\n",
    "\n",
    "stima = []\n",
    "\n",
    "for m in msg_DB:\n",
    "\n",
    "\n",
    "#print(article_id)\n",
    "\n",
    "    autore = DB_AA_originale[DB_AA_originale['FromNodeId']==m]['From_Author_Pub_Key'].values[0]\n",
    "    PR_autore = PR_df[PR_df['Author']==autore]['PR_values'].values[0]\n",
    "    num_cit_entranti = len(DB_AA_originale[DB_AA_originale['To_Author_Pub_key']==autore])\n",
    "    autori_citanti = DB_AA_originale[DB_AA_originale['To_Author_Pub_key']==autore]['From_Author_Pub_Key'].values\n",
    "    \n",
    "    if(len(autori_citanti)>0):\n",
    "        AVG_PR_autori_citanti = PR_df[PR_df['Author'].isin(autori_citanti)]['PR_values'].values.mean()\n",
    "    else:\n",
    "        AVG_PR_autori_citanti = 0\n",
    "    #print(autori_citanti)\n",
    "\n",
    "    #calcolo la distanza tra le communities che mi citano\n",
    "\n",
    "    communities_citanti = []\n",
    "\n",
    "    for i in autori_citanti:\n",
    "        for j in range(len(Communities_splitted)):\n",
    "            if(i in Communities_splitted.loc[j]['authors'] ):\n",
    "                communities_citanti.append(j)\n",
    "\n",
    "    communities_citanti = np.unique(communities_citanti)\n",
    "\n",
    "    Min_of_hop_avg_dist = computeMinOfHopAvgDist(communities_citanti)\n",
    "\n",
    "    stima_veridicita_articoli.loc[m]['estimate'] = a*(PR_autore/PR_Max) + b*(num_cit_entranti/cit_entranti_max) + c*(AVG_PR_autori_citanti/PR_Max) + d*(Min_of_hop_avg_dist/max_len)  "
   ]
  },
  {
   "cell_type": "code",
   "execution_count": 134,
   "metadata": {},
   "outputs": [
    {
     "data": {
      "text/html": [
       "<div>\n",
       "<style scoped>\n",
       "    .dataframe tbody tr th:only-of-type {\n",
       "        vertical-align: middle;\n",
       "    }\n",
       "\n",
       "    .dataframe tbody tr th {\n",
       "        vertical-align: top;\n",
       "    }\n",
       "\n",
       "    .dataframe thead th {\n",
       "        text-align: right;\n",
       "    }\n",
       "</style>\n",
       "<table border=\"1\" class=\"dataframe\">\n",
       "  <thead>\n",
       "    <tr style=\"text-align: right;\">\n",
       "      <th></th>\n",
       "      <th>estimate</th>\n",
       "    </tr>\n",
       "    <tr>\n",
       "      <th>article_id</th>\n",
       "      <th></th>\n",
       "    </tr>\n",
       "  </thead>\n",
       "  <tbody>\n",
       "    <tr>\n",
       "      <th>bea8b41266f68383aab0ab6f11e1423db72df15ff8357a1a769b5f4005b39533</th>\n",
       "      <td>0.009946</td>\n",
       "    </tr>\n",
       "    <tr>\n",
       "      <th>48f59e57815078456b89fe34932606fcf1e5fa7874cf00498999ed99247a73b1</th>\n",
       "      <td>0.016374</td>\n",
       "    </tr>\n",
       "    <tr>\n",
       "      <th>e2e9da947c52e0f6107d5aa5d6e03e0e9fcafe7bccde08b259ca41eb31c8a358</th>\n",
       "      <td>0.042797</td>\n",
       "    </tr>\n",
       "    <tr>\n",
       "      <th>f2b1c07718734fb4f48789faef537bc69604b53befe3402c7fe4cfd0f71ededb</th>\n",
       "      <td>0.016374</td>\n",
       "    </tr>\n",
       "    <tr>\n",
       "      <th>c356dd48fe8a94bc92ef446443ee88f49eb28dee5e95bd334c2dfd039e019a4d</th>\n",
       "      <td>0.009946</td>\n",
       "    </tr>\n",
       "    <tr>\n",
       "      <th>...</th>\n",
       "      <td>...</td>\n",
       "    </tr>\n",
       "    <tr>\n",
       "      <th>642acd3957e86003df21148bec1f62cd6ecce16c7bab00fc9fcc5e766a0a2886</th>\n",
       "      <td>0.402280</td>\n",
       "    </tr>\n",
       "    <tr>\n",
       "      <th>a90d93063f81d04b7b2b2a7ad70aa0a4ae1900c05d5328ecc5f1da486cbce44e</th>\n",
       "      <td>0.402280</td>\n",
       "    </tr>\n",
       "    <tr>\n",
       "      <th>f1cb6682fae35ace95e977735bbe2976c10c1a77ed3b877b56aefc8a65ee9519</th>\n",
       "      <td>0.402280</td>\n",
       "    </tr>\n",
       "    <tr>\n",
       "      <th>11be570f418641c06fe7a7bb832b237a51d3a6f1615f3ac5670de6e1a8971ba4</th>\n",
       "      <td>0.402280</td>\n",
       "    </tr>\n",
       "    <tr>\n",
       "      <th>5e30e254f2e709088f5e3a899d7bbb3a4670b5e47c2b248ff3e90e62c777da4b</th>\n",
       "      <td>0.402280</td>\n",
       "    </tr>\n",
       "  </tbody>\n",
       "</table>\n",
       "<p>1066 rows × 1 columns</p>\n",
       "</div>"
      ],
      "text/plain": [
       "                                                    estimate\n",
       "article_id                                                  \n",
       "bea8b41266f68383aab0ab6f11e1423db72df15ff8357a1...  0.009946\n",
       "48f59e57815078456b89fe34932606fcf1e5fa7874cf004...  0.016374\n",
       "e2e9da947c52e0f6107d5aa5d6e03e0e9fcafe7bccde08b...  0.042797\n",
       "f2b1c07718734fb4f48789faef537bc69604b53befe3402...  0.016374\n",
       "c356dd48fe8a94bc92ef446443ee88f49eb28dee5e95bd3...  0.009946\n",
       "...                                                      ...\n",
       "642acd3957e86003df21148bec1f62cd6ecce16c7bab00f...  0.402280\n",
       "a90d93063f81d04b7b2b2a7ad70aa0a4ae1900c05d5328e...  0.402280\n",
       "f1cb6682fae35ace95e977735bbe2976c10c1a77ed3b877...  0.402280\n",
       "11be570f418641c06fe7a7bb832b237a51d3a6f1615f3ac...  0.402280\n",
       "5e30e254f2e709088f5e3a899d7bbb3a4670b5e47c2b248...  0.402280\n",
       "\n",
       "[1066 rows x 1 columns]"
      ]
     },
     "execution_count": 134,
     "metadata": {},
     "output_type": "execute_result"
    }
   ],
   "source": [
    "stima_veridicita_articoli"
   ]
  },
  {
   "cell_type": "code",
   "execution_count": 135,
   "metadata": {},
   "outputs": [
    {
     "data": {
      "text/plain": [
       "<AxesSubplot:xlabel='article_id'>"
      ]
     },
     "execution_count": 135,
     "metadata": {},
     "output_type": "execute_result"
    },
    {
     "data": {
      "image/png": "[encoded data removed]",
      "text/plain": [
       "<Figure size 432x288 with 1 Axes>"
      ]
     },
     "metadata": {
      "needs_background": "light"
     },
     "output_type": "display_data"
    }
   ],
   "source": [
    "stima_veridicita_articoli.plot()"
   ]
  },
  {
   "cell_type": "code",
   "execution_count": null,
   "metadata": {},
   "outputs": [],
   "source": []
  },
  {
   "cell_type": "code",
   "execution_count": null,
   "metadata": {},
   "outputs": [],
   "source": []
  },
  {
   "cell_type": "markdown",
   "metadata": {},
   "source": [
    "PR_Max, PR_mean, PR_stdev\n",
    "\n",
    "\n",
    "cit_entranti_max, cit_entranti_mean, cit_entranti_stdev\n",
    "\n",
    "\n",
    "\n",
    "max_len, mean_len, stdev_len\n",
    "\n",
    "\n",
    "\n"
   ]
  },
  {
   "cell_type": "code",
   "execution_count": 129,
   "metadata": {},
   "outputs": [],
   "source": [
    "#NORMALIZZAZIONE FATTA TRAMITE STANDARDIZZAZIONE DEI VALORI\n",
    "\n",
    "stima = []\n",
    "\n",
    "a = 0.2\n",
    "b = 0.2\n",
    "c = 0.2\n",
    "d = 0.4\n",
    "\n",
    "for m in msg_DB:\n",
    "\n",
    "    autore = DB_AA_originale[DB_AA_originale['FromNodeId']==m]['From_Author_Pub_Key'].values[0]\n",
    "    PR_autore = PR_df[PR_df['Author']==autore]['PR_values'].values[0]\n",
    "    num_cit_entranti = len(DB_AA_originale[DB_AA_originale['To_Author_Pub_key']==autore])\n",
    "    autori_citanti = DB_AA_originale[DB_AA_originale['To_Author_Pub_key']==autore]['From_Author_Pub_Key'].values\n",
    "    \n",
    "    if(len(autori_citanti)>0):\n",
    "        AVG_PR_autori_citanti = PR_df[PR_df['Author'].isin(autori_citanti)]['PR_values'].values.mean()\n",
    "    else:\n",
    "        AVG_PR_autori_citanti = 0\n",
    "    #print(autori_citanti)\n",
    "\n",
    "    #calcolo la distanza tra le communities che mi citano\n",
    "\n",
    "    communities_citanti = []\n",
    "\n",
    "    for i in autori_citanti:\n",
    "        for j in range(len(Communities_splitted)):\n",
    "            if(i in Communities_splitted.loc[j]['authors'] ):\n",
    "                communities_citanti.append(j)\n",
    "\n",
    "    communities_citanti = np.unique(communities_citanti)\n",
    "\n",
    "    Min_of_hop_avg_dist = computeMinOfHopAvgDist(communities_citanti)\n",
    "    \n",
    "    \n",
    "    \n",
    "    stima_veridicita_articoli.loc[m]['estimate'] = a*((PR_autore-PR_mean)/PR_stdev) + b*((num_cit_entranti-cit_entranti_mean)/cit_entranti_stdev) + c*((AVG_PR_autori_citanti-PR_mean)/PR_stdev) + d*((Min_of_hop_avg_dist-mean_len)/stdev_len)  "
   ]
  },
  {
   "cell_type": "code",
   "execution_count": 130,
   "metadata": {},
   "outputs": [
    {
     "data": {
      "text/html": [
       "<div>\n",
       "<style scoped>\n",
       "    .dataframe tbody tr th:only-of-type {\n",
       "        vertical-align: middle;\n",
       "    }\n",
       "\n",
       "    .dataframe tbody tr th {\n",
       "        vertical-align: top;\n",
       "    }\n",
       "\n",
       "    .dataframe thead th {\n",
       "        text-align: right;\n",
       "    }\n",
       "</style>\n",
       "<table border=\"1\" class=\"dataframe\">\n",
       "  <thead>\n",
       "    <tr style=\"text-align: right;\">\n",
       "      <th></th>\n",
       "      <th>estimate</th>\n",
       "    </tr>\n",
       "    <tr>\n",
       "      <th>article_id</th>\n",
       "      <th></th>\n",
       "    </tr>\n",
       "  </thead>\n",
       "  <tbody>\n",
       "    <tr>\n",
       "      <th>bea8b41266f68383aab0ab6f11e1423db72df15ff8357a1a769b5f4005b39533</th>\n",
       "      <td>-0.868240</td>\n",
       "    </tr>\n",
       "    <tr>\n",
       "      <th>48f59e57815078456b89fe34932606fcf1e5fa7874cf00498999ed99247a73b1</th>\n",
       "      <td>-0.766982</td>\n",
       "    </tr>\n",
       "    <tr>\n",
       "      <th>e2e9da947c52e0f6107d5aa5d6e03e0e9fcafe7bccde08b259ca41eb31c8a358</th>\n",
       "      <td>-0.316490</td>\n",
       "    </tr>\n",
       "    <tr>\n",
       "      <th>f2b1c07718734fb4f48789faef537bc69604b53befe3402c7fe4cfd0f71ededb</th>\n",
       "      <td>-0.766982</td>\n",
       "    </tr>\n",
       "    <tr>\n",
       "      <th>c356dd48fe8a94bc92ef446443ee88f49eb28dee5e95bd334c2dfd039e019a4d</th>\n",
       "      <td>-0.868240</td>\n",
       "    </tr>\n",
       "    <tr>\n",
       "      <th>...</th>\n",
       "      <td>...</td>\n",
       "    </tr>\n",
       "    <tr>\n",
       "      <th>642acd3957e86003df21148bec1f62cd6ecce16c7bab00fc9fcc5e766a0a2886</th>\n",
       "      <td>0.581134</td>\n",
       "    </tr>\n",
       "    <tr>\n",
       "      <th>a90d93063f81d04b7b2b2a7ad70aa0a4ae1900c05d5328ecc5f1da486cbce44e</th>\n",
       "      <td>0.581134</td>\n",
       "    </tr>\n",
       "    <tr>\n",
       "      <th>f1cb6682fae35ace95e977735bbe2976c10c1a77ed3b877b56aefc8a65ee9519</th>\n",
       "      <td>0.581134</td>\n",
       "    </tr>\n",
       "    <tr>\n",
       "      <th>11be570f418641c06fe7a7bb832b237a51d3a6f1615f3ac5670de6e1a8971ba4</th>\n",
       "      <td>0.581134</td>\n",
       "    </tr>\n",
       "    <tr>\n",
       "      <th>5e30e254f2e709088f5e3a899d7bbb3a4670b5e47c2b248ff3e90e62c777da4b</th>\n",
       "      <td>0.581134</td>\n",
       "    </tr>\n",
       "  </tbody>\n",
       "</table>\n",
       "<p>1066 rows × 1 columns</p>\n",
       "</div>"
      ],
      "text/plain": [
       "                                                    estimate\n",
       "article_id                                                  \n",
       "bea8b41266f68383aab0ab6f11e1423db72df15ff8357a1... -0.868240\n",
       "48f59e57815078456b89fe34932606fcf1e5fa7874cf004... -0.766982\n",
       "e2e9da947c52e0f6107d5aa5d6e03e0e9fcafe7bccde08b... -0.316490\n",
       "f2b1c07718734fb4f48789faef537bc69604b53befe3402... -0.766982\n",
       "c356dd48fe8a94bc92ef446443ee88f49eb28dee5e95bd3... -0.868240\n",
       "...                                                      ...\n",
       "642acd3957e86003df21148bec1f62cd6ecce16c7bab00f...  0.581134\n",
       "a90d93063f81d04b7b2b2a7ad70aa0a4ae1900c05d5328e...  0.581134\n",
       "f1cb6682fae35ace95e977735bbe2976c10c1a77ed3b877...  0.581134\n",
       "11be570f418641c06fe7a7bb832b237a51d3a6f1615f3ac...  0.581134\n",
       "5e30e254f2e709088f5e3a899d7bbb3a4670b5e47c2b248...  0.581134\n",
       "\n",
       "[1066 rows x 1 columns]"
      ]
     },
     "execution_count": 130,
     "metadata": {},
     "output_type": "execute_result"
    }
   ],
   "source": [
    "stima_veridicita_articoli"
   ]
  },
  {
   "cell_type": "code",
   "execution_count": 131,
   "metadata": {},
   "outputs": [
    {
     "data": {
      "text/plain": [
       "<AxesSubplot:xlabel='article_id'>"
      ]
     },
     "execution_count": 131,
     "metadata": {},
     "output_type": "execute_result"
    },
    {
     "data": {
      "image/png": "[encoded data removed]",
      "text/plain": [
       "<Figure size 432x288 with 1 Axes>"
      ]
     },
     "metadata": {
      "needs_background": "light"
     },
     "output_type": "display_data"
    }
   ],
   "source": [
    "stima_veridicita_articoli.estimate.plot()"
   ]
  },
  {
   "cell_type": "code",
   "execution_count": null,
   "metadata": {},
   "outputs": [],
   "source": []
  },
  {
   "cell_type": "code",
   "execution_count": null,
   "metadata": {},
   "outputs": [],
   "source": []
  },
  {
   "cell_type": "code",
   "execution_count": null,
   "metadata": {},
   "outputs": [],
   "source": []
  },
  {
   "cell_type": "code",
   "execution_count": 119,
   "metadata": {},
   "outputs": [],
   "source": [
    "#NORMALIZZAZIONE FATTA DOPO IL CALCOLO COMPLETO, CHE QUINDI VIENE SVOLTO SENZA NORMALIZZAZIONI\n",
    "\n",
    "stima = []\n",
    "\n",
    "for m in msg_DB:\n",
    "\n",
    "\n",
    "#print(article_id)\n",
    "\n",
    "    autore = DB_AA_originale[DB_AA_originale['FromNodeId']==m]['From_Author_Pub_Key'].values[0]\n",
    "    PR_autore = PR_df[PR_df['Author']==autore]['PR_values'].values[0]\n",
    "    num_cit_entranti = len(DB_AA_originale[DB_AA_originale['To_Author_Pub_key']==autore])\n",
    "    autori_citanti = DB_AA_originale[DB_AA_originale['To_Author_Pub_key']==autore]['From_Author_Pub_Key'].values\n",
    "    \n",
    "    if(len(autori_citanti)>0):\n",
    "        AVG_PR_autori_citanti = PR_df[PR_df['Author'].isin(autori_citanti)]['PR_values'].values.mean()\n",
    "    else:\n",
    "        AVG_PR_autori_citanti = 0\n",
    "    #print(autori_citanti)\n",
    "\n",
    "    #calcolo la distanza tra le communities che mi citano\n",
    "\n",
    "    communities_citanti = []\n",
    "\n",
    "    for i in autori_citanti:\n",
    "        for j in range(len(Communities_splitted)):\n",
    "            if(i in Communities_splitted.loc[j]['authors'] ):\n",
    "                communities_citanti.append(j)\n",
    "\n",
    "    communities_citanti = np.unique(communities_citanti)\n",
    "\n",
    "    Min_of_hop_avg_dist = computeMinOfHopAvgDist(communities_citanti)\n",
    "\n",
    "    stima_veridicita_articoli.loc[m]['estimate'] = a*(PR_autore) + b*(num_cit_entranti) + c*(AVG_PR_autori_citanti) + d*(Min_of_hop_avg_dist)  "
   ]
  },
  {
   "cell_type": "code",
   "execution_count": 104,
   "metadata": {},
   "outputs": [
    {
     "data": {
      "text/html": [
       "<div>\n",
       "<style scoped>\n",
       "    .dataframe tbody tr th:only-of-type {\n",
       "        vertical-align: middle;\n",
       "    }\n",
       "\n",
       "    .dataframe tbody tr th {\n",
       "        vertical-align: top;\n",
       "    }\n",
       "\n",
       "    .dataframe thead th {\n",
       "        text-align: right;\n",
       "    }\n",
       "</style>\n",
       "<table border=\"1\" class=\"dataframe\">\n",
       "  <thead>\n",
       "    <tr style=\"text-align: right;\">\n",
       "      <th></th>\n",
       "      <th>estimate</th>\n",
       "    </tr>\n",
       "    <tr>\n",
       "      <th>article_id</th>\n",
       "      <th></th>\n",
       "    </tr>\n",
       "  </thead>\n",
       "  <tbody>\n",
       "    <tr>\n",
       "      <th>bea8b41266f68383aab0ab6f11e1423db72df15ff8357a1a769b5f4005b39533</th>\n",
       "      <td>0.000006</td>\n",
       "    </tr>\n",
       "    <tr>\n",
       "      <th>48f59e57815078456b89fe34932606fcf1e5fa7874cf00498999ed99247a73b1</th>\n",
       "      <td>0.014931</td>\n",
       "    </tr>\n",
       "    <tr>\n",
       "      <th>e2e9da947c52e0f6107d5aa5d6e03e0e9fcafe7bccde08b259ca41eb31c8a358</th>\n",
       "      <td>0.059729</td>\n",
       "    </tr>\n",
       "    <tr>\n",
       "      <th>f2b1c07718734fb4f48789faef537bc69604b53befe3402c7fe4cfd0f71ededb</th>\n",
       "      <td>0.014931</td>\n",
       "    </tr>\n",
       "    <tr>\n",
       "      <th>c356dd48fe8a94bc92ef446443ee88f49eb28dee5e95bd334c2dfd039e019a4d</th>\n",
       "      <td>0.000006</td>\n",
       "    </tr>\n",
       "    <tr>\n",
       "      <th>...</th>\n",
       "      <td>...</td>\n",
       "    </tr>\n",
       "    <tr>\n",
       "      <th>642acd3957e86003df21148bec1f62cd6ecce16c7bab00fc9fcc5e766a0a2886</th>\n",
       "      <td>0.134234</td>\n",
       "    </tr>\n",
       "    <tr>\n",
       "      <th>a90d93063f81d04b7b2b2a7ad70aa0a4ae1900c05d5328ecc5f1da486cbce44e</th>\n",
       "      <td>0.134234</td>\n",
       "    </tr>\n",
       "    <tr>\n",
       "      <th>f1cb6682fae35ace95e977735bbe2976c10c1a77ed3b877b56aefc8a65ee9519</th>\n",
       "      <td>0.134234</td>\n",
       "    </tr>\n",
       "    <tr>\n",
       "      <th>11be570f418641c06fe7a7bb832b237a51d3a6f1615f3ac5670de6e1a8971ba4</th>\n",
       "      <td>0.134234</td>\n",
       "    </tr>\n",
       "    <tr>\n",
       "      <th>5e30e254f2e709088f5e3a899d7bbb3a4670b5e47c2b248ff3e90e62c777da4b</th>\n",
       "      <td>0.134234</td>\n",
       "    </tr>\n",
       "  </tbody>\n",
       "</table>\n",
       "<p>1066 rows × 1 columns</p>\n",
       "</div>"
      ],
      "text/plain": [
       "                                                    estimate\n",
       "article_id                                                  \n",
       "bea8b41266f68383aab0ab6f11e1423db72df15ff8357a1...  0.000006\n",
       "48f59e57815078456b89fe34932606fcf1e5fa7874cf004...  0.014931\n",
       "e2e9da947c52e0f6107d5aa5d6e03e0e9fcafe7bccde08b...  0.059729\n",
       "f2b1c07718734fb4f48789faef537bc69604b53befe3402...  0.014931\n",
       "c356dd48fe8a94bc92ef446443ee88f49eb28dee5e95bd3...  0.000006\n",
       "...                                                      ...\n",
       "642acd3957e86003df21148bec1f62cd6ecce16c7bab00f...  0.134234\n",
       "a90d93063f81d04b7b2b2a7ad70aa0a4ae1900c05d5328e...  0.134234\n",
       "f1cb6682fae35ace95e977735bbe2976c10c1a77ed3b877...  0.134234\n",
       "11be570f418641c06fe7a7bb832b237a51d3a6f1615f3ac...  0.134234\n",
       "5e30e254f2e709088f5e3a899d7bbb3a4670b5e47c2b248...  0.134234\n",
       "\n",
       "[1066 rows x 1 columns]"
      ]
     },
     "execution_count": 104,
     "metadata": {},
     "output_type": "execute_result"
    }
   ],
   "source": [
    "#X_normalized = (X - X_min) / (X_max - X_min)\n",
    "min_val = stima_veridicita_articoli.estimate.min()\n",
    "max_val = stima_veridicita_articoli.estimate.max()\n",
    "max_minus_min = max_val - min_val\n",
    "\n",
    "stima_veridicita_articoli['estimate'] = stima_veridicita_articoli['estimate'].apply(lambda row: (row - min_val)/max_minus_min)\n",
    "stima_veridicita_articoli"
   ]
  },
  {
   "cell_type": "code",
   "execution_count": 105,
   "metadata": {},
   "outputs": [
    {
     "data": {
      "text/plain": [
       "<AxesSubplot:xlabel='article_id'>"
      ]
     },
     "execution_count": 105,
     "metadata": {},
     "output_type": "execute_result"
    },
    {
     "data": {
      "image/png": "[encoded data removed]",
      "text/plain": [
       "<Figure size 432x288 with 1 Axes>"
      ]
     },
     "metadata": {
      "needs_background": "light"
     },
     "output_type": "display_data"
    }
   ],
   "source": [
    "stima_veridicita_articoli.estimate.plot()"
   ]
  },
  {
   "cell_type": "code",
   "execution_count": null,
   "metadata": {},
   "outputs": [],
   "source": []
  },
  {
   "cell_type": "code",
   "execution_count": null,
   "metadata": {},
   "outputs": [],
   "source": []
  },
  {
   "cell_type": "code",
   "execution_count": null,
   "metadata": {},
   "outputs": [],
   "source": []
  },
  {
   "cell_type": "code",
   "execution_count": null,
   "metadata": {},
   "outputs": [],
   "source": []
  },
  {
   "cell_type": "code",
   "execution_count": null,
   "metadata": {},
   "outputs": [],
   "source": []
  },
  {
   "cell_type": "code",
   "execution_count": 120,
   "metadata": {},
   "outputs": [],
   "source": [
    "#NORMALIZZAZIONE FATTA con Logistic Normalization\n",
    "\n",
    "stima = []\n",
    "\n",
    "for m in msg_DB:\n",
    "\n",
    "\n",
    "#print(article_id)\n",
    "\n",
    "    autore = DB_AA_originale[DB_AA_originale['FromNodeId']==m]['From_Author_Pub_Key'].values[0]\n",
    "    PR_autore = PR_df[PR_df['Author']==autore]['PR_values'].values[0]\n",
    "    num_cit_entranti = len(DB_AA_originale[DB_AA_originale['To_Author_Pub_key']==autore])\n",
    "    autori_citanti = DB_AA_originale[DB_AA_originale['To_Author_Pub_key']==autore]['From_Author_Pub_Key'].values\n",
    "    \n",
    "    if(len(autori_citanti)>0):\n",
    "        AVG_PR_autori_citanti = PR_df[PR_df['Author'].isin(autori_citanti)]['PR_values'].values.mean()\n",
    "    else:\n",
    "        AVG_PR_autori_citanti = 0\n",
    "    #print(autori_citanti)\n",
    "\n",
    "    #calcolo la distanza tra le communities che mi citano\n",
    "\n",
    "    communities_citanti = []\n",
    "\n",
    "    for i in autori_citanti:\n",
    "        for j in range(len(Communities_splitted)):\n",
    "            if(i in Communities_splitted.loc[j]['authors'] ):\n",
    "                communities_citanti.append(j)\n",
    "\n",
    "    communities_citanti = np.unique(communities_citanti)\n",
    "\n",
    "    Min_of_hop_avg_dist = computeMinOfHopAvgDist(communities_citanti)\n",
    "\n",
    "    stima_veridicita_articoli.loc[m]['estimate'] = a*(PR_autore) + b*(num_cit_entranti) + c*(AVG_PR_autori_citanti) + d*(Min_of_hop_avg_dist)  "
   ]
  },
  {
   "cell_type": "code",
   "execution_count": 125,
   "metadata": {},
   "outputs": [
    {
     "data": {
      "text/html": [
       "<div>\n",
       "<style scoped>\n",
       "    .dataframe tbody tr th:only-of-type {\n",
       "        vertical-align: middle;\n",
       "    }\n",
       "\n",
       "    .dataframe tbody tr th {\n",
       "        vertical-align: top;\n",
       "    }\n",
       "\n",
       "    .dataframe thead th {\n",
       "        text-align: right;\n",
       "    }\n",
       "</style>\n",
       "<table border=\"1\" class=\"dataframe\">\n",
       "  <thead>\n",
       "    <tr style=\"text-align: right;\">\n",
       "      <th></th>\n",
       "      <th>estimate</th>\n",
       "    </tr>\n",
       "    <tr>\n",
       "      <th>article_id</th>\n",
       "      <th></th>\n",
       "    </tr>\n",
       "  </thead>\n",
       "  <tbody>\n",
       "    <tr>\n",
       "      <th>bea8b41266f68383aab0ab6f11e1423db72df15ff8357a1a769b5f4005b39533</th>\n",
       "      <td>0.549902</td>\n",
       "    </tr>\n",
       "    <tr>\n",
       "      <th>48f59e57815078456b89fe34932606fcf1e5fa7874cf00498999ed99247a73b1</th>\n",
       "      <td>0.598784</td>\n",
       "    </tr>\n",
       "    <tr>\n",
       "      <th>e2e9da947c52e0f6107d5aa5d6e03e0e9fcafe7bccde08b259ca41eb31c8a358</th>\n",
       "      <td>0.731272</td>\n",
       "    </tr>\n",
       "    <tr>\n",
       "      <th>f2b1c07718734fb4f48789faef537bc69604b53befe3402c7fe4cfd0f71ededb</th>\n",
       "      <td>0.598784</td>\n",
       "    </tr>\n",
       "    <tr>\n",
       "      <th>c356dd48fe8a94bc92ef446443ee88f49eb28dee5e95bd334c2dfd039e019a4d</th>\n",
       "      <td>0.549902</td>\n",
       "    </tr>\n",
       "    <tr>\n",
       "      <th>...</th>\n",
       "      <td>...</td>\n",
       "    </tr>\n",
       "    <tr>\n",
       "      <th>642acd3957e86003df21148bec1f62cd6ecce16c7bab00fc9fcc5e766a0a2886</th>\n",
       "      <td>0.880807</td>\n",
       "    </tr>\n",
       "    <tr>\n",
       "      <th>a90d93063f81d04b7b2b2a7ad70aa0a4ae1900c05d5328ecc5f1da486cbce44e</th>\n",
       "      <td>0.880807</td>\n",
       "    </tr>\n",
       "    <tr>\n",
       "      <th>f1cb6682fae35ace95e977735bbe2976c10c1a77ed3b877b56aefc8a65ee9519</th>\n",
       "      <td>0.880807</td>\n",
       "    </tr>\n",
       "    <tr>\n",
       "      <th>11be570f418641c06fe7a7bb832b237a51d3a6f1615f3ac5670de6e1a8971ba4</th>\n",
       "      <td>0.880807</td>\n",
       "    </tr>\n",
       "    <tr>\n",
       "      <th>5e30e254f2e709088f5e3a899d7bbb3a4670b5e47c2b248ff3e90e62c777da4b</th>\n",
       "      <td>0.880807</td>\n",
       "    </tr>\n",
       "  </tbody>\n",
       "</table>\n",
       "<p>1066 rows × 1 columns</p>\n",
       "</div>"
      ],
      "text/plain": [
       "                                                    estimate\n",
       "article_id                                                  \n",
       "bea8b41266f68383aab0ab6f11e1423db72df15ff8357a1...  0.549902\n",
       "48f59e57815078456b89fe34932606fcf1e5fa7874cf004...  0.598784\n",
       "e2e9da947c52e0f6107d5aa5d6e03e0e9fcafe7bccde08b...  0.731272\n",
       "f2b1c07718734fb4f48789faef537bc69604b53befe3402...  0.598784\n",
       "c356dd48fe8a94bc92ef446443ee88f49eb28dee5e95bd3...  0.549902\n",
       "...                                                      ...\n",
       "642acd3957e86003df21148bec1f62cd6ecce16c7bab00f...  0.880807\n",
       "a90d93063f81d04b7b2b2a7ad70aa0a4ae1900c05d5328e...  0.880807\n",
       "f1cb6682fae35ace95e977735bbe2976c10c1a77ed3b877...  0.880807\n",
       "11be570f418641c06fe7a7bb832b237a51d3a6f1615f3ac...  0.880807\n",
       "5e30e254f2e709088f5e3a899d7bbb3a4670b5e47c2b248...  0.880807\n",
       "\n",
       "[1066 rows x 1 columns]"
      ]
     },
     "execution_count": 125,
     "metadata": {},
     "output_type": "execute_result"
    }
   ],
   "source": [
    "\n",
    "stima_veridicita_articoli['estimate'] = stima_veridicita_articoli['estimate'].apply(lambda row: 1 / (1 + pow(math.e,-row)))\n",
    "stima_veridicita_articoli\n",
    "\n",
    "#Logistic(x) = 1 / (1 + e^(-x))\n"
   ]
  },
  {
   "cell_type": "code",
   "execution_count": 127,
   "metadata": {},
   "outputs": [
    {
     "data": {
      "text/plain": [
       "<AxesSubplot:xlabel='article_id'>"
      ]
     },
     "execution_count": 127,
     "metadata": {},
     "output_type": "execute_result"
    },
    {
     "data": {
      "image/png": "[encoded data removed]",
      "text/plain": [
       "<Figure size 432x288 with 1 Axes>"
      ]
     },
     "metadata": {
      "needs_background": "light"
     },
     "output_type": "display_data"
    }
   ],
   "source": [
    "stima_veridicita_articoli.estimate.plot()"
   ]
  },
  {
   "cell_type": "code",
   "execution_count": 128,
   "metadata": {},
   "outputs": [
    {
     "data": {
      "text/plain": [
       "0.9999987704699383"
      ]
     },
     "execution_count": 128,
     "metadata": {},
     "output_type": "execute_result"
    }
   ],
   "source": [
    "stima_veridicita_articoli.estimate.max()"
   ]
  },
  {
   "cell_type": "code",
   "execution_count": null,
   "metadata": {},
   "outputs": [],
   "source": []
  },
  {
   "cell_type": "code",
   "execution_count": null,
   "metadata": {},
   "outputs": [],
   "source": []
  },
  {
   "cell_type": "code",
   "execution_count": 159,
   "metadata": {},
   "outputs": [],
   "source": [
    "def computeMinOfHopAvgDist(communities_citanti):\n",
    "    \n",
    "    min_avg_dist = max_len\n",
    "    for i in communities_citanti:\n",
    "\n",
    "        local_avg_dist = 0\n",
    "\n",
    "        for j in communities_citanti:\n",
    "            if(i!=j):\n",
    "                if(str(j) in path[str(i)]):\n",
    "                    local_avg_dist += len(path[str(i)][str(j)])-1\n",
    "                else:\n",
    "                    local_avg_dist += max_len\n",
    "\n",
    "        if(local_avg_dist < min_avg_dist):\n",
    "            min_avg_dist = local_avg_dist\n",
    "\n",
    "\n",
    "    return min_avg_dist"
   ]
  },
  {
   "cell_type": "code",
   "execution_count": null,
   "metadata": {},
   "outputs": [],
   "source": []
  },
  {
   "cell_type": "code",
   "execution_count": 162,
   "metadata": {},
   "outputs": [],
   "source": [
    "#NORMALIZZAZIONE FATTA DEFINENDO LE VARIABILI COME LOGARITMI\n",
    "\n",
    "stima = []\n",
    "a = 0.2\n",
    "b = 0.2\n",
    "c = 0.2\n",
    "d = 0.4\n",
    "\n",
    "for m in msg_DB:\n",
    "\n",
    "\n",
    "#print(article_id)\n",
    "\n",
    "    autore = DB_AA_originale[DB_AA_originale['FromNodeId']==m]['From_Author_Pub_Key'].values[0]\n",
    "    PR_autore = PR_df[PR_df['Author']==autore]['PR_values'].values[0]\n",
    "    num_cit_entranti = len(DB_AA_originale[DB_AA_originale['To_Author_Pub_key']==autore])\n",
    "\n",
    "    if(num_cit_entranti >0):\n",
    "    \n",
    "        autori_citanti = DB_AA_originale[DB_AA_originale['To_Author_Pub_key']==autore]['From_Author_Pub_Key'].values\n",
    "\n",
    "        AVG_PR_autori_citanti = PR_df[PR_df['Author'].isin(autori_citanti)]['PR_values'].values.mean()\n",
    "\n",
    "        communities_citanti = []\n",
    "\n",
    "        for i in autori_citanti:\n",
    "            for j in range(len(Communities_splitted)):\n",
    "                if(i in Communities_splitted.loc[j]['authors'] ):\n",
    "                    communities_citanti.append(j)\n",
    "\n",
    "        communities_citanti = np.unique(communities_citanti)\n",
    "\n",
    "        \n",
    "        Min_of_hop_avg_dist = computeMinOfHopAvgDist(communities_citanti)\n",
    "\n",
    "    else:\n",
    "        AVG_PR_autori_citanti = 0\n",
    "        Min_of_hop_avg_dist = 0\n",
    "    \n",
    "    f = a*(math.log(PR_Max,PR_autore))\n",
    "    \n",
    "        \n",
    "    try:    \n",
    "        s = b*(math.log(cit_entranti_max,num_cit_entranti))\n",
    "    except:\n",
    "        s = 0\n",
    "        \n",
    "    try:    \n",
    "        t = c*(math.log(PR_Max,AVG_PR_autori_citanti))\n",
    "    except:\n",
    "        t = 0\n",
    "        \n",
    "    try:    \n",
    "        q = d*(math.log(max_len,Min_of_hop_avg_dist))\n",
    "    except:\n",
    "        q = 0\n",
    "    \n",
    "    stima_veridicita_articoli.loc[m]['estimate'] = f + s + t + q\n",
    "   \n",
    "    "
   ]
  },
  {
   "cell_type": "code",
   "execution_count": 163,
   "metadata": {},
   "outputs": [
    {
     "data": {
      "text/html": [
       "<div>\n",
       "<style scoped>\n",
       "    .dataframe tbody tr th:only-of-type {\n",
       "        vertical-align: middle;\n",
       "    }\n",
       "\n",
       "    .dataframe tbody tr th {\n",
       "        vertical-align: top;\n",
       "    }\n",
       "\n",
       "    .dataframe thead th {\n",
       "        text-align: right;\n",
       "    }\n",
       "</style>\n",
       "<table border=\"1\" class=\"dataframe\">\n",
       "  <thead>\n",
       "    <tr style=\"text-align: right;\">\n",
       "      <th></th>\n",
       "      <th>estimate</th>\n",
       "    </tr>\n",
       "    <tr>\n",
       "      <th>article_id</th>\n",
       "      <th></th>\n",
       "    </tr>\n",
       "  </thead>\n",
       "  <tbody>\n",
       "    <tr>\n",
       "      <th>bea8b41266f68383aab0ab6f11e1423db72df15ff8357a1a769b5f4005b39533</th>\n",
       "      <td>0.172834</td>\n",
       "    </tr>\n",
       "    <tr>\n",
       "      <th>48f59e57815078456b89fe34932606fcf1e5fa7874cf00498999ed99247a73b1</th>\n",
       "      <td>1.354643</td>\n",
       "    </tr>\n",
       "    <tr>\n",
       "      <th>e2e9da947c52e0f6107d5aa5d6e03e0e9fcafe7bccde08b259ca41eb31c8a358</th>\n",
       "      <td>0.713410</td>\n",
       "    </tr>\n",
       "    <tr>\n",
       "      <th>f2b1c07718734fb4f48789faef537bc69604b53befe3402c7fe4cfd0f71ededb</th>\n",
       "      <td>1.354643</td>\n",
       "    </tr>\n",
       "    <tr>\n",
       "      <th>c356dd48fe8a94bc92ef446443ee88f49eb28dee5e95bd334c2dfd039e019a4d</th>\n",
       "      <td>0.172834</td>\n",
       "    </tr>\n",
       "    <tr>\n",
       "      <th>...</th>\n",
       "      <td>...</td>\n",
       "    </tr>\n",
       "    <tr>\n",
       "      <th>642acd3957e86003df21148bec1f62cd6ecce16c7bab00fc9fcc5e766a0a2886</th>\n",
       "      <td>0.082789</td>\n",
       "    </tr>\n",
       "    <tr>\n",
       "      <th>a90d93063f81d04b7b2b2a7ad70aa0a4ae1900c05d5328ecc5f1da486cbce44e</th>\n",
       "      <td>0.082789</td>\n",
       "    </tr>\n",
       "    <tr>\n",
       "      <th>f1cb6682fae35ace95e977735bbe2976c10c1a77ed3b877b56aefc8a65ee9519</th>\n",
       "      <td>0.082789</td>\n",
       "    </tr>\n",
       "    <tr>\n",
       "      <th>11be570f418641c06fe7a7bb832b237a51d3a6f1615f3ac5670de6e1a8971ba4</th>\n",
       "      <td>0.082789</td>\n",
       "    </tr>\n",
       "    <tr>\n",
       "      <th>5e30e254f2e709088f5e3a899d7bbb3a4670b5e47c2b248ff3e90e62c777da4b</th>\n",
       "      <td>0.082789</td>\n",
       "    </tr>\n",
       "  </tbody>\n",
       "</table>\n",
       "<p>1066 rows × 1 columns</p>\n",
       "</div>"
      ],
      "text/plain": [
       "                                                    estimate\n",
       "article_id                                                  \n",
       "bea8b41266f68383aab0ab6f11e1423db72df15ff8357a1...  0.172834\n",
       "48f59e57815078456b89fe34932606fcf1e5fa7874cf004...  1.354643\n",
       "e2e9da947c52e0f6107d5aa5d6e03e0e9fcafe7bccde08b...  0.713410\n",
       "f2b1c07718734fb4f48789faef537bc69604b53befe3402...  1.354643\n",
       "c356dd48fe8a94bc92ef446443ee88f49eb28dee5e95bd3...  0.172834\n",
       "...                                                      ...\n",
       "642acd3957e86003df21148bec1f62cd6ecce16c7bab00f...  0.082789\n",
       "a90d93063f81d04b7b2b2a7ad70aa0a4ae1900c05d5328e...  0.082789\n",
       "f1cb6682fae35ace95e977735bbe2976c10c1a77ed3b877...  0.082789\n",
       "11be570f418641c06fe7a7bb832b237a51d3a6f1615f3ac...  0.082789\n",
       "5e30e254f2e709088f5e3a899d7bbb3a4670b5e47c2b248...  0.082789\n",
       "\n",
       "[1066 rows x 1 columns]"
      ]
     },
     "execution_count": 163,
     "metadata": {},
     "output_type": "execute_result"
    }
   ],
   "source": [
    "stima_veridicita_articoli"
   ]
  },
  {
   "cell_type": "code",
   "execution_count": 168,
   "metadata": {},
   "outputs": [
    {
     "data": {
      "text/plain": [
       "<AxesSubplot:xlabel='article_id'>"
      ]
     },
     "execution_count": 168,
     "metadata": {},
     "output_type": "execute_result"
    },
    {
     "data": {
      "image/png": "[encoded data removed]",
      "text/plain": [
       "<Figure size 432x288 with 1 Axes>"
      ]
     },
     "metadata": {
      "needs_background": "light"
     },
     "output_type": "display_data"
    }
   ],
   "source": [
    "stima_veridicita_articoli.sort_values(by='estimate').plot()"
   ]
  },
  {
   "cell_type": "code",
   "execution_count": null,
   "metadata": {},
   "outputs": [],
   "source": []
  },
  {
   "cell_type": "code",
   "execution_count": null,
   "metadata": {},
   "outputs": [],
   "source": []
  }
 ],
 "metadata": {
  "kernelspec": {
   "display_name": "Python 3",
   "language": "python",
   "name": "python3"
  },
  "language_info": {
   "codemirror_mode": {
    "name": "ipython",
    "version": 3
   },
   "file_extension": ".py",
   "mimetype": "text/x-python",
   "name": "python",
   "nbconvert_exporter": "python",
   "pygments_lexer": "ipython3",
   "version": "3.8.5"
  }
 },
 "nbformat": 4,
 "nbformat_minor": 4
}
