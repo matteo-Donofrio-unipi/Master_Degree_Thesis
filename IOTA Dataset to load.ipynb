{
 "cells": [
  {
   "cell_type": "code",
   "execution_count": 25,
   "metadata": {},
   "outputs": [],
   "source": [
    "import numpy as np\n",
    "import matplotlib.pyplot as plt\n",
    "from datetime import datetime, date, time\n",
    "import pandas as pd"
   ]
  },
  {
   "cell_type": "code",
   "execution_count": 26,
   "metadata": {},
   "outputs": [
    {
     "data": {
      "text/html": [
       "<div>\n",
       "<style scoped>\n",
       "    .dataframe tbody tr th:only-of-type {\n",
       "        vertical-align: middle;\n",
       "    }\n",
       "\n",
       "    .dataframe tbody tr th {\n",
       "        vertical-align: top;\n",
       "    }\n",
       "\n",
       "    .dataframe thead th {\n",
       "        text-align: right;\n",
       "    }\n",
       "</style>\n",
       "<table border=\"1\" class=\"dataframe\">\n",
       "  <thead>\n",
       "    <tr style=\"text-align: right;\">\n",
       "      <th></th>\n",
       "      <th>ToNodeId</th>\n",
       "      <th>Title</th>\n",
       "      <th>Authors</th>\n",
       "      <th>Date</th>\n",
       "      <th>Seed</th>\n",
       "    </tr>\n",
       "  </thead>\n",
       "  <tbody>\n",
       "    <tr>\n",
       "      <th>0</th>\n",
       "      <td>9912289</td>\n",
       "      <td>Gauge Fixing in the Chain by Chain Method</td>\n",
       "      <td>A Shirzad and F Loran</td>\n",
       "      <td>1999-12-10</td>\n",
       "      <td>78d95058cd29c47f30a6cda6d326f89148d75705168ece...</td>\n",
       "    </tr>\n",
       "    <tr>\n",
       "      <th>1</th>\n",
       "      <td>9412202</td>\n",
       "      <td>Conformal, Integrable and Topological Theories...</td>\n",
       "      <td>A. A. Abrikosov Jr</td>\n",
       "      <td>1994-12-01</td>\n",
       "      <td>2115ebc5c278cedb1a521a256a134915a833d516825ea1...</td>\n",
       "    </tr>\n",
       "    <tr>\n",
       "      <th>2</th>\n",
       "      <td>9412201</td>\n",
       "      <td>The Problem of Ground State in Thermo-Field Dy...</td>\n",
       "      <td>A. A. Abrikosov Jr</td>\n",
       "      <td>1994-12-01</td>\n",
       "      <td>2115ebc5c278cedb1a521a256a134915a833d516825ea1...</td>\n",
       "    </tr>\n",
       "    <tr>\n",
       "      <th>3</th>\n",
       "      <td>9806220</td>\n",
       "      <td>Dynamical Lorentz simmetry breaking from 3+1 A...</td>\n",
       "      <td>A. A. Andrianov, R. Soldati, L. Sorbo</td>\n",
       "      <td>1998-06-02</td>\n",
       "      <td>3e57458efddb66c83d9ad7e9b3b7f47c002cbcd5161731...</td>\n",
       "    </tr>\n",
       "    <tr>\n",
       "      <th>4</th>\n",
       "      <td>9911246</td>\n",
       "      <td>Magnetic Interactions of D-branes and Wess-Zum...</td>\n",
       "      <td>A. A. Tseytlin, K. Zarembo</td>\n",
       "      <td>1999-11-04</td>\n",
       "      <td>d7afc84280588842e043c9e453d5dcb15804567d96f073...</td>\n",
       "    </tr>\n",
       "    <tr>\n",
       "      <th>...</th>\n",
       "      <td>...</td>\n",
       "      <td>...</td>\n",
       "      <td>...</td>\n",
       "      <td>...</td>\n",
       "      <td>...</td>\n",
       "    </tr>\n",
       "    <tr>\n",
       "      <th>1732</th>\n",
       "      <td>9812254</td>\n",
       "      <td>Theory of Stochastic Space-Time. 1. Gravitatio...</td>\n",
       "      <td>Zahid Zakir (Institute of Noosphere,Tashkent, ...</td>\n",
       "      <td>1998-12-04</td>\n",
       "      <td>aaed2e86214195c2a43150d0e6a4e288976f826ed59325...</td>\n",
       "    </tr>\n",
       "    <tr>\n",
       "      <th>1733</th>\n",
       "      <td>9605221</td>\n",
       "      <td>Three-Family $SO(10)$ Grand Unification in Str...</td>\n",
       "      <td>Zurab Kakushadze and S.-H. Henry Tye</td>\n",
       "      <td>1996-05-03</td>\n",
       "      <td>c410b9227d5f00b3b431f040735a9c60a8ab1e03f38ea4...</td>\n",
       "    </tr>\n",
       "    <tr>\n",
       "      <th>1734</th>\n",
       "      <td>9709214</td>\n",
       "      <td>Soliton Solutions of M-theory on an Orbifold</td>\n",
       "      <td>Zygmunt Lalak (ITP Warsaw), Andre' Lukas (UPen...</td>\n",
       "      <td>1997-09-02</td>\n",
       "      <td>a47fcc6a52dca2ace234856a2f652c73c3085bde545c79...</td>\n",
       "    </tr>\n",
       "    <tr>\n",
       "      <th>1735</th>\n",
       "      <td>9707223</td>\n",
       "      <td>Gaugino Condensation, Moduli Potentials and Su...</td>\n",
       "      <td>Zygmunt Lalak and Steven Thomas</td>\n",
       "      <td>1997-07-02</td>\n",
       "      <td>9f66b6f46a9adaebd9f69738418dbea1b9b3c2b7393138...</td>\n",
       "    </tr>\n",
       "    <tr>\n",
       "      <th>1736</th>\n",
       "      <td>9912206</td>\n",
       "      <td>Target-Space Duality in Heterotic and Type I E...</td>\n",
       "      <td>Zygmunt Lalak, St\\'ephane Lavignac, Hans Peter...</td>\n",
       "      <td>1999-12-01</td>\n",
       "      <td>4f87f9eeb28a85ea5560d0b6b8f3676382c44d2eff31d1...</td>\n",
       "    </tr>\n",
       "  </tbody>\n",
       "</table>\n",
       "<p>1737 rows × 5 columns</p>\n",
       "</div>"
      ],
      "text/plain": [
       "      ToNodeId                                              Title  \\\n",
       "0      9912289          Gauge Fixing in the Chain by Chain Method   \n",
       "1      9412202  Conformal, Integrable and Topological Theories...   \n",
       "2      9412201  The Problem of Ground State in Thermo-Field Dy...   \n",
       "3      9806220  Dynamical Lorentz simmetry breaking from 3+1 A...   \n",
       "4      9911246  Magnetic Interactions of D-branes and Wess-Zum...   \n",
       "...        ...                                                ...   \n",
       "1732   9812254  Theory of Stochastic Space-Time. 1. Gravitatio...   \n",
       "1733   9605221  Three-Family $SO(10)$ Grand Unification in Str...   \n",
       "1734   9709214       Soliton Solutions of M-theory on an Orbifold   \n",
       "1735   9707223  Gaugino Condensation, Moduli Potentials and Su...   \n",
       "1736   9912206  Target-Space Duality in Heterotic and Type I E...   \n",
       "\n",
       "                                                Authors        Date  \\\n",
       "0                                 A Shirzad and F Loran  1999-12-10   \n",
       "1                                    A. A. Abrikosov Jr  1994-12-01   \n",
       "2                                    A. A. Abrikosov Jr  1994-12-01   \n",
       "3                 A. A. Andrianov, R. Soldati, L. Sorbo  1998-06-02   \n",
       "4                            A. A. Tseytlin, K. Zarembo  1999-11-04   \n",
       "...                                                 ...         ...   \n",
       "1732  Zahid Zakir (Institute of Noosphere,Tashkent, ...  1998-12-04   \n",
       "1733               Zurab Kakushadze and S.-H. Henry Tye  1996-05-03   \n",
       "1734  Zygmunt Lalak (ITP Warsaw), Andre' Lukas (UPen...  1997-09-02   \n",
       "1735                    Zygmunt Lalak and Steven Thomas  1997-07-02   \n",
       "1736  Zygmunt Lalak, St\\'ephane Lavignac, Hans Peter...  1999-12-01   \n",
       "\n",
       "                                                   Seed  \n",
       "0     78d95058cd29c47f30a6cda6d326f89148d75705168ece...  \n",
       "1     2115ebc5c278cedb1a521a256a134915a833d516825ea1...  \n",
       "2     2115ebc5c278cedb1a521a256a134915a833d516825ea1...  \n",
       "3     3e57458efddb66c83d9ad7e9b3b7f47c002cbcd5161731...  \n",
       "4     d7afc84280588842e043c9e453d5dcb15804567d96f073...  \n",
       "...                                                 ...  \n",
       "1732  aaed2e86214195c2a43150d0e6a4e288976f826ed59325...  \n",
       "1733  c410b9227d5f00b3b431f040735a9c60a8ab1e03f38ea4...  \n",
       "1734  a47fcc6a52dca2ace234856a2f652c73c3085bde545c79...  \n",
       "1735  9f66b6f46a9adaebd9f69738418dbea1b9b3c2b7393138...  \n",
       "1736  4f87f9eeb28a85ea5560d0b6b8f3676382c44d2eff31d1...  \n",
       "\n",
       "[1737 rows x 5 columns]"
      ]
     },
     "execution_count": 26,
     "metadata": {},
     "output_type": "execute_result"
    }
   ],
   "source": [
    "paperId_and_info_and_date_Seed = pd.read_csv('paperId_and_info_and_date_Seed.csv')\n",
    "paperId_and_info_and_date_Seed"
   ]
  },
  {
   "cell_type": "code",
   "execution_count": 27,
   "metadata": {
    "scrolled": true
   },
   "outputs": [
    {
     "data": {
      "text/html": [
       "<div>\n",
       "<style scoped>\n",
       "    .dataframe tbody tr th:only-of-type {\n",
       "        vertical-align: middle;\n",
       "    }\n",
       "\n",
       "    .dataframe tbody tr th {\n",
       "        vertical-align: top;\n",
       "    }\n",
       "\n",
       "    .dataframe thead th {\n",
       "        text-align: right;\n",
       "    }\n",
       "</style>\n",
       "<table border=\"1\" class=\"dataframe\">\n",
       "  <thead>\n",
       "    <tr style=\"text-align: right;\">\n",
       "      <th></th>\n",
       "      <th>FromNodeId</th>\n",
       "      <th>ToNodeId</th>\n",
       "    </tr>\n",
       "  </thead>\n",
       "  <tbody>\n",
       "    <tr>\n",
       "      <th>0</th>\n",
       "      <td>9503222</td>\n",
       "      <td>9310202</td>\n",
       "    </tr>\n",
       "    <tr>\n",
       "      <th>1</th>\n",
       "      <td>9312207</td>\n",
       "      <td>9312202</td>\n",
       "    </tr>\n",
       "    <tr>\n",
       "      <th>2</th>\n",
       "      <td>9910201</td>\n",
       "      <td>9312206</td>\n",
       "    </tr>\n",
       "    <tr>\n",
       "      <th>3</th>\n",
       "      <td>9712226</td>\n",
       "      <td>9312206</td>\n",
       "    </tr>\n",
       "    <tr>\n",
       "      <th>4</th>\n",
       "      <td>9807210</td>\n",
       "      <td>9312206</td>\n",
       "    </tr>\n",
       "    <tr>\n",
       "      <th>...</th>\n",
       "      <td>...</td>\n",
       "      <td>...</td>\n",
       "    </tr>\n",
       "    <tr>\n",
       "      <th>1972</th>\n",
       "      <td>9912250</td>\n",
       "      <td>9912210</td>\n",
       "    </tr>\n",
       "    <tr>\n",
       "      <th>1973</th>\n",
       "      <td>9912235</td>\n",
       "      <td>9912219</td>\n",
       "    </tr>\n",
       "    <tr>\n",
       "      <th>1974</th>\n",
       "      <td>9912287</td>\n",
       "      <td>9912233</td>\n",
       "    </tr>\n",
       "    <tr>\n",
       "      <th>1975</th>\n",
       "      <td>9912278</td>\n",
       "      <td>9912248</td>\n",
       "    </tr>\n",
       "    <tr>\n",
       "      <th>1976</th>\n",
       "      <td>9912274</td>\n",
       "      <td>9912254</td>\n",
       "    </tr>\n",
       "  </tbody>\n",
       "</table>\n",
       "<p>1977 rows × 2 columns</p>\n",
       "</div>"
      ],
      "text/plain": [
       "      FromNodeId  ToNodeId\n",
       "0        9503222   9310202\n",
       "1        9312207   9312202\n",
       "2        9910201   9312206\n",
       "3        9712226   9312206\n",
       "4        9807210   9312206\n",
       "...          ...       ...\n",
       "1972     9912250   9912210\n",
       "1973     9912235   9912219\n",
       "1974     9912287   9912233\n",
       "1975     9912278   9912248\n",
       "1976     9912274   9912254\n",
       "\n",
       "[1977 rows x 2 columns]"
      ]
     },
     "execution_count": 27,
     "metadata": {},
     "output_type": "execute_result"
    }
   ],
   "source": [
    "citations_with_data= pd.read_csv('citations(hep-th)_with_Data.csv')\n",
    "citations_with_data"
   ]
  },
  {
   "cell_type": "code",
   "execution_count": 60,
   "metadata": {},
   "outputs": [
    {
     "data": {
      "text/plain": [
       "809"
      ]
     },
     "execution_count": 60,
     "metadata": {},
     "output_type": "execute_result"
    }
   ],
   "source": [
    "len(np.unique(citations_with_data.FromNodeId.values))"
   ]
  },
  {
   "cell_type": "code",
   "execution_count": 61,
   "metadata": {},
   "outputs": [
    {
     "data": {
      "text/plain": [
       "668"
      ]
     },
     "execution_count": 61,
     "metadata": {},
     "output_type": "execute_result"
    }
   ],
   "source": [
    "len(np.unique(citations_with_data.ToNodeId.values))"
   ]
  },
  {
   "cell_type": "code",
   "execution_count": 38,
   "metadata": {},
   "outputs": [
    {
     "name": "stdout",
     "output_type": "stream",
     "text": [
      "Il numero di autori distinti in citations_with_data è 878\n"
     ]
    }
   ],
   "source": [
    "#poiche dal set originale di citazioni sono state tolte quelle che non avevano dati corrispondenti\n",
    "#in paperId_and_info_and_date_Seed => controlliamo ora quanti sono gli autori distinti\n",
    "#che hanno scritto gli articoli contenuti in citations_with_data\n",
    "\n",
    "A1 = paperId_and_info_and_date_Seed[paperId_and_info_and_date_Seed['ToNodeId'].isin(citations_with_data['FromNodeId'].values)]['Authors'].values\n",
    "\n",
    "A2 = paperId_and_info_and_date_Seed[paperId_and_info_and_date_Seed['ToNodeId'].isin(citations_with_data['ToNodeId'].values)]['Authors'].values\n",
    "\n",
    "\n",
    "uniqueAuthors = np.concatenate([A1,A2])\n",
    "uniqueAuthors = np.unique(uniqueAuthors)\n",
    "print(f'Il numero di autori distinti in citations_with_data è {len(uniqueAuthors)}')\n",
    "\n",
    "#caricati[caricati['NodeId'].isin(sub_df['ToNodeId'].values)]['msgIdTangle'].values[0] "
   ]
  },
  {
   "cell_type": "code",
   "execution_count": null,
   "metadata": {},
   "outputs": [],
   "source": []
  },
  {
   "cell_type": "code",
   "execution_count": null,
   "metadata": {},
   "outputs": [],
   "source": []
  },
  {
   "cell_type": "code",
   "execution_count": null,
   "metadata": {},
   "outputs": [],
   "source": []
  },
  {
   "cell_type": "code",
   "execution_count": 28,
   "metadata": {},
   "outputs": [
    {
     "data": {
      "text/html": [
       "<div>\n",
       "<style scoped>\n",
       "    .dataframe tbody tr th:only-of-type {\n",
       "        vertical-align: middle;\n",
       "    }\n",
       "\n",
       "    .dataframe tbody tr th {\n",
       "        vertical-align: top;\n",
       "    }\n",
       "\n",
       "    .dataframe thead th {\n",
       "        text-align: right;\n",
       "    }\n",
       "</style>\n",
       "<table border=\"1\" class=\"dataframe\">\n",
       "  <thead>\n",
       "    <tr style=\"text-align: right;\">\n",
       "      <th></th>\n",
       "      <th>0</th>\n",
       "    </tr>\n",
       "  </thead>\n",
       "  <tbody>\n",
       "    <tr>\n",
       "      <th>0</th>\n",
       "      <td>9912293</td>\n",
       "    </tr>\n",
       "    <tr>\n",
       "      <th>1</th>\n",
       "      <td>9912292</td>\n",
       "    </tr>\n",
       "    <tr>\n",
       "      <th>2</th>\n",
       "      <td>9912290</td>\n",
       "    </tr>\n",
       "    <tr>\n",
       "      <th>3</th>\n",
       "      <td>9912287</td>\n",
       "    </tr>\n",
       "    <tr>\n",
       "      <th>4</th>\n",
       "      <td>9912285</td>\n",
       "    </tr>\n",
       "    <tr>\n",
       "      <th>...</th>\n",
       "      <td>...</td>\n",
       "    </tr>\n",
       "    <tr>\n",
       "      <th>1061</th>\n",
       "      <td>9312208</td>\n",
       "    </tr>\n",
       "    <tr>\n",
       "      <th>1062</th>\n",
       "      <td>9312207</td>\n",
       "    </tr>\n",
       "    <tr>\n",
       "      <th>1063</th>\n",
       "      <td>9312206</td>\n",
       "    </tr>\n",
       "    <tr>\n",
       "      <th>1064</th>\n",
       "      <td>9312202</td>\n",
       "    </tr>\n",
       "    <tr>\n",
       "      <th>1065</th>\n",
       "      <td>9310202</td>\n",
       "    </tr>\n",
       "  </tbody>\n",
       "</table>\n",
       "<p>1066 rows × 1 columns</p>\n",
       "</div>"
      ],
      "text/plain": [
       "            0\n",
       "0     9912293\n",
       "1     9912292\n",
       "2     9912290\n",
       "3     9912287\n",
       "4     9912285\n",
       "...       ...\n",
       "1061  9312208\n",
       "1062  9312207\n",
       "1063  9312206\n",
       "1064  9312202\n",
       "1065  9310202\n",
       "\n",
       "[1066 rows x 1 columns]"
      ]
     },
     "execution_count": 28,
     "metadata": {},
     "output_type": "execute_result"
    }
   ],
   "source": [
    "#contiene tutti i distinti nodi del grafo (From & To) \n",
    "TOPOLOGICAL_SORT_df= pd.read_csv('TOPOLOGICAL_SORT_df.csv')\n",
    "\n",
    "TOPOLOGICAL_SORT_df"
   ]
  },
  {
   "cell_type": "code",
   "execution_count": 24,
   "metadata": {},
   "outputs": [],
   "source": [
    "frontiera = []\n",
    "\n",
    "for i in range(len(citations_with_data)):\n",
    "    if(citations_with_data.iloc[i]['ToNodeId']not in citations_with_data['FromNodeId'].values):\n",
    "        frontiera.append(citations_with_data.iloc[i]['ToNodeId'])\n",
    "\n",
    "frontiera = np.unique(frontiera)\n",
    "#print(frontiera)\n"
   ]
  },
  {
   "cell_type": "code",
   "execution_count": 23,
   "metadata": {},
   "outputs": [],
   "source": [
    "#TOPOLOGICAL_SORT_df.tail(257)"
   ]
  },
  {
   "cell_type": "code",
   "execution_count": null,
   "metadata": {},
   "outputs": [],
   "source": []
  },
  {
   "cell_type": "markdown",
   "metadata": {},
   "source": [
    "# Analisi dei dataset generati da algo"
   ]
  },
  {
   "cell_type": "code",
   "execution_count": 175,
   "metadata": {},
   "outputs": [
    {
     "data": {
      "text/html": [
       "<div>\n",
       "<style scoped>\n",
       "    .dataframe tbody tr th:only-of-type {\n",
       "        vertical-align: middle;\n",
       "    }\n",
       "\n",
       "    .dataframe tbody tr th {\n",
       "        vertical-align: top;\n",
       "    }\n",
       "\n",
       "    .dataframe thead th {\n",
       "        text-align: right;\n",
       "    }\n",
       "</style>\n",
       "<table border=\"1\" class=\"dataframe\">\n",
       "  <thead>\n",
       "    <tr style=\"text-align: right;\">\n",
       "      <th></th>\n",
       "      <th>FromNodeId</th>\n",
       "      <th>From_Author_Seed</th>\n",
       "      <th>ToNodeId</th>\n",
       "      <th>To_Author_Seed</th>\n",
       "    </tr>\n",
       "  </thead>\n",
       "  <tbody>\n",
       "    <tr>\n",
       "      <th>0</th>\n",
       "      <td>f13c3cd1fc98160f7c33d72ba318e1137d7862286aba87...</td>\n",
       "      <td>c4a46746b60c6738c60fcd458ed1798b6b4acf606edeb4...</td>\n",
       "      <td>84bda08ac58cc7879de275e80903b146c7af3a0657c30b...</td>\n",
       "      <td>Not_available</td>\n",
       "    </tr>\n",
       "    <tr>\n",
       "      <th>1</th>\n",
       "      <td>8a205dec257af0da7f8f3cd051f18d5e50e112a12617d5...</td>\n",
       "      <td>33be2cf279fa9d545b648dfbda8f03c70000758e7e8bdc...</td>\n",
       "      <td>11eda9981669e642fce09db9c08ff9e0c5479335236b69...</td>\n",
       "      <td>Not_available</td>\n",
       "    </tr>\n",
       "    <tr>\n",
       "      <th>2</th>\n",
       "      <td>11eda9981669e642fce09db9c08ff9e0c5479335236b69...</td>\n",
       "      <td>33be2cf279fa9d545b648dfbda8f03c70000758e7e8bdc...</td>\n",
       "      <td>84bda08ac58cc7879de275e80903b146c7af3a0657c30b...</td>\n",
       "      <td>Not_available</td>\n",
       "    </tr>\n",
       "    <tr>\n",
       "      <th>3</th>\n",
       "      <td>11eda9981669e642fce09db9c08ff9e0c5479335236b69...</td>\n",
       "      <td>33be2cf279fa9d545b648dfbda8f03c70000758e7e8bdc...</td>\n",
       "      <td>f13c3cd1fc98160f7c33d72ba318e1137d7862286aba87...</td>\n",
       "      <td>c4a46746b60c6738c60fcd458ed1798b6b4acf606edeb4...</td>\n",
       "    </tr>\n",
       "    <tr>\n",
       "      <th>4</th>\n",
       "      <td>47b0090469d772ad28ffbea45ec01f14c5c90bafce5a82...</td>\n",
       "      <td>f9f119bcac7d31ca38ee3c7c800e14715e645f0e10fc59...</td>\n",
       "      <td>11eda9981669e642fce09db9c08ff9e0c5479335236b69...</td>\n",
       "      <td>33be2cf279fa9d545b648dfbda8f03c70000758e7e8bdc...</td>\n",
       "    </tr>\n",
       "    <tr>\n",
       "      <th>...</th>\n",
       "      <td>...</td>\n",
       "      <td>...</td>\n",
       "      <td>...</td>\n",
       "      <td>...</td>\n",
       "    </tr>\n",
       "    <tr>\n",
       "      <th>2948</th>\n",
       "      <td>f98f5d38562f0afade7a7d67c5357edbea35bbf65c5013...</td>\n",
       "      <td>9339a4abbb9ab0b0c5676aef38dc6fa5693910af172ff1...</td>\n",
       "      <td>6c8ea413095ac191f870d351d3223e95c16579b5606eba...</td>\n",
       "      <td>6a37e875902a1248b7ec4abb38e17a6339dccac5c6b6b2...</td>\n",
       "    </tr>\n",
       "    <tr>\n",
       "      <th>2949</th>\n",
       "      <td>f98f5d38562f0afade7a7d67c5357edbea35bbf65c5013...</td>\n",
       "      <td>9339a4abbb9ab0b0c5676aef38dc6fa5693910af172ff1...</td>\n",
       "      <td>765593baa1359ce466d91e9100ffe795109f2e7d544294...</td>\n",
       "      <td>4943ac1c40ff8499b826a41b48b624d28b4d6fb9ee2bb5...</td>\n",
       "    </tr>\n",
       "    <tr>\n",
       "      <th>2950</th>\n",
       "      <td>f98f5d38562f0afade7a7d67c5357edbea35bbf65c5013...</td>\n",
       "      <td>9339a4abbb9ab0b0c5676aef38dc6fa5693910af172ff1...</td>\n",
       "      <td>9ef262f7118e1cfb0c71f98d23cdb95e7371aba3e4b419...</td>\n",
       "      <td>31c8046964b4ac00760b907cb7e68726a3db99de6c7298...</td>\n",
       "    </tr>\n",
       "    <tr>\n",
       "      <th>2951</th>\n",
       "      <td>f98f5d38562f0afade7a7d67c5357edbea35bbf65c5013...</td>\n",
       "      <td>9339a4abbb9ab0b0c5676aef38dc6fa5693910af172ff1...</td>\n",
       "      <td>b0f1ff3b03ec8bc171dbdb34565eed70d869677a660201...</td>\n",
       "      <td>e727f73f479a8c5e204e8ba140087ce4dd9a8ca8c51ea5...</td>\n",
       "    </tr>\n",
       "    <tr>\n",
       "      <th>2952</th>\n",
       "      <td>f98f5d38562f0afade7a7d67c5357edbea35bbf65c5013...</td>\n",
       "      <td>9339a4abbb9ab0b0c5676aef38dc6fa5693910af172ff1...</td>\n",
       "      <td>d3264f6aa11a940131f5c4417fe4e31bc7c254f78a2a99...</td>\n",
       "      <td>75c1fe5a30a5813254fd61e0e0cb5fae53d0f6b57177cf...</td>\n",
       "    </tr>\n",
       "  </tbody>\n",
       "</table>\n",
       "<p>2953 rows × 4 columns</p>\n",
       "</div>"
      ],
      "text/plain": [
       "                                             FromNodeId  \\\n",
       "0     f13c3cd1fc98160f7c33d72ba318e1137d7862286aba87...   \n",
       "1     8a205dec257af0da7f8f3cd051f18d5e50e112a12617d5...   \n",
       "2     11eda9981669e642fce09db9c08ff9e0c5479335236b69...   \n",
       "3     11eda9981669e642fce09db9c08ff9e0c5479335236b69...   \n",
       "4     47b0090469d772ad28ffbea45ec01f14c5c90bafce5a82...   \n",
       "...                                                 ...   \n",
       "2948  f98f5d38562f0afade7a7d67c5357edbea35bbf65c5013...   \n",
       "2949  f98f5d38562f0afade7a7d67c5357edbea35bbf65c5013...   \n",
       "2950  f98f5d38562f0afade7a7d67c5357edbea35bbf65c5013...   \n",
       "2951  f98f5d38562f0afade7a7d67c5357edbea35bbf65c5013...   \n",
       "2952  f98f5d38562f0afade7a7d67c5357edbea35bbf65c5013...   \n",
       "\n",
       "                                       From_Author_Seed  \\\n",
       "0     c4a46746b60c6738c60fcd458ed1798b6b4acf606edeb4...   \n",
       "1     33be2cf279fa9d545b648dfbda8f03c70000758e7e8bdc...   \n",
       "2     33be2cf279fa9d545b648dfbda8f03c70000758e7e8bdc...   \n",
       "3     33be2cf279fa9d545b648dfbda8f03c70000758e7e8bdc...   \n",
       "4     f9f119bcac7d31ca38ee3c7c800e14715e645f0e10fc59...   \n",
       "...                                                 ...   \n",
       "2948  9339a4abbb9ab0b0c5676aef38dc6fa5693910af172ff1...   \n",
       "2949  9339a4abbb9ab0b0c5676aef38dc6fa5693910af172ff1...   \n",
       "2950  9339a4abbb9ab0b0c5676aef38dc6fa5693910af172ff1...   \n",
       "2951  9339a4abbb9ab0b0c5676aef38dc6fa5693910af172ff1...   \n",
       "2952  9339a4abbb9ab0b0c5676aef38dc6fa5693910af172ff1...   \n",
       "\n",
       "                                               ToNodeId  \\\n",
       "0     84bda08ac58cc7879de275e80903b146c7af3a0657c30b...   \n",
       "1     11eda9981669e642fce09db9c08ff9e0c5479335236b69...   \n",
       "2     84bda08ac58cc7879de275e80903b146c7af3a0657c30b...   \n",
       "3     f13c3cd1fc98160f7c33d72ba318e1137d7862286aba87...   \n",
       "4     11eda9981669e642fce09db9c08ff9e0c5479335236b69...   \n",
       "...                                                 ...   \n",
       "2948  6c8ea413095ac191f870d351d3223e95c16579b5606eba...   \n",
       "2949  765593baa1359ce466d91e9100ffe795109f2e7d544294...   \n",
       "2950  9ef262f7118e1cfb0c71f98d23cdb95e7371aba3e4b419...   \n",
       "2951  b0f1ff3b03ec8bc171dbdb34565eed70d869677a660201...   \n",
       "2952  d3264f6aa11a940131f5c4417fe4e31bc7c254f78a2a99...   \n",
       "\n",
       "                                         To_Author_Seed  \n",
       "0                                         Not_available  \n",
       "1                                         Not_available  \n",
       "2                                         Not_available  \n",
       "3     c4a46746b60c6738c60fcd458ed1798b6b4acf606edeb4...  \n",
       "4     33be2cf279fa9d545b648dfbda8f03c70000758e7e8bdc...  \n",
       "...                                                 ...  \n",
       "2948  6a37e875902a1248b7ec4abb38e17a6339dccac5c6b6b2...  \n",
       "2949  4943ac1c40ff8499b826a41b48b624d28b4d6fb9ee2bb5...  \n",
       "2950  31c8046964b4ac00760b907cb7e68726a3db99de6c7298...  \n",
       "2951  e727f73f479a8c5e204e8ba140087ce4dd9a8ca8c51ea5...  \n",
       "2952  75c1fe5a30a5813254fd61e0e0cb5fae53d0f6b57177cf...  \n",
       "\n",
       "[2953 rows x 4 columns]"
      ]
     },
     "execution_count": 175,
     "metadata": {},
     "output_type": "execute_result"
    }
   ],
   "source": [
    "DB_art_auth = pd.read_csv('./DB_articles_authors2.csv')\n",
    "DB_art_auth"
   ]
  },
  {
   "cell_type": "code",
   "execution_count": 183,
   "metadata": {},
   "outputs": [
    {
     "data": {
      "text/plain": [
       "100"
      ]
     },
     "execution_count": 183,
     "metadata": {},
     "output_type": "execute_result"
    }
   ],
   "source": [
    "len((DB_art_auth[DB_art_auth['To_Author_Seed']== 'Not_available'] ))"
   ]
  },
  {
   "cell_type": "code",
   "execution_count": 177,
   "metadata": {},
   "outputs": [
    {
     "data": {
      "text/plain": [
       "1065"
      ]
     },
     "execution_count": 177,
     "metadata": {},
     "output_type": "execute_result"
    }
   ],
   "source": [
    "len(np.unique(DB_art_auth.FromNodeId.values))"
   ]
  },
  {
   "cell_type": "code",
   "execution_count": 184,
   "metadata": {},
   "outputs": [
    {
     "data": {
      "text/plain": [
       "877"
      ]
     },
     "execution_count": 184,
     "metadata": {},
     "output_type": "execute_result"
    }
   ],
   "source": [
    "len(np.unique(DB_art_auth.From_Author_Seed.values))"
   ]
  },
  {
   "cell_type": "code",
   "execution_count": 185,
   "metadata": {},
   "outputs": [
    {
     "data": {
      "text/plain": [
       "876"
      ]
     },
     "execution_count": 185,
     "metadata": {},
     "output_type": "execute_result"
    }
   ],
   "source": [
    "len(np.unique(DB_art_auth.ToNodeId.values))"
   ]
  },
  {
   "cell_type": "code",
   "execution_count": 186,
   "metadata": {},
   "outputs": [
    {
     "data": {
      "text/plain": [
       "716"
      ]
     },
     "execution_count": 186,
     "metadata": {},
     "output_type": "execute_result"
    }
   ],
   "source": [
    "len(np.unique(DB_art_auth.To_Author_Seed.values))"
   ]
  },
  {
   "cell_type": "code",
   "execution_count": 78,
   "metadata": {},
   "outputs": [
    {
     "data": {
      "text/plain": [
       "2234"
      ]
     },
     "execution_count": 78,
     "metadata": {},
     "output_type": "execute_result"
    }
   ],
   "source": [
    "1977+257"
   ]
  },
  {
   "cell_type": "code",
   "execution_count": 181,
   "metadata": {},
   "outputs": [
    {
     "data": {
      "text/plain": [
       "1071"
      ]
     },
     "execution_count": 181,
     "metadata": {},
     "output_type": "execute_result"
    }
   ],
   "source": [
    "# num articoli distinti caricati\n",
    "uniqueNodes = np.concatenate([\n",
    "np.unique(DB_art_auth.FromNodeId.values),np.unique(DB_art_auth.ToNodeId.values)])\n",
    "uniqueNodes = np.unique(uniqueNodes)\n",
    "len(uniqueNodes)"
   ]
  },
  {
   "cell_type": "code",
   "execution_count": 182,
   "metadata": {},
   "outputs": [
    {
     "data": {
      "text/plain": [
       "878"
      ]
     },
     "execution_count": 182,
     "metadata": {},
     "output_type": "execute_result"
    }
   ],
   "source": [
    "# num autori distinti caricati\n",
    "\n",
    "uniqueNodes = np.concatenate([\n",
    "np.unique(DB_art_auth.From_Author_Seed.values),np.unique(DB_art_auth.To_Author_Seed.values)])\n",
    "uniqueNodes = np.unique(uniqueNodes)\n",
    "len(uniqueNodes)"
   ]
  },
  {
   "cell_type": "code",
   "execution_count": null,
   "metadata": {},
   "outputs": [],
   "source": []
  },
  {
   "cell_type": "code",
   "execution_count": null,
   "metadata": {},
   "outputs": [],
   "source": []
  },
  {
   "cell_type": "code",
   "execution_count": null,
   "metadata": {},
   "outputs": [],
   "source": []
  },
  {
   "cell_type": "code",
   "execution_count": 189,
   "metadata": {},
   "outputs": [
    {
     "data": {
      "text/html": [
       "<div>\n",
       "<style scoped>\n",
       "    .dataframe tbody tr th:only-of-type {\n",
       "        vertical-align: middle;\n",
       "    }\n",
       "\n",
       "    .dataframe tbody tr th {\n",
       "        vertical-align: top;\n",
       "    }\n",
       "\n",
       "    .dataframe thead th {\n",
       "        text-align: right;\n",
       "    }\n",
       "</style>\n",
       "<table border=\"1\" class=\"dataframe\">\n",
       "  <thead>\n",
       "    <tr style=\"text-align: right;\">\n",
       "      <th></th>\n",
       "      <th>From</th>\n",
       "      <th>To</th>\n",
       "      <th>Weight</th>\n",
       "    </tr>\n",
       "  </thead>\n",
       "  <tbody>\n",
       "    <tr>\n",
       "      <th>0</th>\n",
       "      <td>00168ef7c9a4fed70901c32e2a3311a60893e328859fcd...</td>\n",
       "      <td>8461c5ed9597d635ec105c100be87336126720a6d9cdf6...</td>\n",
       "      <td>1</td>\n",
       "    </tr>\n",
       "    <tr>\n",
       "      <th>1</th>\n",
       "      <td>8461c5ed9597d635ec105c100be87336126720a6d9cdf6...</td>\n",
       "      <td>74627ea4caae01cd5889f6003e3e315063757c7ab3c338...</td>\n",
       "      <td>1</td>\n",
       "    </tr>\n",
       "    <tr>\n",
       "      <th>2</th>\n",
       "      <td>8461c5ed9597d635ec105c100be87336126720a6d9cdf6...</td>\n",
       "      <td>b1020eaf9b02c1f001f476ef44fb0f92e032f5b03ec676...</td>\n",
       "      <td>1</td>\n",
       "    </tr>\n",
       "    <tr>\n",
       "      <th>3</th>\n",
       "      <td>8461c5ed9597d635ec105c100be87336126720a6d9cdf6...</td>\n",
       "      <td>b52a7b6e1bfab89d73c164c9131936f47a0aba383c2106...</td>\n",
       "      <td>2</td>\n",
       "    </tr>\n",
       "    <tr>\n",
       "      <th>4</th>\n",
       "      <td>00a5614eecf54e2d713de00b7a6a75814ca14d57327791...</td>\n",
       "      <td>cccdcf360fd819c26119284d841a2492a2e84b03b1ebac...</td>\n",
       "      <td>1</td>\n",
       "    </tr>\n",
       "    <tr>\n",
       "      <th>...</th>\n",
       "      <td>...</td>\n",
       "      <td>...</td>\n",
       "      <td>...</td>\n",
       "    </tr>\n",
       "    <tr>\n",
       "      <th>2727</th>\n",
       "      <td>feca281ea68a9c47ec6fb59ec5d9f31d76105ad9d058a0...</td>\n",
       "      <td>4d0a038f1ad4dd45c68dcb1bc684c3081f99325da1f99f...</td>\n",
       "      <td>1</td>\n",
       "    </tr>\n",
       "    <tr>\n",
       "      <th>2728</th>\n",
       "      <td>feca281ea68a9c47ec6fb59ec5d9f31d76105ad9d058a0...</td>\n",
       "      <td>67d4d4ae9ec71f02534f69e444bb24d4058c9ceff8b9ab...</td>\n",
       "      <td>1</td>\n",
       "    </tr>\n",
       "    <tr>\n",
       "      <th>2729</th>\n",
       "      <td>feca281ea68a9c47ec6fb59ec5d9f31d76105ad9d058a0...</td>\n",
       "      <td>f7893c29b24b0722f592f514f3faa05928eb0c7db80cb7...</td>\n",
       "      <td>1</td>\n",
       "    </tr>\n",
       "    <tr>\n",
       "      <th>2730</th>\n",
       "      <td>ff24acad38556b1c8d521f449c0399008632be8d96b0c2...</td>\n",
       "      <td>0f4bdd6c320f8c7d2def0085244785fcc9b841c6a28249...</td>\n",
       "      <td>2</td>\n",
       "    </tr>\n",
       "    <tr>\n",
       "      <th>2731</th>\n",
       "      <td>ff24acad38556b1c8d521f449c0399008632be8d96b0c2...</td>\n",
       "      <td>7c7699a363945e1b8c78c1cb3033b2871ff3dd535455d5...</td>\n",
       "      <td>1</td>\n",
       "    </tr>\n",
       "  </tbody>\n",
       "</table>\n",
       "<p>2732 rows × 3 columns</p>\n",
       "</div>"
      ],
      "text/plain": [
       "                                                   From  \\\n",
       "0     00168ef7c9a4fed70901c32e2a3311a60893e328859fcd...   \n",
       "1     8461c5ed9597d635ec105c100be87336126720a6d9cdf6...   \n",
       "2     8461c5ed9597d635ec105c100be87336126720a6d9cdf6...   \n",
       "3     8461c5ed9597d635ec105c100be87336126720a6d9cdf6...   \n",
       "4     00a5614eecf54e2d713de00b7a6a75814ca14d57327791...   \n",
       "...                                                 ...   \n",
       "2727  feca281ea68a9c47ec6fb59ec5d9f31d76105ad9d058a0...   \n",
       "2728  feca281ea68a9c47ec6fb59ec5d9f31d76105ad9d058a0...   \n",
       "2729  feca281ea68a9c47ec6fb59ec5d9f31d76105ad9d058a0...   \n",
       "2730  ff24acad38556b1c8d521f449c0399008632be8d96b0c2...   \n",
       "2731  ff24acad38556b1c8d521f449c0399008632be8d96b0c2...   \n",
       "\n",
       "                                                     To  Weight  \n",
       "0     8461c5ed9597d635ec105c100be87336126720a6d9cdf6...       1  \n",
       "1     74627ea4caae01cd5889f6003e3e315063757c7ab3c338...       1  \n",
       "2     b1020eaf9b02c1f001f476ef44fb0f92e032f5b03ec676...       1  \n",
       "3     b52a7b6e1bfab89d73c164c9131936f47a0aba383c2106...       2  \n",
       "4     cccdcf360fd819c26119284d841a2492a2e84b03b1ebac...       1  \n",
       "...                                                 ...     ...  \n",
       "2727  4d0a038f1ad4dd45c68dcb1bc684c3081f99325da1f99f...       1  \n",
       "2728  67d4d4ae9ec71f02534f69e444bb24d4058c9ceff8b9ab...       1  \n",
       "2729  f7893c29b24b0722f592f514f3faa05928eb0c7db80cb7...       1  \n",
       "2730  0f4bdd6c320f8c7d2def0085244785fcc9b841c6a28249...       2  \n",
       "2731  7c7699a363945e1b8c78c1cb3033b2871ff3dd535455d5...       1  \n",
       "\n",
       "[2732 rows x 3 columns]"
      ]
     },
     "execution_count": 189,
     "metadata": {},
     "output_type": "execute_result"
    }
   ],
   "source": [
    "Graph = pd.read_csv('./graph.csv', sep=' ')\n",
    "\n",
    "'''\n",
    "\n",
    "serie = np.arange(len(Graph))\n",
    "print(serie)\n",
    "\n",
    "Graph.set_index(serie, inplace = True)\n",
    "'''\n",
    "Graph"
   ]
  },
  {
   "cell_type": "code",
   "execution_count": 190,
   "metadata": {},
   "outputs": [
    {
     "data": {
      "text/plain": [
       "876"
      ]
     },
     "execution_count": 190,
     "metadata": {},
     "output_type": "execute_result"
    }
   ],
   "source": [
    "len(np.unique(Graph.From.values))"
   ]
  },
  {
   "cell_type": "code",
   "execution_count": 191,
   "metadata": {},
   "outputs": [
    {
     "data": {
      "text/plain": [
       "715"
      ]
     },
     "execution_count": 191,
     "metadata": {},
     "output_type": "execute_result"
    }
   ],
   "source": [
    "len(np.unique(Graph.To.values))"
   ]
  },
  {
   "cell_type": "code",
   "execution_count": 192,
   "metadata": {},
   "outputs": [
    {
     "data": {
      "text/plain": [
       "877"
      ]
     },
     "execution_count": 192,
     "metadata": {},
     "output_type": "execute_result"
    }
   ],
   "source": [
    "uniqueNodes = np.concatenate([np.unique(Graph.From.values),np.unique(Graph.To.values)])\n",
    "uniqueNodes = np.unique(uniqueNodes)\n",
    "len(uniqueNodes)"
   ]
  },
  {
   "cell_type": "code",
   "execution_count": null,
   "metadata": {},
   "outputs": [],
   "source": []
  },
  {
   "cell_type": "code",
   "execution_count": null,
   "metadata": {},
   "outputs": [],
   "source": []
  }
 ],
 "metadata": {
  "kernelspec": {
   "display_name": "Python 3",
   "language": "python",
   "name": "python3"
  },
  "language_info": {
   "codemirror_mode": {
    "name": "ipython",
    "version": 3
   },
   "file_extension": ".py",
   "mimetype": "text/x-python",
   "name": "python",
   "nbconvert_exporter": "python",
   "pygments_lexer": "ipython3",
   "version": "3.8.5"
  }
 },
 "nbformat": 4,
 "nbformat_minor": 4
}
