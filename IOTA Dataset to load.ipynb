{
 "cells": [
  {
   "cell_type": "code",
   "execution_count": 1,
   "metadata": {},
   "outputs": [
    {
     "name": "stderr",
     "output_type": "stream",
     "text": [
      "C:\\Users\\allen\\anaconda3\\lib\\site-packages\\pandas\\core\\computation\\expressions.py:20: UserWarning: Pandas requires version '2.7.3' or newer of 'numexpr' (version '2.7.1' currently installed).\n",
      "  from pandas.core.computation.check import NUMEXPR_INSTALLED\n"
     ]
    }
   ],
   "source": [
    "import numpy as np\n",
    "import matplotlib.pyplot as plt\n",
    "from datetime import datetime, date, time\n",
    "import pandas as pd"
   ]
  },
  {
   "cell_type": "code",
   "execution_count": 2,
   "metadata": {},
   "outputs": [
    {
     "data": {
      "text/html": [
       "<div>\n",
       "<style scoped>\n",
       "    .dataframe tbody tr th:only-of-type {\n",
       "        vertical-align: middle;\n",
       "    }\n",
       "\n",
       "    .dataframe tbody tr th {\n",
       "        vertical-align: top;\n",
       "    }\n",
       "\n",
       "    .dataframe thead th {\n",
       "        text-align: right;\n",
       "    }\n",
       "</style>\n",
       "<table border=\"1\" class=\"dataframe\">\n",
       "  <thead>\n",
       "    <tr style=\"text-align: right;\">\n",
       "      <th></th>\n",
       "      <th>ToNodeId</th>\n",
       "      <th>Title</th>\n",
       "      <th>Authors</th>\n",
       "      <th>Date</th>\n",
       "      <th>Seed</th>\n",
       "    </tr>\n",
       "  </thead>\n",
       "  <tbody>\n",
       "    <tr>\n",
       "      <th>0</th>\n",
       "      <td>9912289</td>\n",
       "      <td>Gauge Fixing in the Chain by Chain Method</td>\n",
       "      <td>A Shirzad and F Loran</td>\n",
       "      <td>1999-12-10</td>\n",
       "      <td>78d95058cd29c47f30a6cda6d326f89148d75705168ece...</td>\n",
       "    </tr>\n",
       "    <tr>\n",
       "      <th>1</th>\n",
       "      <td>9412202</td>\n",
       "      <td>Conformal, Integrable and Topological Theories...</td>\n",
       "      <td>A. A. Abrikosov Jr</td>\n",
       "      <td>1994-12-01</td>\n",
       "      <td>2115ebc5c278cedb1a521a256a134915a833d516825ea1...</td>\n",
       "    </tr>\n",
       "    <tr>\n",
       "      <th>2</th>\n",
       "      <td>9412201</td>\n",
       "      <td>The Problem of Ground State in Thermo-Field Dy...</td>\n",
       "      <td>A. A. Abrikosov Jr</td>\n",
       "      <td>1994-12-01</td>\n",
       "      <td>2115ebc5c278cedb1a521a256a134915a833d516825ea1...</td>\n",
       "    </tr>\n",
       "    <tr>\n",
       "      <th>3</th>\n",
       "      <td>9806220</td>\n",
       "      <td>Dynamical Lorentz simmetry breaking from 3+1 A...</td>\n",
       "      <td>A. A. Andrianov, R. Soldati, L. Sorbo</td>\n",
       "      <td>1998-06-02</td>\n",
       "      <td>3e57458efddb66c83d9ad7e9b3b7f47c002cbcd5161731...</td>\n",
       "    </tr>\n",
       "    <tr>\n",
       "      <th>4</th>\n",
       "      <td>9911246</td>\n",
       "      <td>Magnetic Interactions of D-branes and Wess-Zum...</td>\n",
       "      <td>A. A. Tseytlin, K. Zarembo</td>\n",
       "      <td>1999-11-04</td>\n",
       "      <td>d7afc84280588842e043c9e453d5dcb15804567d96f073...</td>\n",
       "    </tr>\n",
       "    <tr>\n",
       "      <th>...</th>\n",
       "      <td>...</td>\n",
       "      <td>...</td>\n",
       "      <td>...</td>\n",
       "      <td>...</td>\n",
       "      <td>...</td>\n",
       "    </tr>\n",
       "    <tr>\n",
       "      <th>1732</th>\n",
       "      <td>9812254</td>\n",
       "      <td>Theory of Stochastic Space-Time. 1. Gravitatio...</td>\n",
       "      <td>Zahid Zakir (Institute of Noosphere,Tashkent, ...</td>\n",
       "      <td>1998-12-04</td>\n",
       "      <td>aaed2e86214195c2a43150d0e6a4e288976f826ed59325...</td>\n",
       "    </tr>\n",
       "    <tr>\n",
       "      <th>1733</th>\n",
       "      <td>9605221</td>\n",
       "      <td>Three-Family $SO(10)$ Grand Unification in Str...</td>\n",
       "      <td>Zurab Kakushadze and S.-H. Henry Tye</td>\n",
       "      <td>1996-05-03</td>\n",
       "      <td>c410b9227d5f00b3b431f040735a9c60a8ab1e03f38ea4...</td>\n",
       "    </tr>\n",
       "    <tr>\n",
       "      <th>1734</th>\n",
       "      <td>9709214</td>\n",
       "      <td>Soliton Solutions of M-theory on an Orbifold</td>\n",
       "      <td>Zygmunt Lalak (ITP Warsaw), Andre' Lukas (UPen...</td>\n",
       "      <td>1997-09-02</td>\n",
       "      <td>a47fcc6a52dca2ace234856a2f652c73c3085bde545c79...</td>\n",
       "    </tr>\n",
       "    <tr>\n",
       "      <th>1735</th>\n",
       "      <td>9707223</td>\n",
       "      <td>Gaugino Condensation, Moduli Potentials and Su...</td>\n",
       "      <td>Zygmunt Lalak and Steven Thomas</td>\n",
       "      <td>1997-07-02</td>\n",
       "      <td>9f66b6f46a9adaebd9f69738418dbea1b9b3c2b7393138...</td>\n",
       "    </tr>\n",
       "    <tr>\n",
       "      <th>1736</th>\n",
       "      <td>9912206</td>\n",
       "      <td>Target-Space Duality in Heterotic and Type I E...</td>\n",
       "      <td>Zygmunt Lalak, St\\'ephane Lavignac, Hans Peter...</td>\n",
       "      <td>1999-12-01</td>\n",
       "      <td>4f87f9eeb28a85ea5560d0b6b8f3676382c44d2eff31d1...</td>\n",
       "    </tr>\n",
       "  </tbody>\n",
       "</table>\n",
       "<p>1737 rows × 5 columns</p>\n",
       "</div>"
      ],
      "text/plain": [
       "      ToNodeId                                              Title  \\\n",
       "0      9912289          Gauge Fixing in the Chain by Chain Method   \n",
       "1      9412202  Conformal, Integrable and Topological Theories...   \n",
       "2      9412201  The Problem of Ground State in Thermo-Field Dy...   \n",
       "3      9806220  Dynamical Lorentz simmetry breaking from 3+1 A...   \n",
       "4      9911246  Magnetic Interactions of D-branes and Wess-Zum...   \n",
       "...        ...                                                ...   \n",
       "1732   9812254  Theory of Stochastic Space-Time. 1. Gravitatio...   \n",
       "1733   9605221  Three-Family $SO(10)$ Grand Unification in Str...   \n",
       "1734   9709214       Soliton Solutions of M-theory on an Orbifold   \n",
       "1735   9707223  Gaugino Condensation, Moduli Potentials and Su...   \n",
       "1736   9912206  Target-Space Duality in Heterotic and Type I E...   \n",
       "\n",
       "                                                Authors        Date  \\\n",
       "0                                 A Shirzad and F Loran  1999-12-10   \n",
       "1                                    A. A. Abrikosov Jr  1994-12-01   \n",
       "2                                    A. A. Abrikosov Jr  1994-12-01   \n",
       "3                 A. A. Andrianov, R. Soldati, L. Sorbo  1998-06-02   \n",
       "4                            A. A. Tseytlin, K. Zarembo  1999-11-04   \n",
       "...                                                 ...         ...   \n",
       "1732  Zahid Zakir (Institute of Noosphere,Tashkent, ...  1998-12-04   \n",
       "1733               Zurab Kakushadze and S.-H. Henry Tye  1996-05-03   \n",
       "1734  Zygmunt Lalak (ITP Warsaw), Andre' Lukas (UPen...  1997-09-02   \n",
       "1735                    Zygmunt Lalak and Steven Thomas  1997-07-02   \n",
       "1736  Zygmunt Lalak, St\\'ephane Lavignac, Hans Peter...  1999-12-01   \n",
       "\n",
       "                                                   Seed  \n",
       "0     78d95058cd29c47f30a6cda6d326f89148d75705168ece...  \n",
       "1     2115ebc5c278cedb1a521a256a134915a833d516825ea1...  \n",
       "2     2115ebc5c278cedb1a521a256a134915a833d516825ea1...  \n",
       "3     3e57458efddb66c83d9ad7e9b3b7f47c002cbcd5161731...  \n",
       "4     d7afc84280588842e043c9e453d5dcb15804567d96f073...  \n",
       "...                                                 ...  \n",
       "1732  aaed2e86214195c2a43150d0e6a4e288976f826ed59325...  \n",
       "1733  c410b9227d5f00b3b431f040735a9c60a8ab1e03f38ea4...  \n",
       "1734  a47fcc6a52dca2ace234856a2f652c73c3085bde545c79...  \n",
       "1735  9f66b6f46a9adaebd9f69738418dbea1b9b3c2b7393138...  \n",
       "1736  4f87f9eeb28a85ea5560d0b6b8f3676382c44d2eff31d1...  \n",
       "\n",
       "[1737 rows x 5 columns]"
      ]
     },
     "execution_count": 2,
     "metadata": {},
     "output_type": "execute_result"
    }
   ],
   "source": [
    "paperId_and_info_and_date_Seed = pd.read_csv('paperId_and_info_and_date_Seed.csv')\n",
    "paperId_and_info_and_date_Seed"
   ]
  },
  {
   "cell_type": "code",
   "execution_count": 15,
   "metadata": {},
   "outputs": [
    {
     "data": {
      "text/plain": [
       "1333"
      ]
     },
     "execution_count": 15,
     "metadata": {},
     "output_type": "execute_result"
    }
   ],
   "source": [
    "len(paperId_and_info_and_date_Seed.Seed.unique())"
   ]
  },
  {
   "cell_type": "code",
   "execution_count": 4,
   "metadata": {},
   "outputs": [
    {
     "data": {
      "text/html": [
       "<div>\n",
       "<style scoped>\n",
       "    .dataframe tbody tr th:only-of-type {\n",
       "        vertical-align: middle;\n",
       "    }\n",
       "\n",
       "    .dataframe tbody tr th {\n",
       "        vertical-align: top;\n",
       "    }\n",
       "\n",
       "    .dataframe thead th {\n",
       "        text-align: right;\n",
       "    }\n",
       "</style>\n",
       "<table border=\"1\" class=\"dataframe\">\n",
       "  <thead>\n",
       "    <tr style=\"text-align: right;\">\n",
       "      <th></th>\n",
       "      <th>ToNodeId</th>\n",
       "      <th>Title</th>\n",
       "      <th>Authors</th>\n",
       "      <th>Date</th>\n",
       "      <th>Seed</th>\n",
       "    </tr>\n",
       "  </thead>\n",
       "  <tbody>\n",
       "    <tr>\n",
       "      <th>530</th>\n",
       "      <td>9812233</td>\n",
       "      <td>Vacuum amplification of the high-frequency ele...</td>\n",
       "      <td>G. A. Vilkovisky (Lebedev Institute)</td>\n",
       "      <td>1998-12-02</td>\n",
       "      <td>09be04ef4c0f6dd3183ecac4b90b7529d671ff6f9ae7a1...</td>\n",
       "    </tr>\n",
       "    <tr>\n",
       "      <th>531</th>\n",
       "      <td>9906241</td>\n",
       "      <td>The vacuum backreaction on a pair creating source</td>\n",
       "      <td>G. A. Vilkovisky (Lebedev Institute)</td>\n",
       "      <td>1999-06-03</td>\n",
       "      <td>09be04ef4c0f6dd3183ecac4b90b7529d671ff6f9ae7a1...</td>\n",
       "    </tr>\n",
       "  </tbody>\n",
       "</table>\n",
       "</div>"
      ],
      "text/plain": [
       "     ToNodeId                                              Title  \\\n",
       "530   9812233  Vacuum amplification of the high-frequency ele...   \n",
       "531   9906241  The vacuum backreaction on a pair creating source   \n",
       "\n",
       "                                  Authors        Date  \\\n",
       "530  G. A. Vilkovisky (Lebedev Institute)  1998-12-02   \n",
       "531  G. A. Vilkovisky (Lebedev Institute)  1999-06-03   \n",
       "\n",
       "                                                  Seed  \n",
       "530  09be04ef4c0f6dd3183ecac4b90b7529d671ff6f9ae7a1...  \n",
       "531  09be04ef4c0f6dd3183ecac4b90b7529d671ff6f9ae7a1...  "
      ]
     },
     "execution_count": 4,
     "metadata": {},
     "output_type": "execute_result"
    }
   ],
   "source": [
    "paperId_and_info_and_date_Seed[paperId_and_info_and_date_Seed['Seed']=='09be04ef4c0f6dd3183ecac4b90b7529d671ff6f9ae7a1f31369448a049b7dcf']"
   ]
  },
  {
   "cell_type": "code",
   "execution_count": 16,
   "metadata": {
    "scrolled": false
   },
   "outputs": [
    {
     "data": {
      "text/html": [
       "<div>\n",
       "<style scoped>\n",
       "    .dataframe tbody tr th:only-of-type {\n",
       "        vertical-align: middle;\n",
       "    }\n",
       "\n",
       "    .dataframe tbody tr th {\n",
       "        vertical-align: top;\n",
       "    }\n",
       "\n",
       "    .dataframe thead th {\n",
       "        text-align: right;\n",
       "    }\n",
       "</style>\n",
       "<table border=\"1\" class=\"dataframe\">\n",
       "  <thead>\n",
       "    <tr style=\"text-align: right;\">\n",
       "      <th></th>\n",
       "      <th>FromNodeId</th>\n",
       "      <th>ToNodeId</th>\n",
       "    </tr>\n",
       "  </thead>\n",
       "  <tbody>\n",
       "    <tr>\n",
       "      <th>0</th>\n",
       "      <td>9503222</td>\n",
       "      <td>9310202</td>\n",
       "    </tr>\n",
       "    <tr>\n",
       "      <th>1</th>\n",
       "      <td>9312207</td>\n",
       "      <td>9312202</td>\n",
       "    </tr>\n",
       "    <tr>\n",
       "      <th>2</th>\n",
       "      <td>9910201</td>\n",
       "      <td>9312206</td>\n",
       "    </tr>\n",
       "    <tr>\n",
       "      <th>3</th>\n",
       "      <td>9712226</td>\n",
       "      <td>9312206</td>\n",
       "    </tr>\n",
       "    <tr>\n",
       "      <th>4</th>\n",
       "      <td>9807210</td>\n",
       "      <td>9312206</td>\n",
       "    </tr>\n",
       "    <tr>\n",
       "      <th>...</th>\n",
       "      <td>...</td>\n",
       "      <td>...</td>\n",
       "    </tr>\n",
       "    <tr>\n",
       "      <th>1972</th>\n",
       "      <td>9912250</td>\n",
       "      <td>9912210</td>\n",
       "    </tr>\n",
       "    <tr>\n",
       "      <th>1973</th>\n",
       "      <td>9912235</td>\n",
       "      <td>9912219</td>\n",
       "    </tr>\n",
       "    <tr>\n",
       "      <th>1974</th>\n",
       "      <td>9912287</td>\n",
       "      <td>9912233</td>\n",
       "    </tr>\n",
       "    <tr>\n",
       "      <th>1975</th>\n",
       "      <td>9912278</td>\n",
       "      <td>9912248</td>\n",
       "    </tr>\n",
       "    <tr>\n",
       "      <th>1976</th>\n",
       "      <td>9912274</td>\n",
       "      <td>9912254</td>\n",
       "    </tr>\n",
       "  </tbody>\n",
       "</table>\n",
       "<p>1977 rows × 2 columns</p>\n",
       "</div>"
      ],
      "text/plain": [
       "      FromNodeId  ToNodeId\n",
       "0        9503222   9310202\n",
       "1        9312207   9312202\n",
       "2        9910201   9312206\n",
       "3        9712226   9312206\n",
       "4        9807210   9312206\n",
       "...          ...       ...\n",
       "1972     9912250   9912210\n",
       "1973     9912235   9912219\n",
       "1974     9912287   9912233\n",
       "1975     9912278   9912248\n",
       "1976     9912274   9912254\n",
       "\n",
       "[1977 rows x 2 columns]"
      ]
     },
     "execution_count": 16,
     "metadata": {},
     "output_type": "execute_result"
    }
   ],
   "source": [
    "citations_with_data= pd.read_csv('citations(hep-th)_with_Data.csv')\n",
    "citations_with_data"
   ]
  },
  {
   "cell_type": "code",
   "execution_count": 24,
   "metadata": {},
   "outputs": [
    {
     "name": "stdout",
     "output_type": "stream",
     "text": [
      "Il numero di articoli distinti in citations_with_data è 1066\n"
     ]
    }
   ],
   "source": [
    "AR1 = citations_with_data.FromNodeId.unique()\n",
    "AR2 = citations_with_data.ToNodeId.unique()\n",
    "\n",
    "uniqueArticlesCitation = np.concatenate([AR1,AR2])\n",
    "uniqueArticlesCitation = np.unique(uniqueArticlesCitation)\n",
    "print(f'Il numero di articoli distinti in citations_with_data è {len(uniqueArticlesCitation)}')\n",
    "\n",
    "#caricati[caricati['NodeId'].isin(sub_df['ToNodeId'].values)]['msgIdTangle'].values[0] "
   ]
  },
  {
   "cell_type": "code",
   "execution_count": 17,
   "metadata": {},
   "outputs": [
    {
     "data": {
      "text/plain": [
       "809"
      ]
     },
     "execution_count": 17,
     "metadata": {},
     "output_type": "execute_result"
    }
   ],
   "source": [
    "len(citations_with_data.FromNodeId.unique())"
   ]
  },
  {
   "cell_type": "code",
   "execution_count": 60,
   "metadata": {},
   "outputs": [
    {
     "data": {
      "text/plain": [
       "809"
      ]
     },
     "execution_count": 60,
     "metadata": {},
     "output_type": "execute_result"
    }
   ],
   "source": [
    "len(np.unique(citations_with_data.FromNodeId.values))"
   ]
  },
  {
   "cell_type": "code",
   "execution_count": 61,
   "metadata": {},
   "outputs": [
    {
     "data": {
      "text/plain": [
       "668"
      ]
     },
     "execution_count": 61,
     "metadata": {},
     "output_type": "execute_result"
    }
   ],
   "source": [
    "len(np.unique(citations_with_data.ToNodeId.values))"
   ]
  },
  {
   "cell_type": "code",
   "execution_count": 18,
   "metadata": {},
   "outputs": [
    {
     "name": "stdout",
     "output_type": "stream",
     "text": [
      "Il numero di autori distinti in citations_with_data è 878\n"
     ]
    }
   ],
   "source": [
    "#poiche dal set originale di citazioni sono state tolte quelle che non avevano dati corrispondenti\n",
    "#in paperId_and_info_and_date_Seed => controlliamo ora quanti sono gli autori distinti\n",
    "#che hanno scritto gli articoli contenuti in citations_with_data\n",
    "\n",
    "A1 = paperId_and_info_and_date_Seed[paperId_and_info_and_date_Seed['ToNodeId'].isin(citations_with_data['FromNodeId'].values)]['Authors'].values\n",
    "\n",
    "A2 = paperId_and_info_and_date_Seed[paperId_and_info_and_date_Seed['ToNodeId'].isin(citations_with_data['ToNodeId'].values)]['Authors'].values\n",
    "\n",
    "\n",
    "uniqueAuthors = np.concatenate([A1,A2])\n",
    "uniqueAuthors = np.unique(uniqueAuthors)\n",
    "print(f'Il numero di autori distinti in citations_with_data è {len(uniqueAuthors)}')\n",
    "\n",
    "#caricati[caricati['NodeId'].isin(sub_df['ToNodeId'].values)]['msgIdTangle'].values[0] "
   ]
  },
  {
   "cell_type": "code",
   "execution_count": null,
   "metadata": {},
   "outputs": [],
   "source": []
  },
  {
   "cell_type": "code",
   "execution_count": null,
   "metadata": {},
   "outputs": [],
   "source": []
  },
  {
   "cell_type": "code",
   "execution_count": null,
   "metadata": {},
   "outputs": [],
   "source": []
  },
  {
   "cell_type": "code",
   "execution_count": 20,
   "metadata": {},
   "outputs": [
    {
     "data": {
      "text/html": [
       "<div>\n",
       "<style scoped>\n",
       "    .dataframe tbody tr th:only-of-type {\n",
       "        vertical-align: middle;\n",
       "    }\n",
       "\n",
       "    .dataframe tbody tr th {\n",
       "        vertical-align: top;\n",
       "    }\n",
       "\n",
       "    .dataframe thead th {\n",
       "        text-align: right;\n",
       "    }\n",
       "</style>\n",
       "<table border=\"1\" class=\"dataframe\">\n",
       "  <thead>\n",
       "    <tr style=\"text-align: right;\">\n",
       "      <th></th>\n",
       "      <th>0</th>\n",
       "    </tr>\n",
       "  </thead>\n",
       "  <tbody>\n",
       "    <tr>\n",
       "      <th>0</th>\n",
       "      <td>9912293</td>\n",
       "    </tr>\n",
       "    <tr>\n",
       "      <th>1</th>\n",
       "      <td>9912292</td>\n",
       "    </tr>\n",
       "    <tr>\n",
       "      <th>2</th>\n",
       "      <td>9912290</td>\n",
       "    </tr>\n",
       "    <tr>\n",
       "      <th>3</th>\n",
       "      <td>9912287</td>\n",
       "    </tr>\n",
       "    <tr>\n",
       "      <th>4</th>\n",
       "      <td>9912285</td>\n",
       "    </tr>\n",
       "    <tr>\n",
       "      <th>...</th>\n",
       "      <td>...</td>\n",
       "    </tr>\n",
       "    <tr>\n",
       "      <th>1061</th>\n",
       "      <td>9312208</td>\n",
       "    </tr>\n",
       "    <tr>\n",
       "      <th>1062</th>\n",
       "      <td>9312207</td>\n",
       "    </tr>\n",
       "    <tr>\n",
       "      <th>1063</th>\n",
       "      <td>9312206</td>\n",
       "    </tr>\n",
       "    <tr>\n",
       "      <th>1064</th>\n",
       "      <td>9312202</td>\n",
       "    </tr>\n",
       "    <tr>\n",
       "      <th>1065</th>\n",
       "      <td>9310202</td>\n",
       "    </tr>\n",
       "  </tbody>\n",
       "</table>\n",
       "<p>1066 rows × 1 columns</p>\n",
       "</div>"
      ],
      "text/plain": [
       "            0\n",
       "0     9912293\n",
       "1     9912292\n",
       "2     9912290\n",
       "3     9912287\n",
       "4     9912285\n",
       "...       ...\n",
       "1061  9312208\n",
       "1062  9312207\n",
       "1063  9312206\n",
       "1064  9312202\n",
       "1065  9310202\n",
       "\n",
       "[1066 rows x 1 columns]"
      ]
     },
     "execution_count": 20,
     "metadata": {},
     "output_type": "execute_result"
    }
   ],
   "source": [
    "#contiene tutti i distinti nodi del grafo (From & To) \n",
    "TOPOLOGICAL_SORT_df= pd.read_csv('TOPOLOGICAL_SORT_df.csv')\n",
    "\n",
    "TOPOLOGICAL_SORT_df"
   ]
  },
  {
   "cell_type": "code",
   "execution_count": 223,
   "metadata": {},
   "outputs": [
    {
     "name": "stdout",
     "output_type": "stream",
     "text": [
      "257\n"
     ]
    }
   ],
   "source": [
    "frontiera = []\n",
    "\n",
    "for i in range(len(citations_with_data)):\n",
    "    if(citations_with_data.iloc[i]['ToNodeId']not in citations_with_data['FromNodeId'].values):\n",
    "        frontiera.append(citations_with_data.iloc[i]['ToNodeId'])\n",
    "\n",
    "frontiera = np.unique(frontiera)\n",
    "print(len(frontiera))\n"
   ]
  },
  {
   "cell_type": "code",
   "execution_count": 23,
   "metadata": {},
   "outputs": [],
   "source": [
    "#TOPOLOGICAL_SORT_df.tail(257)"
   ]
  },
  {
   "cell_type": "code",
   "execution_count": 232,
   "metadata": {},
   "outputs": [
    {
     "data": {
      "text/plain": [
       "1066"
      ]
     },
     "execution_count": 232,
     "metadata": {},
     "output_type": "execute_result"
    }
   ],
   "source": [
    "uniqueArticles = np.concatenate([citations_with_data['ToNodeId'].values,citations_with_data['FromNodeId'].values])\n",
    "uniqueArticles = np.unique(uniqueArticles)\n",
    "#len(uniqueArticles)\n"
   ]
  },
  {
   "cell_type": "markdown",
   "metadata": {},
   "source": [
    "# Analisi dei dataset generati da algo"
   ]
  },
  {
   "cell_type": "code",
   "execution_count": 48,
   "metadata": {
    "scrolled": false
   },
   "outputs": [
    {
     "data": {
      "text/html": [
       "<div>\n",
       "<style scoped>\n",
       "    .dataframe tbody tr th:only-of-type {\n",
       "        vertical-align: middle;\n",
       "    }\n",
       "\n",
       "    .dataframe tbody tr th {\n",
       "        vertical-align: top;\n",
       "    }\n",
       "\n",
       "    .dataframe thead th {\n",
       "        text-align: right;\n",
       "    }\n",
       "</style>\n",
       "<table border=\"1\" class=\"dataframe\">\n",
       "  <thead>\n",
       "    <tr style=\"text-align: right;\">\n",
       "      <th></th>\n",
       "      <th>FromNodeId</th>\n",
       "      <th>From_Author_Seed</th>\n",
       "      <th>ToNodeId</th>\n",
       "      <th>To_Author_Seed</th>\n",
       "    </tr>\n",
       "  </thead>\n",
       "  <tbody>\n",
       "    <tr>\n",
       "      <th>0</th>\n",
       "      <td>88cfad6b98a22e3fe83576b78ccde5e7f60c8d32f36d86...</td>\n",
       "      <td>c4a46746b60c6738c60fcd458ed1798b6b4acf606edeb4...</td>\n",
       "      <td>08c693a82264477e090a42379be0eeca61833b14d39371...</td>\n",
       "      <td>Not_available</td>\n",
       "    </tr>\n",
       "    <tr>\n",
       "      <th>1</th>\n",
       "      <td>283ddcb7e890c7873db3efa0870dd2bf88e9778b8d09e8...</td>\n",
       "      <td>33be2cf279fa9d545b648dfbda8f03c70000758e7e8bdc...</td>\n",
       "      <td>08c693a82264477e090a42379be0eeca61833b14d39371...</td>\n",
       "      <td>Not_available</td>\n",
       "    </tr>\n",
       "    <tr>\n",
       "      <th>2</th>\n",
       "      <td>da1a1d0400e943694d85a39574322c0e3394bc7ceaa7d6...</td>\n",
       "      <td>f9f119bcac7d31ca38ee3c7c800e14715e645f0e10fc59...</td>\n",
       "      <td>08c693a82264477e090a42379be0eeca61833b14d39371...</td>\n",
       "      <td>Not_available</td>\n",
       "    </tr>\n",
       "    <tr>\n",
       "      <th>3</th>\n",
       "      <td>c12ba1789989a60475d2486b117a0d272a0653edd5d692...</td>\n",
       "      <td>33be2cf279fa9d545b648dfbda8f03c70000758e7e8bdc...</td>\n",
       "      <td>283ddcb7e890c7873db3efa0870dd2bf88e9778b8d09e8...</td>\n",
       "      <td>33be2cf279fa9d545b648dfbda8f03c70000758e7e8bdc...</td>\n",
       "    </tr>\n",
       "    <tr>\n",
       "      <th>4</th>\n",
       "      <td>701a52af409928021531740186ffb4ad5dd81be8b3f550...</td>\n",
       "      <td>5a3d33b5718e1fc877530b74b1a7fcb28fc9f701946a94...</td>\n",
       "      <td>08c693a82264477e090a42379be0eeca61833b14d39371...</td>\n",
       "      <td>Not_available</td>\n",
       "    </tr>\n",
       "    <tr>\n",
       "      <th>...</th>\n",
       "      <td>...</td>\n",
       "      <td>...</td>\n",
       "      <td>...</td>\n",
       "      <td>...</td>\n",
       "    </tr>\n",
       "    <tr>\n",
       "      <th>2190</th>\n",
       "      <td>26ae2d80fc0f17a624662ea501f38f731955487206785d...</td>\n",
       "      <td>9339a4abbb9ab0b0c5676aef38dc6fa5693910af172ff1...</td>\n",
       "      <td>7cb676f022c6aae4ba46ab50144f15227e23dd0cd11daa...</td>\n",
       "      <td>75c1fe5a30a5813254fd61e0e0cb5fae53d0f6b57177cf...</td>\n",
       "    </tr>\n",
       "    <tr>\n",
       "      <th>2191</th>\n",
       "      <td>26ae2d80fc0f17a624662ea501f38f731955487206785d...</td>\n",
       "      <td>9339a4abbb9ab0b0c5676aef38dc6fa5693910af172ff1...</td>\n",
       "      <td>b4ffcbe18ad10ddaa6134abad23ee64239c57938353d72...</td>\n",
       "      <td>e727f73f479a8c5e204e8ba140087ce4dd9a8ca8c51ea5...</td>\n",
       "    </tr>\n",
       "    <tr>\n",
       "      <th>2192</th>\n",
       "      <td>26ae2d80fc0f17a624662ea501f38f731955487206785d...</td>\n",
       "      <td>9339a4abbb9ab0b0c5676aef38dc6fa5693910af172ff1...</td>\n",
       "      <td>ee3eca51518954494a04ea586ab278aec6edea952d4bd3...</td>\n",
       "      <td>4943ac1c40ff8499b826a41b48b624d28b4d6fb9ee2bb5...</td>\n",
       "    </tr>\n",
       "    <tr>\n",
       "      <th>2193</th>\n",
       "      <td>26ae2d80fc0f17a624662ea501f38f731955487206785d...</td>\n",
       "      <td>9339a4abbb9ab0b0c5676aef38dc6fa5693910af172ff1...</td>\n",
       "      <td>fad8a7a118a8b40794d0b0649a2b958bbe633592f61b97...</td>\n",
       "      <td>6a37e875902a1248b7ec4abb38e17a6339dccac5c6b6b2...</td>\n",
       "    </tr>\n",
       "    <tr>\n",
       "      <th>2194</th>\n",
       "      <td>7343e02f2e0a0da7654e872f100e452a2e1e9ed3385c35...</td>\n",
       "      <td>84bb9b552dc91a514533939d58f3abe67a61d669fd04fb...</td>\n",
       "      <td>1cbb4e150f79490c480e649d3e7904edb23a38ad1022d5...</td>\n",
       "      <td>6e1f44de4931aec43094311e3143617ea3e0c82131c925...</td>\n",
       "    </tr>\n",
       "  </tbody>\n",
       "</table>\n",
       "<p>2195 rows × 4 columns</p>\n",
       "</div>"
      ],
      "text/plain": [
       "                                             FromNodeId  \\\n",
       "0     88cfad6b98a22e3fe83576b78ccde5e7f60c8d32f36d86...   \n",
       "1     283ddcb7e890c7873db3efa0870dd2bf88e9778b8d09e8...   \n",
       "2     da1a1d0400e943694d85a39574322c0e3394bc7ceaa7d6...   \n",
       "3     c12ba1789989a60475d2486b117a0d272a0653edd5d692...   \n",
       "4     701a52af409928021531740186ffb4ad5dd81be8b3f550...   \n",
       "...                                                 ...   \n",
       "2190  26ae2d80fc0f17a624662ea501f38f731955487206785d...   \n",
       "2191  26ae2d80fc0f17a624662ea501f38f731955487206785d...   \n",
       "2192  26ae2d80fc0f17a624662ea501f38f731955487206785d...   \n",
       "2193  26ae2d80fc0f17a624662ea501f38f731955487206785d...   \n",
       "2194  7343e02f2e0a0da7654e872f100e452a2e1e9ed3385c35...   \n",
       "\n",
       "                                       From_Author_Seed  \\\n",
       "0     c4a46746b60c6738c60fcd458ed1798b6b4acf606edeb4...   \n",
       "1     33be2cf279fa9d545b648dfbda8f03c70000758e7e8bdc...   \n",
       "2     f9f119bcac7d31ca38ee3c7c800e14715e645f0e10fc59...   \n",
       "3     33be2cf279fa9d545b648dfbda8f03c70000758e7e8bdc...   \n",
       "4     5a3d33b5718e1fc877530b74b1a7fcb28fc9f701946a94...   \n",
       "...                                                 ...   \n",
       "2190  9339a4abbb9ab0b0c5676aef38dc6fa5693910af172ff1...   \n",
       "2191  9339a4abbb9ab0b0c5676aef38dc6fa5693910af172ff1...   \n",
       "2192  9339a4abbb9ab0b0c5676aef38dc6fa5693910af172ff1...   \n",
       "2193  9339a4abbb9ab0b0c5676aef38dc6fa5693910af172ff1...   \n",
       "2194  84bb9b552dc91a514533939d58f3abe67a61d669fd04fb...   \n",
       "\n",
       "                                               ToNodeId  \\\n",
       "0     08c693a82264477e090a42379be0eeca61833b14d39371...   \n",
       "1     08c693a82264477e090a42379be0eeca61833b14d39371...   \n",
       "2     08c693a82264477e090a42379be0eeca61833b14d39371...   \n",
       "3     283ddcb7e890c7873db3efa0870dd2bf88e9778b8d09e8...   \n",
       "4     08c693a82264477e090a42379be0eeca61833b14d39371...   \n",
       "...                                                 ...   \n",
       "2190  7cb676f022c6aae4ba46ab50144f15227e23dd0cd11daa...   \n",
       "2191  b4ffcbe18ad10ddaa6134abad23ee64239c57938353d72...   \n",
       "2192  ee3eca51518954494a04ea586ab278aec6edea952d4bd3...   \n",
       "2193  fad8a7a118a8b40794d0b0649a2b958bbe633592f61b97...   \n",
       "2194  1cbb4e150f79490c480e649d3e7904edb23a38ad1022d5...   \n",
       "\n",
       "                                         To_Author_Seed  \n",
       "0                                         Not_available  \n",
       "1                                         Not_available  \n",
       "2                                         Not_available  \n",
       "3     33be2cf279fa9d545b648dfbda8f03c70000758e7e8bdc...  \n",
       "4                                         Not_available  \n",
       "...                                                 ...  \n",
       "2190  75c1fe5a30a5813254fd61e0e0cb5fae53d0f6b57177cf...  \n",
       "2191  e727f73f479a8c5e204e8ba140087ce4dd9a8ca8c51ea5...  \n",
       "2192  4943ac1c40ff8499b826a41b48b624d28b4d6fb9ee2bb5...  \n",
       "2193  6a37e875902a1248b7ec4abb38e17a6339dccac5c6b6b2...  \n",
       "2194  6e1f44de4931aec43094311e3143617ea3e0c82131c925...  \n",
       "\n",
       "[2195 rows x 4 columns]"
      ]
     },
     "execution_count": 48,
     "metadata": {},
     "output_type": "execute_result"
    }
   ],
   "source": [
    "DB_articles_authors = pd.read_csv('./DB_articles_authors2.csv')\n",
    "DB_articles_authors"
   ]
  },
  {
   "cell_type": "code",
   "execution_count": 47,
   "metadata": {},
   "outputs": [
    {
     "name": "stdout",
     "output_type": "stream",
     "text": [
      "08c693a82264477e090a42379be0eeca61833b14d3937118615c57330e765712\n",
      "257\n"
     ]
    }
   ],
   "source": [
    "print(np.unique(DB_art_auth.ToNodeId,return_counts=True)[0][17])\n",
    "print(np.unique(DB_art_auth.ToNodeId,return_counts=True)[1][17])\n"
   ]
  },
  {
   "cell_type": "code",
   "execution_count": 30,
   "metadata": {},
   "outputs": [
    {
     "name": "stdout",
     "output_type": "stream",
     "text": [
      "Il numero di autori distinti in DB_art_auth è 879\n"
     ]
    }
   ],
   "source": [
    "AR1 = DB_art_auth.From_Author_Seed.unique()\n",
    "AR2 = DB_art_auth.To_Author_Seed.unique()\n",
    "\n",
    "uniqueArticles = np.concatenate([AR1,AR2])\n",
    "uniqueArticles = np.unique(uniqueArticles)\n",
    "print(f'Il numero di autori distinti in DB_art_auth è {len(uniqueArticles)}')\n",
    "\n",
    "#caricati[caricati['NodeId'].isin(sub_df['ToNodeId'].values)]['msgIdTangle'].values[0] "
   ]
  },
  {
   "cell_type": "code",
   "execution_count": 29,
   "metadata": {},
   "outputs": [
    {
     "name": "stdout",
     "output_type": "stream",
     "text": [
      "Il numero di articoli distinti in citations_with_data è 1067\n"
     ]
    }
   ],
   "source": [
    "AR1 = DB_art_auth.FromNodeId.unique()\n",
    "AR2 = DB_art_auth.ToNodeId.unique()\n",
    "\n",
    "uniqueArticles = np.concatenate([AR1,AR2])\n",
    "uniqueArticles = np.unique(uniqueArticles)\n",
    "print(f'Il numero di articoli distinti in DB_art_auth è {len(uniqueArticles)}')\n",
    "\n",
    "#caricati[caricati['NodeId'].isin(sub_df['ToNodeId'].values)]['msgIdTangle'].values[0] "
   ]
  },
  {
   "cell_type": "code",
   "execution_count": null,
   "metadata": {},
   "outputs": [],
   "source": []
  },
  {
   "cell_type": "code",
   "execution_count": null,
   "metadata": {},
   "outputs": [],
   "source": []
  },
  {
   "cell_type": "code",
   "execution_count": null,
   "metadata": {},
   "outputs": [],
   "source": []
  },
  {
   "cell_type": "code",
   "execution_count": 6,
   "metadata": {},
   "outputs": [
    {
     "data": {
      "text/plain": [
       "1066"
      ]
     },
     "execution_count": 6,
     "metadata": {},
     "output_type": "execute_result"
    }
   ],
   "source": [
    "len(np.unique(DB_art_auth.FromNodeId.values))"
   ]
  },
  {
   "cell_type": "code",
   "execution_count": 7,
   "metadata": {},
   "outputs": [
    {
     "data": {
      "text/plain": [
       "878"
      ]
     },
     "execution_count": 7,
     "metadata": {},
     "output_type": "execute_result"
    }
   ],
   "source": [
    "len(np.unique(DB_art_auth.From_Author_Seed.values))"
   ]
  },
  {
   "cell_type": "code",
   "execution_count": 8,
   "metadata": {},
   "outputs": [
    {
     "data": {
      "text/plain": [
       "663"
      ]
     },
     "execution_count": 8,
     "metadata": {},
     "output_type": "execute_result"
    }
   ],
   "source": [
    "len(np.unique(DB_art_auth.ToNodeId.values))"
   ]
  },
  {
   "cell_type": "code",
   "execution_count": 9,
   "metadata": {},
   "outputs": [
    {
     "data": {
      "text/plain": [
       "574"
      ]
     },
     "execution_count": 9,
     "metadata": {},
     "output_type": "execute_result"
    }
   ],
   "source": [
    "len(np.unique(DB_art_auth.To_Author_Seed.values))"
   ]
  },
  {
   "cell_type": "code",
   "execution_count": 311,
   "metadata": {},
   "outputs": [
    {
     "data": {
      "text/plain": [
       "1067"
      ]
     },
     "execution_count": 311,
     "metadata": {},
     "output_type": "execute_result"
    }
   ],
   "source": [
    "# num articoli distinti caricati\n",
    "uniqueNodes = np.concatenate([\n",
    "np.unique(DB_art_auth.FromNodeId.values),np.unique(DB_art_auth.ToNodeId.values)])\n",
    "uniqueNodes = np.unique(uniqueNodes)\n",
    "len(uniqueNodes)"
   ]
  },
  {
   "cell_type": "code",
   "execution_count": 312,
   "metadata": {},
   "outputs": [
    {
     "data": {
      "text/plain": [
       "879"
      ]
     },
     "execution_count": 312,
     "metadata": {},
     "output_type": "execute_result"
    }
   ],
   "source": [
    "# num autori distinti caricati\n",
    "\n",
    "uniqueNodes = np.concatenate([\n",
    "np.unique(DB_art_auth.From_Author_Seed.values),np.unique(DB_art_auth.To_Author_Seed.values)])\n",
    "uniqueNodes = np.unique(uniqueNodes)\n",
    "len(uniqueNodes)"
   ]
  },
  {
   "cell_type": "code",
   "execution_count": null,
   "metadata": {},
   "outputs": [],
   "source": []
  },
  {
   "cell_type": "code",
   "execution_count": null,
   "metadata": {},
   "outputs": [],
   "source": []
  },
  {
   "cell_type": "code",
   "execution_count": 317,
   "metadata": {},
   "outputs": [
    {
     "data": {
      "text/html": [
       "<div>\n",
       "<style scoped>\n",
       "    .dataframe tbody tr th:only-of-type {\n",
       "        vertical-align: middle;\n",
       "    }\n",
       "\n",
       "    .dataframe tbody tr th {\n",
       "        vertical-align: top;\n",
       "    }\n",
       "\n",
       "    .dataframe thead th {\n",
       "        text-align: right;\n",
       "    }\n",
       "</style>\n",
       "<table border=\"1\" class=\"dataframe\">\n",
       "  <thead>\n",
       "    <tr style=\"text-align: right;\">\n",
       "      <th></th>\n",
       "      <th>From</th>\n",
       "      <th>To</th>\n",
       "      <th>Weight</th>\n",
       "    </tr>\n",
       "  </thead>\n",
       "  <tbody>\n",
       "    <tr>\n",
       "      <th>0</th>\n",
       "      <td>00168ef7c9a4fed70901c32e2a3311a60893e328859fcd...</td>\n",
       "      <td>8461c5ed9597d635ec105c100be87336126720a6d9cdf6...</td>\n",
       "      <td>1</td>\n",
       "    </tr>\n",
       "    <tr>\n",
       "      <th>1</th>\n",
       "      <td>8461c5ed9597d635ec105c100be87336126720a6d9cdf6...</td>\n",
       "      <td>74627ea4caae01cd5889f6003e3e315063757c7ab3c338...</td>\n",
       "      <td>1</td>\n",
       "    </tr>\n",
       "    <tr>\n",
       "      <th>2</th>\n",
       "      <td>8461c5ed9597d635ec105c100be87336126720a6d9cdf6...</td>\n",
       "      <td>b1020eaf9b02c1f001f476ef44fb0f92e032f5b03ec676...</td>\n",
       "      <td>1</td>\n",
       "    </tr>\n",
       "    <tr>\n",
       "      <th>3</th>\n",
       "      <td>8461c5ed9597d635ec105c100be87336126720a6d9cdf6...</td>\n",
       "      <td>b52a7b6e1bfab89d73c164c9131936f47a0aba383c2106...</td>\n",
       "      <td>2</td>\n",
       "    </tr>\n",
       "    <tr>\n",
       "      <th>4</th>\n",
       "      <td>00a5614eecf54e2d713de00b7a6a75814ca14d57327791...</td>\n",
       "      <td>cccdcf360fd819c26119284d841a2492a2e84b03b1ebac...</td>\n",
       "      <td>1</td>\n",
       "    </tr>\n",
       "    <tr>\n",
       "      <th>...</th>\n",
       "      <td>...</td>\n",
       "      <td>...</td>\n",
       "      <td>...</td>\n",
       "    </tr>\n",
       "    <tr>\n",
       "      <th>2727</th>\n",
       "      <td>feca281ea68a9c47ec6fb59ec5d9f31d76105ad9d058a0...</td>\n",
       "      <td>4d0a038f1ad4dd45c68dcb1bc684c3081f99325da1f99f...</td>\n",
       "      <td>1</td>\n",
       "    </tr>\n",
       "    <tr>\n",
       "      <th>2728</th>\n",
       "      <td>feca281ea68a9c47ec6fb59ec5d9f31d76105ad9d058a0...</td>\n",
       "      <td>67d4d4ae9ec71f02534f69e444bb24d4058c9ceff8b9ab...</td>\n",
       "      <td>1</td>\n",
       "    </tr>\n",
       "    <tr>\n",
       "      <th>2729</th>\n",
       "      <td>feca281ea68a9c47ec6fb59ec5d9f31d76105ad9d058a0...</td>\n",
       "      <td>f7893c29b24b0722f592f514f3faa05928eb0c7db80cb7...</td>\n",
       "      <td>1</td>\n",
       "    </tr>\n",
       "    <tr>\n",
       "      <th>2730</th>\n",
       "      <td>ff24acad38556b1c8d521f449c0399008632be8d96b0c2...</td>\n",
       "      <td>0f4bdd6c320f8c7d2def0085244785fcc9b841c6a28249...</td>\n",
       "      <td>2</td>\n",
       "    </tr>\n",
       "    <tr>\n",
       "      <th>2731</th>\n",
       "      <td>ff24acad38556b1c8d521f449c0399008632be8d96b0c2...</td>\n",
       "      <td>7c7699a363945e1b8c78c1cb3033b2871ff3dd535455d5...</td>\n",
       "      <td>1</td>\n",
       "    </tr>\n",
       "  </tbody>\n",
       "</table>\n",
       "<p>2732 rows × 3 columns</p>\n",
       "</div>"
      ],
      "text/plain": [
       "                                                   From  \\\n",
       "0     00168ef7c9a4fed70901c32e2a3311a60893e328859fcd...   \n",
       "1     8461c5ed9597d635ec105c100be87336126720a6d9cdf6...   \n",
       "2     8461c5ed9597d635ec105c100be87336126720a6d9cdf6...   \n",
       "3     8461c5ed9597d635ec105c100be87336126720a6d9cdf6...   \n",
       "4     00a5614eecf54e2d713de00b7a6a75814ca14d57327791...   \n",
       "...                                                 ...   \n",
       "2727  feca281ea68a9c47ec6fb59ec5d9f31d76105ad9d058a0...   \n",
       "2728  feca281ea68a9c47ec6fb59ec5d9f31d76105ad9d058a0...   \n",
       "2729  feca281ea68a9c47ec6fb59ec5d9f31d76105ad9d058a0...   \n",
       "2730  ff24acad38556b1c8d521f449c0399008632be8d96b0c2...   \n",
       "2731  ff24acad38556b1c8d521f449c0399008632be8d96b0c2...   \n",
       "\n",
       "                                                     To  Weight  \n",
       "0     8461c5ed9597d635ec105c100be87336126720a6d9cdf6...       1  \n",
       "1     74627ea4caae01cd5889f6003e3e315063757c7ab3c338...       1  \n",
       "2     b1020eaf9b02c1f001f476ef44fb0f92e032f5b03ec676...       1  \n",
       "3     b52a7b6e1bfab89d73c164c9131936f47a0aba383c2106...       2  \n",
       "4     cccdcf360fd819c26119284d841a2492a2e84b03b1ebac...       1  \n",
       "...                                                 ...     ...  \n",
       "2727  4d0a038f1ad4dd45c68dcb1bc684c3081f99325da1f99f...       1  \n",
       "2728  67d4d4ae9ec71f02534f69e444bb24d4058c9ceff8b9ab...       1  \n",
       "2729  f7893c29b24b0722f592f514f3faa05928eb0c7db80cb7...       1  \n",
       "2730  0f4bdd6c320f8c7d2def0085244785fcc9b841c6a28249...       2  \n",
       "2731  7c7699a363945e1b8c78c1cb3033b2871ff3dd535455d5...       1  \n",
       "\n",
       "[2732 rows x 3 columns]"
      ]
     },
     "execution_count": 317,
     "metadata": {},
     "output_type": "execute_result"
    }
   ],
   "source": [
    "Graph = pd.read_csv('./graph.csv', sep=' ')\n",
    "\n",
    "'''\n",
    "\n",
    "serie = np.arange(len(Graph))\n",
    "print(serie)\n",
    "\n",
    "Graph.set_index(serie, inplace = True)\n",
    "'''\n",
    "Graph"
   ]
  },
  {
   "cell_type": "code",
   "execution_count": 318,
   "metadata": {},
   "outputs": [
    {
     "data": {
      "text/plain": [
       "876"
      ]
     },
     "execution_count": 318,
     "metadata": {},
     "output_type": "execute_result"
    }
   ],
   "source": [
    "len(np.unique(Graph.From.values))"
   ]
  },
  {
   "cell_type": "code",
   "execution_count": 319,
   "metadata": {},
   "outputs": [
    {
     "data": {
      "text/plain": [
       "715"
      ]
     },
     "execution_count": 319,
     "metadata": {},
     "output_type": "execute_result"
    }
   ],
   "source": [
    "len(np.unique(Graph.To.values))"
   ]
  },
  {
   "cell_type": "code",
   "execution_count": 336,
   "metadata": {},
   "outputs": [
    {
     "data": {
      "text/plain": [
       "<AxesSubplot:>"
      ]
     },
     "execution_count": 336,
     "metadata": {},
     "output_type": "execute_result"
    },
    {
     "data": {
      "image/png": "[encoded data removed]",
      "text/plain": [
       "<Figure size 432x288 with 1 Axes>"
      ]
     },
     "metadata": {
      "needs_background": "light"
     },
     "output_type": "display_data"
    }
   ],
   "source": [
    "Graph.sort_values(by='Weight',inplace =True)\n",
    "Graph.reset_index(drop = True, inplace = True)\n",
    "Graph['Weight'].plot()"
   ]
  },
  {
   "cell_type": "code",
   "execution_count": 192,
   "metadata": {},
   "outputs": [
    {
     "data": {
      "text/plain": [
       "877"
      ]
     },
     "execution_count": 192,
     "metadata": {},
     "output_type": "execute_result"
    }
   ],
   "source": [
    "uniqueNodes = np.concatenate([np.unique(Graph.From.values),np.unique(Graph.To.values)])\n",
    "uniqueNodes = np.unique(uniqueNodes)\n",
    "len(uniqueNodes)"
   ]
  },
  {
   "cell_type": "code",
   "execution_count": null,
   "metadata": {},
   "outputs": [],
   "source": []
  },
  {
   "cell_type": "code",
   "execution_count": null,
   "metadata": {},
   "outputs": [],
   "source": []
  }
 ],
 "metadata": {
  "kernelspec": {
   "display_name": "Python 3",
   "language": "python",
   "name": "python3"
  },
  "language_info": {
   "codemirror_mode": {
    "name": "ipython",
    "version": 3
   },
   "file_extension": ".py",
   "mimetype": "text/x-python",
   "name": "python",
   "nbconvert_exporter": "python",
   "pygments_lexer": "ipython3",
   "version": "3.8.5"
  }
 },
 "nbformat": 4,
 "nbformat_minor": 4
}
